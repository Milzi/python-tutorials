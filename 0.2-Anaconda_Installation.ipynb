{
 "cells": [
  {
   "cell_type": "markdown",
   "metadata": {},
   "source": [
    "In this notebook you will find how to:\n",
    "\n",
    "&nbsp;&nbsp;&nbsp;&nbsp;&nbsp;<a href=\"#I\">I. Install Anaconda</a>\n",
    "\n",
    "&nbsp;&nbsp;&nbsp;&nbsp;&nbsp;<a href=\"#II\">II. Use Anaconda</a>\n",
    "\n",
    "&nbsp;&nbsp;&nbsp;&nbsp;&nbsp;<a href=\"#III\">III. Install Anaconda Environment</a>"
   ]
  },
  {
   "cell_type": "markdown",
   "metadata": {},
   "source": [
    "#  Install Anaconda\n",
    "Please follow the installation steps according to your operating system.\n",
    "<div id='I'><a name='I'></a></div>"
   ]
  },
  {
   "cell_type": "markdown",
   "metadata": {},
   "source": [
    "##   For Linux users\n",
    "\n",
    "[Click and download the Anaconda installer for Linux.](http://continuum.io/downloads.html).\n",
    "\n",
    "Choose version **3.5 or higher**.\n",
    "\n",
    "Open your terminal and type the following command\n",
    "\n",
    "<p>&nbsp;&nbsp;&nbsp;&nbsp;&nbsp;<span style=\"background-color:#d2d2d2\">        &#36; bash ~/Downloads/Anaconda3-4.2.0-Linux-x86_64.sh </span></p>\n",
    "Change ~/Downloads with your actual path and Anaconda3-4.2.0-Linux-x86_64.sh with your actual file name.\n",
    "After installing anaconda successfully run the following command in your terminal:\n",
    "<p>&nbsp;&nbsp;&nbsp;&nbsp;&nbsp;<span style=\"background-color:#d2d2d2\">export PATH=\"~/anaconda3/bin:$PATH\"</span></p>\n",
    "\n",
    "Run in your command line: \n",
    "\n",
    "<p>&nbsp;&nbsp;&nbsp;&nbsp;&nbsp;<span style=\"background-color:#d2d2d2\">nano ~/.bashrc </span></p>\n",
    "\n",
    "Add the following line: \n",
    "\n",
    "&nbsp;&nbsp;&nbsp;&nbsp; export PATH=~/anaconda3/bin:$PATH\n",
    " \n",
    "Save and close the editor.\n",
    " \n",
    "Finally, close and re-open your terminal so the changes can take effect.\n",
    "\n",
    "You can check your installation by typing conda \"list command\" in your terminal. If anaconda is susccessfully installed this command will display a list of installed packages.\n",
    "\n"
   ]
  },
  {
   "cell_type": "markdown",
   "metadata": {},
   "source": [
    "##  For Windows users\n",
    "\n",
    "[Click and download the Anaconda installer for Windows.](http://continuum.io/downloads.html) \n",
    "\n",
    "Choose version **3.5 or higher**.\n",
    "\n",
    "Double click the Anaconda installer and follow the prompts.\n",
    "\n",
    "You can check your installation by typing conda \"list command\" in your Command Prompt. If anaconda is susccessfully installed this command will display a list of installed packages.\n"
   ]
  },
  {
   "cell_type": "markdown",
   "metadata": {},
   "source": [
    "##  For OS X users\n",
    "\n",
    "[Click and download the Anaconda installer for OS X.](http://continuum.io/downloads.html) \n",
    "\n",
    "\n",
    "Download the command line installer for Anaconda with Python **3.5 or higher**.\n",
    "\n",
    "Run the following command line:\n",
    "<p>&nbsp;&nbsp;&nbsp;&nbsp;&nbsp;<span style=\"background-color:#d2d2d2\"> &#36; bash ~/Downloads/Anaconda3-4.2.0-MacOSX-x86_64.sh</span></p>\n",
    "\n",
    "Change ~/Downloads with your actual path and Anaconda3-4.2.0-MacOSX-x86_64.sh with your actual file name.\n",
    "\n",
    "If your installation is successfull , the message “Installation finished.” will be displayed.\n",
    "\n"
   ]
  },
  {
   "cell_type": "markdown",
   "metadata": {},
   "source": [
    "#  Use Anaconda\n",
    "<div id='II'><a name='II'></a></div>"
   ]
  },
  {
   "cell_type": "markdown",
   "metadata": {},
   "source": [
    "##  Launch Anaconda\n",
    "\n",
    "You can run anaconda navigator via the following command line:\n",
    "\n",
    "<p>&nbsp;&nbsp;&nbsp;&nbsp;&nbsp;<span style=\"background-color:#d2d2d2\"> &#36; anaconda-navigator</span></p>\n",
    "\n",
    "You can run the **jupyter notebook** via the following command line:\n",
    "\n",
    "<p>&nbsp;&nbsp;&nbsp;&nbsp;&nbsp;<span style=\"background-color:#d2d2d2\"> &#36; jupyter notebook</span></p>\n"
   ]
  },
  {
   "cell_type": "markdown",
   "metadata": {},
   "source": [
    "##  Install package\n",
    "\n",
    "To install a package, open your terminal window and type the following command to install for example the \"atlas\" package:\n",
    "<p>&nbsp;&nbsp;&nbsp;&nbsp;&nbsp;<span style=\"background-color:#d2d2d2\"> &#36; conda update conda </span></p>\n",
    "<p>&nbsp;&nbsp;&nbsp;&nbsp;&nbsp;<span style=\"background-color:#d2d2d2\">  &#36; conda install atlas </span></p>\n",
    "Or you can launch the Anaconda Navigator with the command line: \n",
    "<p>&nbsp;&nbsp;&nbsp;&nbsp;&nbsp;<span style=\"background-color:#d2d2d2\"> &#36; anaconda-navigator</span></p>\n",
    "\n",
    "The graphic interface of anaconda navigator will appear. Go to the environments in the left side and choose not installed and you will get this interface.\n",
    "\n",
    "![Install package](images/Images/iNSTAL.png)\n",
    "\n",
    "Check any package you want, hit apply which will appear in the bottom and then accept the installation of the new package.\n",
    "\n",
    "\n"
   ]
  },
  {
   "cell_type": "markdown",
   "metadata": {
    "collapsed": true
   },
   "source": [
    "##  Update package\n",
    "\n",
    "To update a package, open your terminal window and type the following command to update for example the \"atlas\" package:\n",
    "<p>&nbsp;&nbsp;&nbsp;&nbsp;&nbsp;<span style=\"background-color:#d2d2d2\"> &#36; conda update conda</span></p>\n",
    "<p>&nbsp;&nbsp;&nbsp;&nbsp;&nbsp;<span style=\"background-color:#d2d2d2\">  &#36; conda update atlas </span></p>\n",
    "\n",
    "Or you can launch the Anaconda Navigator with the command line: \n",
    "<p>&nbsp;&nbsp;&nbsp;&nbsp;&nbsp;<span style=\"background-color:#d2d2d2\"> &#36; anaconda-navigator</span></p>\n",
    "\n",
    "The graphic interface of anaconda navigator will appear. Go to the environments in the left side and you will get this interface.\n",
    "Click on the blue arrow corresponding to the chosen package and then hit apply which is in the bottom and then hit ok.\n",
    "\n",
    "\n",
    "![Update package](images/Images/update.png)\n"
   ]
  },
  {
   "cell_type": "markdown",
   "metadata": {},
   "source": [
    "# Install Anaconda Environment\n",
    "<div id='III'><a name='III'></a></div>\n",
    "\n",
    "You can extract the list of installed packages via this command line:\n",
    "\n",
    "<p>&nbsp;&nbsp;&nbsp;&nbsp;&nbsp;<span style=\"background-color:#d2d2d2\"> &#36; conda list -e > req.txt</span></p>\n",
    "\n",
    "You can install the environment requirement file\n",
    "\n",
    "<p>&nbsp;&nbsp;&nbsp;&nbsp;&nbsp;<span style=\"background-color:#d2d2d2\"> &#36; conda create -n new environment --file req.txt</span></p>\n",
    "\n",
    "\n",
    "\n"
   ]
  },
  {
   "cell_type": "markdown",
   "metadata": {},
   "source": [
    "# Reference\n",
    "https://www.continuum.io/downloads"
   ]
  }
 ],
 "metadata": {
  "anaconda-cloud": {},
  "kernelspec": {
   "display_name": "Python [conda root]",
   "language": "python",
   "name": "conda-root-py"
  },
  "language_info": {
   "codemirror_mode": {
    "name": "ipython",
    "version": 3
   },
   "file_extension": ".py",
   "mimetype": "text/x-python",
   "name": "python",
   "nbconvert_exporter": "python",
   "pygments_lexer": "ipython3",
   "version": "3.5.2"
  },
  "toc": {
   "colors": {
    "hover_highlight": "#DAA520",
    "running_highlight": "#FF0000",
    "selected_highlight": "#FFD700"
   },
   "moveMenuLeft": true,
   "nav_menu": {
    "height": "198px",
    "width": "252px"
   },
   "navigate_menu": true,
   "number_sections": true,
   "sideBar": true,
   "threshold": 4,
   "toc_cell": false,
   "toc_section_display": "block",
   "toc_window_display": false
  }
 },
 "nbformat": 4,
 "nbformat_minor": 1
}
