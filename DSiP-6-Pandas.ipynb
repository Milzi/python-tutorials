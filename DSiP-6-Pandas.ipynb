{
 "cells": [
  {
   "cell_type": "markdown",
   "metadata": {
    "slideshow": {
     "slide_type": "slide"
    }
   },
   "source": [
    "# Scientific Programming in Python (SPiP) - Data Analysis with Pandas\n",
    "\n",
    "\n",
    "by [Michael Granitzer (michael.granitzer@uni-passau.de)](http://www.mendeley.com/profiles/michael-granitzer/) \n",
    "\n",
    "based on the following sources\n",
    "\n",
    "* [Pandas Documentation](http://pandas.pydata.org/pandas-docs/stable/pandas.pdf)\n",
    "* [Marcel Caraciolo](https://github.com/marcelcaraciolo), \n",
    "  [Big Data Tutorial](https://github.com/marcelcaraciolo/big-data-tutorial)\n",
    "\n",
    "\n",
    "__License__\n",
    "\n",
    "This work is licensed under a [Creative Commons Attribution 3.0 Unported License](http://creativecommons.org/licenses/by/3.0/)"
   ]
  },
  {
   "cell_type": "markdown",
   "metadata": {
    "slideshow": {
     "slide_type": "subslide"
    }
   },
   "source": [
    "#Content and Goals\n",
    "\n",
    "##Content\n",
    "\n",
    "* What is Pandas?\n",
    "* Basic Data Structures: Series and Data Frame\n",
    "* Basic Functions\n",
    "* Descriptive statistic\n",
    "* IO Tools\n",
    "* Visualisation with Pandas\n",
    "\n",
    "##Goals \n",
    "* Multivariate Data processing\n",
    "* Loading, filtering, analysing data sets\n",
    "* Basic visualisation/plotting functions\n"
   ]
  },
  {
   "cell_type": "markdown",
   "metadata": {
    "slideshow": {
     "slide_type": "slide"
    }
   },
   "source": [
    "# 1. What is Pandas\n",
    "\n",
    "*pandas is a Python package providing fast, ﬂexible, and expressive data structures designed to make working with\n",
    "“relational” or “labeled” data both easy and intuitive. It aims to be the fundamental high-level building block for doing\n",
    "practical, real world data analysis in Python* (http://pandas.pydata.org/) \n",
    "\n",
    "Pandas builds on top of Numpy to ease managing heterogeneous data sets.\n"
   ]
  },
  {
   "cell_type": "markdown",
   "metadata": {
    "slideshow": {
     "slide_type": "subslide"
    }
   },
   "source": [
    "## 1.1 Data Handled by Pandas\n",
    "\n",
    "Pandas is well suited for many different kinds of data:\n",
    "\n",
    "* Tabular data with heterogeneously-typed columns (comparable to EXCEL, R or relational Databases)\n",
    "* Time series data\n",
    "*  Matrix data(homogeneously typed or heterogeneous) with row and column labels\n",
    "* Any other form of observational / statistical data sets. \n"
   ]
  },
  {
   "cell_type": "markdown",
   "metadata": {
    "slideshow": {
     "slide_type": "subslide"
    }
   },
   "source": [
    "## 1.2 Feature Overview\n",
    "\n",
    "* Easy handling of missing data (represented as NaN)\n",
    "* Size mutability: columns can be inserted and deleted from DataFrame and higher dimensional objects\n",
    "* Automatic and explicit data alignment: objects can be explicitly aligned to a set of labels, or the user can simply ignore the labels and let Series, DataFrame, etc. automatically align the data for you in computations\n",
    "* Powerful, flexible group by functionality to perform split-apply-combine operations on data sets, for both ag- gregating and transforming data\n",
    "* Make it easy to convert ragged, differently-indexed data in other Python and NumPy data structures into DataFrame objects\n",
    "* Intelligent label-based slicing, fancy indexing, and subsetting of large data sets\n",
    "* Intuitive merging and joining data sets\n",
    "* Flexible reshaping and pivoting of data sets\n",
    "* Hierarchical labeling of axes (possible to have multiple labels per tick)\n",
    "* Robust IO tools for loading and storing data \n",
    "* Time series-specific functionality\n",
    "* Fast realization in Cython\n",
    "\n"
   ]
  },
  {
   "cell_type": "markdown",
   "metadata": {
    "slideshow": {
     "slide_type": "slide"
    }
   },
   "source": [
    "# 2. Pandas Data Structures\n",
    "\n",
    "Pandas is build around two data structures\n",
    "\n",
    "* `Series` represent 1 dimensional datasets as subclass of Numpy's ndarray\n",
    "* `DataFrame` represent 2 dimensional data sets as list of `Series`\n",
    "* `Panel` represents higher dimensional data as dictionaries of `DataFrame`'s. We do not discuss `Panel`'s here.\n",
    "\n",
    "For all data structures, labels/indices can be defined per row and column. \n",
    "\n",
    "Data alignment is intrinsict, i.e. the link between labels and data will not be broken.\n",
    "\n"
   ]
  },
  {
   "cell_type": "markdown",
   "metadata": {
    "slideshow": {
     "slide_type": "slide"
    }
   },
   "source": [
    "## 2.1. Series: labelled arrays\n",
    "\n",
    "Series is a one-dimensional labeled array capable of holding any data type (integers, strings, ﬂoating point numbers,Python objects, etc.). The axis labels are collectively referred to as the index. The basic method to create a Series is\n",
    "to call:\n",
    "\n",
    "    Series(data, index=index)\n",
    "    \n",
    "`data` may be a dict, a `numpy.ndarray` or a sclar value"
   ]
  },
  {
   "cell_type": "markdown",
   "metadata": {
    "slideshow": {
     "slide_type": "fragment"
    }
   },
   "source": [
    "**Creating a series**"
   ]
  },
  {
   "cell_type": "code",
   "execution_count": 1,
   "metadata": {
    "collapsed": false,
    "slideshow": {
     "slide_type": "fragment"
    }
   },
   "outputs": [
    {
     "name": "stdout",
     "output_type": "stream",
     "text": [
      "0     2.0000\n",
      "1     1.0000\n",
      "2     5.0000\n",
      "3     0.9700\n",
      "4     3.0000\n",
      "5    10.0000\n",
      "6     0.0599\n",
      "7     8.0000\n",
      "dtype: float64\n"
     ]
    }
   ],
   "source": [
    "import numpy as np # we need numpy\n",
    "import pandas as pd #import pandas\n",
    "\n",
    "\n",
    "values = np.array([2.0, 1.0, 5.0, 0.97, 3.0, 10.0, 0.0599, 8.0]) #create numpy array\n",
    "ser = pd.Series(values) # now create series\n",
    "print (ser)"
   ]
  },
  {
   "cell_type": "code",
   "execution_count": 2,
   "metadata": {
    "collapsed": false,
    "slideshow": {
     "slide_type": "fragment"
    }
   },
   "outputs": [
    {
     "name": "stdout",
     "output_type": "stream",
     "text": [
      "A     2.0000\n",
      "B     1.0000\n",
      "C     5.0000\n",
      "D     0.9700\n",
      "E     3.0000\n",
      "F    10.0000\n",
      "G     0.0599\n",
      "H     8.0000\n",
      "dtype: float64\n"
     ]
    }
   ],
   "source": [
    "#now lets put some index on the data\n",
    "#indices will be great later on when accessing datas\n",
    "#indices represent unique identifiers for rows\n",
    "values = np.array([2.0, 1.0, 5.0, 0.97, 3.0, 10.0, 0.0599, 8.0])\n",
    "labels = ['A', 'B', 'C', 'D', 'E', 'F', 'G', 'H']\n",
    "ser = pd.Series(data=values, index=labels)#values and labels must have the same dimension\n",
    "print (ser)\n"
   ]
  },
  {
   "cell_type": "code",
   "execution_count": 3,
   "metadata": {
    "collapsed": false,
    "slideshow": {
     "slide_type": "fragment"
    }
   },
   "outputs": [
    {
     "name": "stdout",
     "output_type": "stream",
     "text": [
      "age                                                1\n",
      "gender                                             F\n",
      "genres                                         Drama\n",
      "movie_id                                        1193\n",
      "occupation                                        10\n",
      "rating                                             5\n",
      "timestamp                                  978300760\n",
      "title         One Flew Over the Cuckoo's Nest (1975)\n",
      "user_id                                            1\n",
      "zip                                            48067\n",
      "dtype: object\n"
     ]
    }
   ],
   "source": [
    "#craeting a heterogeneous series\n",
    "movie_rating = {\n",
    "    'age': 1,\n",
    "    'gender': 'F',\n",
    "    'genres': 'Drama',\n",
    "    'movie_id': 1193,\n",
    "    'occupation': 10,\n",
    "    'rating': 5,\n",
    "    'timestamp': 978300760,\n",
    "    'title': \"One Flew Over the Cuckoo's Nest (1975)\",\n",
    "    'user_id': 1,\n",
    "    'zip': '48067'\n",
    "    }\n",
    "ser = pd.Series(movie_rating)\n",
    "print (ser)"
   ]
  },
  {
   "cell_type": "code",
   "execution_count": 4,
   "metadata": {
    "collapsed": false,
    "slideshow": {
     "slide_type": "fragment"
    }
   },
   "outputs": [
    {
     "data": {
      "text/plain": [
       "Index(['age', 'gender', 'genres', 'movie_id', 'occupation', 'rating',\n",
       "       'timestamp', 'title', 'user_id', 'zip'],\n",
       "      dtype='object')"
      ]
     },
     "execution_count": 4,
     "metadata": {},
     "output_type": "execute_result"
    }
   ],
   "source": [
    "#show the index\n",
    "ser.index"
   ]
  },
  {
   "cell_type": "code",
   "execution_count": 5,
   "metadata": {
    "collapsed": false,
    "slideshow": {
     "slide_type": "fragment"
    }
   },
   "outputs": [
    {
     "data": {
      "text/plain": [
       "array([1, 'F', 'Drama', 1193, 10, 5, 978300760,\n",
       "       \"One Flew Over the Cuckoo's Nest (1975)\", 1, '48067'], dtype=object)"
      ]
     },
     "execution_count": 5,
     "metadata": {},
     "output_type": "execute_result"
    }
   ],
   "source": [
    "#show the value\n",
    "ser.values"
   ]
  },
  {
   "cell_type": "markdown",
   "metadata": {
    "slideshow": {
     "slide_type": "subslide"
    }
   },
   "source": [
    "**Series Indexing**\n",
    "\n",
    "Accessing elements in a series can be either done via the number or the index"
   ]
  },
  {
   "cell_type": "code",
   "execution_count": 6,
   "metadata": {
    "collapsed": false,
    "slideshow": {
     "slide_type": "fragment"
    }
   },
   "outputs": [
    {
     "data": {
      "text/plain": [
       "1"
      ]
     },
     "execution_count": 6,
     "metadata": {},
     "output_type": "execute_result"
    }
   ],
   "source": [
    "#use the row number\n",
    "ser[0]"
   ]
  },
  {
   "cell_type": "code",
   "execution_count": 7,
   "metadata": {
    "collapsed": false,
    "slideshow": {
     "slide_type": "fragment"
    }
   },
   "outputs": [
    {
     "data": {
      "text/plain": [
       "'F'"
      ]
     },
     "execution_count": 7,
     "metadata": {},
     "output_type": "execute_result"
    }
   ],
   "source": [
    "#use the index like in a dict object\n",
    "ser['gender']"
   ]
  },
  {
   "cell_type": "code",
   "execution_count": 8,
   "metadata": {
    "collapsed": false,
    "slideshow": {
     "slide_type": "fragment"
    }
   },
   "outputs": [
    {
     "data": {
      "text/plain": [
       "'F'"
      ]
     },
     "execution_count": 8,
     "metadata": {},
     "output_type": "execute_result"
    }
   ],
   "source": [
    "ser.get_value('gender')"
   ]
  },
  {
   "cell_type": "markdown",
   "metadata": {
    "slideshow": {
     "slide_type": "subslide"
    }
   },
   "source": [
    "**Operations between Series with different index objects**\n",
    "\n",
    "Index objects are unique and used in operations between series"
   ]
  },
  {
   "cell_type": "code",
   "execution_count": 9,
   "metadata": {
    "collapsed": false,
    "slideshow": {
     "slide_type": "fragment"
    }
   },
   "outputs": [
    {
     "name": "stdout",
     "output_type": "stream",
     "text": [
      "A    6.0\n",
      "B    NaN\n",
      "C    9.0\n",
      "G    NaN\n",
      "dtype: float64\n"
     ]
    }
   ],
   "source": [
    "ser_1 = pd.Series(data=[1,3,4], index=['A', 'B', 'C']) #series 1\n",
    "ser_2 = pd.Series(data=[5,5,5], index=['A', 'G', 'C']) #series 2 but with different indices\n",
    "print (ser_1 + ser_2) #note that if an index not exists, its value is undefined"
   ]
  },
  {
   "cell_type": "markdown",
   "metadata": {
    "slideshow": {
     "slide_type": "subslide"
    }
   },
   "source": [
    "**A `Series` is like a `Numpy.ndarray`**\n",
    "\n",
    "It can be used in Numpy functions."
   ]
  },
  {
   "cell_type": "code",
   "execution_count": 10,
   "metadata": {
    "collapsed": false,
    "slideshow": {
     "slide_type": "fragment"
    }
   },
   "outputs": [
    {
     "name": "stdout",
     "output_type": "stream",
     "text": [
      "a   -0.255852\n",
      "b   -0.792888\n",
      "c    0.165262\n",
      "d    0.929683\n",
      "e    1.595842\n",
      "dtype: float64\n",
      "epx(s)\n",
      " a    0.774256\n",
      "b    0.452536\n",
      "c    1.179702\n",
      "dtype: float64\n",
      "a   -0.255852\n",
      "b   -0.792888\n",
      "c    0.165262\n",
      "d    0.929683\n",
      "e    1.595842\n",
      "dtype: float64\n"
     ]
    }
   ],
   "source": [
    "s=pd.Series(np.random.randn(5),index=[\"a\", \"b\", \"c\", \"d\", \"e\"])\n",
    "print (s)\n",
    "print (\"epx(s)\\n\",np.exp(s[:3]))\n",
    "print (s)"
   ]
  },
  {
   "cell_type": "markdown",
   "metadata": {
    "slideshow": {
     "slide_type": "subslide"
    }
   },
   "source": [
    "**Naming a series**\n",
    "\n",
    "A series can have a name, i.e. a series label (or if viewed column wise the name of the column)"
   ]
  },
  {
   "cell_type": "code",
   "execution_count": 11,
   "metadata": {
    "collapsed": false,
    "slideshow": {
     "slide_type": "fragment"
    }
   },
   "outputs": [
    {
     "name": "stdout",
     "output_type": "stream",
     "text": [
      "a   -0.255852\n",
      "b   -0.792888\n",
      "c    0.165262\n",
      "d    0.929683\n",
      "e    1.595842\n",
      "Name: Name of my Series, dtype: float64\n"
     ]
    }
   ],
   "source": [
    "s.name=\"Name of my Series\"\n",
    "print (s)"
   ]
  },
  {
   "cell_type": "markdown",
   "metadata": {
    "slideshow": {
     "slide_type": "slide"
    }
   },
   "source": [
    "## 2.2. DataFrame: a Series of Series\n",
    "\n",
    "The pandas DataFrame is a 2 dimensional labeled data structure with columns of potentially different types. Similar to \n",
    "* a spreadsheet \n",
    "* relational database table \n",
    "* a dictionary of series"
   ]
  },
  {
   "cell_type": "markdown",
   "metadata": {
    "slideshow": {
     "slide_type": "subslide"
    }
   },
   "source": [
    "**Creating DataFrame's**\n",
    "\n",
    "DataFrame's can be created from\n",
    "* dict of Series\n",
    "* dict of ndarrays\n",
    "* structured or record arrays\n",
    "* from a list of dicts\n",
    "* From a dict of tuples\n",
    "* From a Series"
   ]
  },
  {
   "cell_type": "code",
   "execution_count": 12,
   "metadata": {
    "collapsed": false,
    "slideshow": {
     "slide_type": "fragment"
    }
   },
   "outputs": [
    {
     "name": "stdout",
     "output_type": "stream",
     "text": [
      "   one  two\n",
      "a  1.0  1.0\n",
      "b  2.0  2.0\n",
      "c  3.0  3.0\n",
      "d  NaN  4.0\n",
      "   one  two\n",
      "d  NaN  4.0\n",
      "b  2.0  2.0\n",
      "a  1.0  1.0\n",
      "Index: Index(['a', 'b', 'c', 'd'], dtype='object')\n",
      "Columns: Index(['one', 'two'], dtype='object')\n"
     ]
    }
   ],
   "source": [
    "#dict of series\n",
    "d = {'one' : pd.Series([1., 2., 3.], index=['a', 'b', 'c']),\n",
    "    'two' : pd.Series([1., 2., 3., 4.], index=['a', 'b', 'c', 'd'])}\n",
    "df = pd.DataFrame(d)\n",
    "print (df)\n",
    "print (pd.DataFrame(d,index=['d','b','a'])) # create data frame with index subset\n",
    "print\n",
    "print (\"Index:\", df.index)\n",
    "print (\"Columns:\", df.columns)"
   ]
  },
  {
   "cell_type": "code",
   "execution_count": 13,
   "metadata": {
    "collapsed": false,
    "slideshow": {
     "slide_type": "fragment"
    }
   },
   "outputs": [
    {
     "name": "stdout",
     "output_type": "stream",
     "text": [
      "   one  two\n",
      "0  1.0  1.0\n",
      "1  2.0  2.0\n",
      "2  3.0  3.0\n",
      "3  4.0  4.0\n"
     ]
    }
   ],
   "source": [
    "#dict of lists\n",
    "d = {'one' : [1., 2., 3., 4.],\n",
    "    'two' :  [1., 2., 3., 4.]}\n",
    "print (pd.DataFrame(d))"
   ]
  },
  {
   "cell_type": "code",
   "execution_count": 14,
   "metadata": {
    "collapsed": false,
    "slideshow": {
     "slide_type": "fragment"
    }
   },
   "outputs": [
    {
     "name": "stdout",
     "output_type": "stream",
     "text": [
      "   a   b     c\n",
      "0  1   2   NaN\n",
      "1  5  10  20.0\n"
     ]
    }
   ],
   "source": [
    "#form a list of dicts\n",
    "data2 = [{'a': 1, 'b': 2}, {'a': 5, 'b': 10, 'c': 20}]\n",
    "print (pd.DataFrame(data2))"
   ]
  },
  {
   "cell_type": "code",
   "execution_count": 15,
   "metadata": {
    "collapsed": false,
    "slideshow": {
     "slide_type": "fragment"
    }
   },
   "outputs": [
    {
     "name": "stdout",
     "output_type": "stream",
     "text": [
      "       a              b      \n",
      "       a    b    c    a     b\n",
      "A B  4.0  1.0  5.0  8.0  10.0\n",
      "  C  3.0  2.0  6.0  7.0   NaN\n",
      "  D  NaN  NaN  NaN  NaN   9.0\n"
     ]
    }
   ],
   "source": [
    "# a dict of tuples\n",
    "print (pd.DataFrame({('a', 'b'): {('A', 'B'): 1, ('A', 'C'): 2},\n",
    " ('a', 'a'): {('A', 'C'): 3, ('A', 'B'): 4},\n",
    " ('a', 'c'): {('A', 'B'): 5, ('A', 'C'): 6},\n",
    " ('b', 'a'): {('A', 'C'): 7, ('A', 'B'): 8},\n",
    " ('b', 'b'): {('A', 'D'): 9, ('A', 'B'): 10}}) )"
   ]
  },
  {
   "cell_type": "markdown",
   "metadata": {
    "slideshow": {
     "slide_type": "subslide"
    }
   },
   "source": [
    "**Column selection, addition, deletion**\n",
    "\n",
    "DataFrame's work similar to dict objects"
   ]
  },
  {
   "cell_type": "code",
   "execution_count": 16,
   "metadata": {
    "collapsed": false,
    "slideshow": {
     "slide_type": "fragment"
    }
   },
   "outputs": [
    {
     "name": "stdout",
     "output_type": "stream",
     "text": [
      "a    1.0\n",
      "b    2.0\n",
      "c    3.0\n",
      "d    NaN\n",
      "Name: one, dtype: float64\n"
     ]
    }
   ],
   "source": [
    "d = {'one' : pd.Series([1., 2., 3.], index=['a', 'b', 'c']),\n",
    "    'two' : pd.Series([1., 2., 3., 4.], index=['a', 'b', 'c', 'd'])}\n",
    "df = pd.DataFrame(d)\n",
    "print (df['one'])"
   ]
  },
  {
   "cell_type": "code",
   "execution_count": 17,
   "metadata": {
    "collapsed": false,
    "slideshow": {
     "slide_type": "fragment"
    }
   },
   "outputs": [
    {
     "name": "stdout",
     "output_type": "stream",
     "text": [
      "   one  two  three\n",
      "a  1.0  1.0    1.0\n",
      "b  2.0  2.0    4.0\n",
      "c  3.0  3.0    9.0\n",
      "d  NaN  4.0    NaN\n"
     ]
    }
   ],
   "source": [
    "df['three']=df['one']*df['two']\n",
    "print (df)"
   ]
  },
  {
   "cell_type": "code",
   "execution_count": 18,
   "metadata": {
    "collapsed": false,
    "slideshow": {
     "slide_type": "fragment"
    }
   },
   "outputs": [
    {
     "name": "stdout",
     "output_type": "stream",
     "text": [
      "   one  three\n",
      "a  1.0    1.0\n",
      "b  2.0    4.0\n",
      "c  3.0    9.0\n",
      "d  NaN    NaN\n"
     ]
    }
   ],
   "source": [
    "del df['two']\n",
    "print (df)"
   ]
  },
  {
   "cell_type": "code",
   "execution_count": 19,
   "metadata": {
    "collapsed": false,
    "slideshow": {
     "slide_type": "fragment"
    }
   },
   "outputs": [
    {
     "name": "stdout",
     "output_type": "stream",
     "text": [
      "   one  three  foo\n",
      "a  1.0    1.0  bar\n",
      "b  2.0    4.0  bar\n",
      "c  3.0    9.0  bar\n",
      "d  NaN    NaN  bar\n"
     ]
    }
   ],
   "source": [
    "df['foo']='bar'\n",
    "print (df)"
   ]
  },
  {
   "cell_type": "code",
   "execution_count": 20,
   "metadata": {
    "collapsed": false,
    "slideshow": {
     "slide_type": "fragment"
    }
   },
   "outputs": [
    {
     "name": "stdout",
     "output_type": "stream",
     "text": [
      "Before\n",
      "   one  three  foo\n",
      "a  1.0    1.0  bar\n",
      "b  2.0    4.0  bar\n",
      "c  3.0    9.0  bar\n",
      "d  NaN    NaN  bar\n",
      "After\n",
      "   one  bar  three  foo\n",
      "a  1.0  1.0    1.0  bar\n",
      "b  2.0  2.0    4.0  bar\n",
      "c  3.0  3.0    9.0  bar\n",
      "d  NaN  NaN    NaN  bar\n"
     ]
    }
   ],
   "source": [
    "print (\"Before\")\n",
    "print (df)\n",
    "df.insert(1,\"bar\",df[\"one\"])\n",
    "print (\"After\")\n",
    "print (df)"
   ]
  },
  {
   "cell_type": "markdown",
   "metadata": {
    "slideshow": {
     "slide_type": "subslide"
    }
   },
   "source": [
    "**Indexing/Selection**\n",
    "\n",
    "<table>\n",
    "<tr><td>Operation</td><td>Syntax</td><td>Result</td></tr>\n",
    "<tr><td>Select column</td><td>df[col]</td><td>Series</td></tr>\n",
    "<tr><td>Select columns by labels</td><td>df[[list of labels]]</td><td>DataFrame</td></tr>\n",
    "<tr><td>Select row by index</td><td>df.loc[index]</td><td>Series</td></tr>\n",
    "<tr><td>Select row by integer location</td><td>df.iloc[loc]</td><td>Series</td></tr>\n",
    "<tr><td>Slice rows</td><td>df[5:10]</td><td>DataFrame</td></tr>\n",
    "<tr><td>Select rows by boolean vector</td><td>df[bool_vec]</td><td>DataFrame</td></tr>\n",
    "<tr><td> Flexible slicing</td><td>df.ix[rowselector, columnselector]</td><td>Variable</td></tr>\n",
    "</table>"
   ]
  },
  {
   "cell_type": "code",
   "execution_count": 21,
   "metadata": {
    "collapsed": false,
    "slideshow": {
     "slide_type": "fragment"
    }
   },
   "outputs": [
    {
     "data": {
      "text/plain": [
       "a    1.0\n",
       "b    2.0\n",
       "c    3.0\n",
       "d    NaN\n",
       "Name: one, dtype: float64"
      ]
     },
     "execution_count": 21,
     "metadata": {},
     "output_type": "execute_result"
    }
   ],
   "source": [
    "df['one']"
   ]
  },
  {
   "cell_type": "code",
   "execution_count": 22,
   "metadata": {
    "collapsed": false,
    "slideshow": {
     "slide_type": "fragment"
    }
   },
   "outputs": [
    {
     "data": {
      "text/html": [
       "<div>\n",
       "<table border=\"1\" class=\"dataframe\">\n",
       "  <thead>\n",
       "    <tr style=\"text-align: right;\">\n",
       "      <th></th>\n",
       "      <th>one</th>\n",
       "      <th>bar</th>\n",
       "      <th>three</th>\n",
       "      <th>foo</th>\n",
       "    </tr>\n",
       "  </thead>\n",
       "  <tbody>\n",
       "    <tr>\n",
       "      <th>c</th>\n",
       "      <td>3.0</td>\n",
       "      <td>3.0</td>\n",
       "      <td>9.0</td>\n",
       "      <td>bar</td>\n",
       "    </tr>\n",
       "    <tr>\n",
       "      <th>d</th>\n",
       "      <td>NaN</td>\n",
       "      <td>NaN</td>\n",
       "      <td>NaN</td>\n",
       "      <td>bar</td>\n",
       "    </tr>\n",
       "  </tbody>\n",
       "</table>\n",
       "</div>"
      ],
      "text/plain": [
       "   one  bar  three  foo\n",
       "c  3.0  3.0    9.0  bar\n",
       "d  NaN  NaN    NaN  bar"
      ]
     },
     "execution_count": 22,
     "metadata": {},
     "output_type": "execute_result"
    }
   ],
   "source": [
    "df[2:4]"
   ]
  },
  {
   "cell_type": "code",
   "execution_count": 23,
   "metadata": {
    "collapsed": false,
    "slideshow": {
     "slide_type": "fragment"
    }
   },
   "outputs": [
    {
     "data": {
      "text/html": [
       "<div>\n",
       "<table border=\"1\" class=\"dataframe\">\n",
       "  <thead>\n",
       "    <tr style=\"text-align: right;\">\n",
       "      <th></th>\n",
       "      <th>one</th>\n",
       "      <th>three</th>\n",
       "    </tr>\n",
       "  </thead>\n",
       "  <tbody>\n",
       "    <tr>\n",
       "      <th>a</th>\n",
       "      <td>1.0</td>\n",
       "      <td>1.0</td>\n",
       "    </tr>\n",
       "    <tr>\n",
       "      <th>b</th>\n",
       "      <td>2.0</td>\n",
       "      <td>4.0</td>\n",
       "    </tr>\n",
       "    <tr>\n",
       "      <th>c</th>\n",
       "      <td>3.0</td>\n",
       "      <td>9.0</td>\n",
       "    </tr>\n",
       "    <tr>\n",
       "      <th>d</th>\n",
       "      <td>NaN</td>\n",
       "      <td>NaN</td>\n",
       "    </tr>\n",
       "  </tbody>\n",
       "</table>\n",
       "</div>"
      ],
      "text/plain": [
       "   one  three\n",
       "a  1.0    1.0\n",
       "b  2.0    4.0\n",
       "c  3.0    9.0\n",
       "d  NaN    NaN"
      ]
     },
     "execution_count": 23,
     "metadata": {},
     "output_type": "execute_result"
    }
   ],
   "source": [
    "df[[\"one\",\"three\"]]"
   ]
  },
  {
   "cell_type": "code",
   "execution_count": 24,
   "metadata": {
    "collapsed": false,
    "slideshow": {
     "slide_type": "fragment"
    }
   },
   "outputs": [
    {
     "data": {
      "text/html": [
       "<div>\n",
       "<table border=\"1\" class=\"dataframe\">\n",
       "  <thead>\n",
       "    <tr style=\"text-align: right;\">\n",
       "      <th></th>\n",
       "      <th>one</th>\n",
       "      <th>bar</th>\n",
       "      <th>three</th>\n",
       "      <th>foo</th>\n",
       "    </tr>\n",
       "  </thead>\n",
       "  <tbody>\n",
       "    <tr>\n",
       "      <th>c</th>\n",
       "      <td>3.0</td>\n",
       "      <td>3.0</td>\n",
       "      <td>9.0</td>\n",
       "      <td>bar</td>\n",
       "    </tr>\n",
       "    <tr>\n",
       "      <th>d</th>\n",
       "      <td>NaN</td>\n",
       "      <td>NaN</td>\n",
       "      <td>NaN</td>\n",
       "      <td>bar</td>\n",
       "    </tr>\n",
       "  </tbody>\n",
       "</table>\n",
       "</div>"
      ],
      "text/plain": [
       "   one  bar  three  foo\n",
       "c  3.0  3.0    9.0  bar\n",
       "d  NaN  NaN    NaN  bar"
      ]
     },
     "execution_count": 24,
     "metadata": {},
     "output_type": "execute_result"
    }
   ],
   "source": [
    "df[[False,False,True,True]]"
   ]
  },
  {
   "cell_type": "code",
   "execution_count": 25,
   "metadata": {
    "collapsed": false,
    "slideshow": {
     "slide_type": "fragment"
    }
   },
   "outputs": [
    {
     "name": "stdout",
     "output_type": "stream",
     "text": [
      "   one  bar  three  foo\n",
      "a  1.0  1.0    1.0  bar\n",
      "b  2.0  2.0    4.0  bar\n",
      "c  3.0  3.0    9.0  bar\n",
      "d  NaN  NaN    NaN  bar\n",
      "Selecting row 'b'\n"
     ]
    },
    {
     "data": {
      "text/plain": [
       "one        2\n",
       "bar        2\n",
       "three      4\n",
       "foo      bar\n",
       "Name: b, dtype: object"
      ]
     },
     "execution_count": 25,
     "metadata": {},
     "output_type": "execute_result"
    }
   ],
   "source": [
    "print (df)\n",
    "print (\"Selecting row 'b'\")\n",
    "df.loc['b']"
   ]
  },
  {
   "cell_type": "code",
   "execution_count": 26,
   "metadata": {
    "collapsed": false,
    "slideshow": {
     "slide_type": "fragment"
    }
   },
   "outputs": [
    {
     "name": "stdout",
     "output_type": "stream",
     "text": [
      "   one  bar  three  foo\n",
      "a  1.0  1.0    1.0  bar\n",
      "b  2.0  2.0    4.0  bar\n",
      "c  3.0  3.0    9.0  bar\n",
      "d  NaN  NaN    NaN  bar\n"
     ]
    }
   ],
   "source": [
    "#flexible indexing via .ix method\n",
    "print (df)"
   ]
  },
  {
   "cell_type": "code",
   "execution_count": 27,
   "metadata": {
    "collapsed": false,
    "slideshow": {
     "slide_type": "fragment"
    }
   },
   "outputs": [
    {
     "name": "stdout",
     "output_type": "stream",
     "text": [
      "   bar\n",
      "a  1.0\n",
      "b  2.0\n"
     ]
    }
   ],
   "source": [
    "print (df.ix[:2,1:2])#gives a data frame"
   ]
  },
  {
   "cell_type": "code",
   "execution_count": 28,
   "metadata": {
    "collapsed": false,
    "slideshow": {
     "slide_type": "fragment"
    }
   },
   "outputs": [
    {
     "name": "stdout",
     "output_type": "stream",
     "text": [
      "a    1.0\n",
      "b    2.0\n",
      "Name: bar, dtype: float64\n"
     ]
    }
   ],
   "source": [
    "print (df.ix[:2,1]) #gives a series"
   ]
  },
  {
   "cell_type": "code",
   "execution_count": 29,
   "metadata": {
    "collapsed": false,
    "slideshow": {
     "slide_type": "fragment"
    }
   },
   "outputs": [
    {
     "name": "stdout",
     "output_type": "stream",
     "text": [
      "a    1.0\n",
      "b    2.0\n",
      "Name: bar, dtype: float64\n"
     ]
    }
   ],
   "source": [
    "print (df.ix[:2,\"bar\"])#gives a sereies"
   ]
  },
  {
   "cell_type": "code",
   "execution_count": 30,
   "metadata": {
    "collapsed": false,
    "slideshow": {
     "slide_type": "fragment"
    }
   },
   "outputs": [
    {
     "name": "stdout",
     "output_type": "stream",
     "text": [
      "   bar\n",
      "a  1.0\n",
      "b  2.0\n"
     ]
    }
   ],
   "source": [
    "print (df.ix[:2,[\"bar\"]])#gives a data frame"
   ]
  },
  {
   "cell_type": "markdown",
   "metadata": {
    "slideshow": {
     "slide_type": "subslide"
    }
   },
   "source": [
    "**Boolean Masking and where()**\n",
    "\n",
    "As in Numpy, we can use masks for accessing data elements"
   ]
  },
  {
   "cell_type": "code",
   "execution_count": 31,
   "metadata": {
    "collapsed": false,
    "slideshow": {
     "slide_type": "fragment"
    }
   },
   "outputs": [
    {
     "name": "stdout",
     "output_type": "stream",
     "text": [
      "       a  b         c\n",
      "0    one  x  0.273266\n",
      "1    one  y -0.682074\n",
      "2    two  y  0.452170\n",
      "3  three  x  1.887135\n",
      "4    two  y -1.130138\n",
      "5    one  x -0.566380\n",
      "6    six  x -0.295729\n"
     ]
    }
   ],
   "source": [
    "df2 = pd.DataFrame({'a' : ['one','one','two','three','two','one','six'],\n",
    "                 'b' : ['x','y','y','x','y','x','x'],\n",
    "                 'c' : np.random.randn(7)})\n",
    "print (df2)\n",
    "criterion = df2['a'].map(lambda x: x.startswith('t')) #create a criterion using lambda function\n"
   ]
  },
  {
   "cell_type": "code",
   "execution_count": 32,
   "metadata": {
    "collapsed": false,
    "slideshow": {
     "slide_type": "fragment"
    }
   },
   "outputs": [
    {
     "name": "stdout",
     "output_type": "stream",
     "text": [
      "0    False\n",
      "1    False\n",
      "2     True\n",
      "3     True\n",
      "4     True\n",
      "5    False\n",
      "6    False\n",
      "Name: a, dtype: bool\n"
     ]
    }
   ],
   "source": [
    "print (criterion)"
   ]
  },
  {
   "cell_type": "code",
   "execution_count": 33,
   "metadata": {
    "collapsed": false,
    "slideshow": {
     "slide_type": "fragment"
    }
   },
   "outputs": [
    {
     "name": "stdout",
     "output_type": "stream",
     "text": [
      "       a  b         c\n",
      "2    two  y  0.452170\n",
      "3  three  x  1.887135\n",
      "4    two  y -1.130138\n"
     ]
    }
   ],
   "source": [
    "print (df2[criterion])"
   ]
  },
  {
   "cell_type": "code",
   "execution_count": 34,
   "metadata": {
    "collapsed": false,
    "slideshow": {
     "slide_type": "fragment"
    }
   },
   "outputs": [
    {
     "data": {
      "text/html": [
       "<div>\n",
       "<table border=\"1\" class=\"dataframe\">\n",
       "  <thead>\n",
       "    <tr style=\"text-align: right;\">\n",
       "      <th></th>\n",
       "      <th>a</th>\n",
       "      <th>b</th>\n",
       "      <th>c</th>\n",
       "    </tr>\n",
       "  </thead>\n",
       "  <tbody>\n",
       "    <tr>\n",
       "      <th>0</th>\n",
       "      <td>one</td>\n",
       "      <td>x</td>\n",
       "      <td>0.273266</td>\n",
       "    </tr>\n",
       "    <tr>\n",
       "      <th>5</th>\n",
       "      <td>one</td>\n",
       "      <td>x</td>\n",
       "      <td>-0.566380</td>\n",
       "    </tr>\n",
       "  </tbody>\n",
       "</table>\n",
       "</div>"
      ],
      "text/plain": [
       "     a  b         c\n",
       "0  one  x  0.273266\n",
       "5  one  x -0.566380"
      ]
     },
     "execution_count": 34,
     "metadata": {},
     "output_type": "execute_result"
    }
   ],
   "source": [
    "#disjunction of two filter criterions using bit-and\n",
    "df2[(df2['a']=='one')&(df2['b']=='x')]"
   ]
  },
  {
   "cell_type": "code",
   "execution_count": 35,
   "metadata": {
    "collapsed": false,
    "slideshow": {
     "slide_type": "fragment"
    }
   },
   "outputs": [
    {
     "name": "stdout",
     "output_type": "stream",
     "text": [
      "     ids   ids2   vals\n",
      "0   True   True   True\n",
      "1   True  False  False\n",
      "2  False  False   True\n",
      "3  False  False  False\n"
     ]
    }
   ],
   "source": [
    "#check for several values over all columns with isin\n",
    "df3 = pd.DataFrame({'vals': [1, 2, 3, 4], \n",
    "                    'ids': ['a', 'b', 'f', 'n'],\n",
    "                    'ids2': ['a', 'n', 'c', 'n']})\n",
    "\n",
    "values = ['a', 'b', 1, 3]\n",
    "print (df3.isin(values))"
   ]
  },
  {
   "cell_type": "code",
   "execution_count": 36,
   "metadata": {
    "collapsed": false,
    "slideshow": {
     "slide_type": "fragment"
    }
   },
   "outputs": [
    {
     "name": "stdout",
     "output_type": "stream",
     "text": [
      "0    0.273266\n",
      "1   -0.682074\n",
      "2    0.452170\n",
      "3    1.887135\n",
      "4   -1.130138\n",
      "5   -0.566380\n",
      "6   -0.295729\n",
      "Name: c, dtype: float64\n",
      "0    0.273266\n",
      "1         NaN\n",
      "2    0.452170\n",
      "3    1.887135\n",
      "4         NaN\n",
      "5         NaN\n",
      "6         NaN\n",
      "Name: c, dtype: float64\n"
     ]
    }
   ],
   "source": [
    "#with where we can guarantee the the shape stays the same\n",
    "s=df2['c']\n",
    "print (s)\n",
    "print (s.where(s>0))"
   ]
  },
  {
   "cell_type": "markdown",
   "metadata": {
    "slideshow": {
     "slide_type": "subslide"
    }
   },
   "source": [
    "**Data alignment and arithmetic**\n",
    "\n",
    "DataFrame objects automatically align on both the columns and the index (row labels). Again, the resulting object will have the union of the column and row labels."
   ]
  },
  {
   "cell_type": "code",
   "execution_count": 37,
   "metadata": {
    "collapsed": false,
    "slideshow": {
     "slide_type": "fragment"
    }
   },
   "outputs": [
    {
     "name": "stdout",
     "output_type": "stream",
     "text": [
      "          A         B         C   D\n",
      "0  0.999642 -0.647957 -0.071256 NaN\n",
      "1 -0.507238  2.533879  1.381693 NaN\n",
      "2 -1.794794  1.417298 -0.252988 NaN\n",
      "3 -0.682603 -1.500577  0.883963 NaN\n",
      "4  0.409258  0.779503  1.130862 NaN\n",
      "5  1.788629 -0.160715  2.021382 NaN\n",
      "6  1.438265 -1.475753 -0.209475 NaN\n",
      "7       NaN       NaN       NaN NaN\n",
      "8       NaN       NaN       NaN NaN\n",
      "9       NaN       NaN       NaN NaN\n"
     ]
    }
   ],
   "source": [
    "df = pd.DataFrame(np.random.randn(10, 4), columns=['A', 'B', 'C', 'D']) \n",
    "df2 = pd.DataFrame(np.random.randn(7, 3), columns=['A', 'B', 'C'])\n",
    "print (df + df2)"
   ]
  },
  {
   "cell_type": "markdown",
   "metadata": {
    "slideshow": {
     "slide_type": "subslide"
    }
   },
   "source": [
    "** Broadcasting behaviour**\n",
    "\n",
    "When doing an operation between DataFrame and Series, the default behavior is to align the Series index on the DataFrame columns, thus broadcasting row-wise. \n"
   ]
  },
  {
   "cell_type": "code",
   "execution_count": 38,
   "metadata": {
    "collapsed": false,
    "slideshow": {
     "slide_type": "fragment"
    }
   },
   "outputs": [
    {
     "name": "stdout",
     "output_type": "stream",
     "text": [
      "          A         B         C         D\n",
      "0  0.512802 -0.607339  0.434468  0.850475\n",
      "1 -0.536842  1.452228 -0.275487 -0.282956\n",
      "2 -0.193912  0.527121 -0.640953  1.446537\n",
      "3  0.761742 -0.366427  0.230875 -1.780207\n",
      "4 -0.543266 -0.318201  1.398851  0.706780\n",
      "5  0.529194  0.233829  0.266846  0.215016\n",
      "6  1.173864  0.204037 -0.101311  1.313441\n",
      "7  1.161682  0.186041 -0.800979 -0.276331\n",
      "8 -0.355331  1.301244 -0.142708 -1.695402\n",
      "9  0.363494 -1.431346  0.981433  1.468423\n",
      "==========================================\n",
      "A    0.512802\n",
      "B   -0.607339\n",
      "C    0.434468\n",
      "D    0.850475\n",
      "Name: 0, dtype: float64\n",
      "==========================================\n",
      "          A         B         C         D\n",
      "0  0.000000  0.000000  0.000000  0.000000\n",
      "1 -1.049644  2.059567 -0.709955 -1.133431\n",
      "2 -0.706714  1.134460 -1.075420  0.596061\n",
      "3  0.248940  0.240911 -0.203593 -2.630683\n",
      "4 -1.056068  0.289137  0.964383 -0.143696\n",
      "5  0.016392  0.841168 -0.167622 -0.635459\n",
      "6  0.661062  0.811376 -0.535779  0.462965\n",
      "7  0.648880  0.793380 -1.235447 -1.126806\n",
      "8 -0.868133  1.908583 -0.577176 -2.545877\n",
      "9 -0.149309 -0.824007  0.546965  0.617948\n"
     ]
    }
   ],
   "source": [
    "print (df)\n",
    "print (\"==========================================\")\n",
    "print (df.iloc[0])\n",
    "print (\"==========================================\")\n",
    "print (df-df.iloc[0])"
   ]
  },
  {
   "cell_type": "code",
   "execution_count": 39,
   "metadata": {
    "collapsed": false,
    "slideshow": {
     "slide_type": "fragment"
    }
   },
   "outputs": [
    {
     "data": {
      "text/html": [
       "<div>\n",
       "<table border=\"1\" class=\"dataframe\">\n",
       "  <thead>\n",
       "    <tr style=\"text-align: right;\">\n",
       "      <th></th>\n",
       "      <th>A</th>\n",
       "      <th>B</th>\n",
       "      <th>C</th>\n",
       "      <th>D</th>\n",
       "    </tr>\n",
       "  </thead>\n",
       "  <tbody>\n",
       "    <tr>\n",
       "      <th>0</th>\n",
       "      <td>1.025605</td>\n",
       "      <td>-1.214677</td>\n",
       "      <td>0.868936</td>\n",
       "      <td>1.700950</td>\n",
       "    </tr>\n",
       "    <tr>\n",
       "      <th>1</th>\n",
       "      <td>-1.073683</td>\n",
       "      <td>2.904456</td>\n",
       "      <td>-0.550973</td>\n",
       "      <td>-0.565911</td>\n",
       "    </tr>\n",
       "    <tr>\n",
       "      <th>2</th>\n",
       "      <td>-0.387823</td>\n",
       "      <td>1.054242</td>\n",
       "      <td>-1.281905</td>\n",
       "      <td>2.893073</td>\n",
       "    </tr>\n",
       "    <tr>\n",
       "      <th>3</th>\n",
       "      <td>1.523485</td>\n",
       "      <td>-0.732854</td>\n",
       "      <td>0.461750</td>\n",
       "      <td>-3.560415</td>\n",
       "    </tr>\n",
       "    <tr>\n",
       "      <th>4</th>\n",
       "      <td>-1.086532</td>\n",
       "      <td>-0.636403</td>\n",
       "      <td>2.797702</td>\n",
       "      <td>1.413559</td>\n",
       "    </tr>\n",
       "    <tr>\n",
       "      <th>5</th>\n",
       "      <td>1.058389</td>\n",
       "      <td>0.467658</td>\n",
       "      <td>0.533693</td>\n",
       "      <td>0.430032</td>\n",
       "    </tr>\n",
       "    <tr>\n",
       "      <th>6</th>\n",
       "      <td>2.347728</td>\n",
       "      <td>0.408075</td>\n",
       "      <td>-0.202621</td>\n",
       "      <td>2.626881</td>\n",
       "    </tr>\n",
       "    <tr>\n",
       "      <th>7</th>\n",
       "      <td>2.323364</td>\n",
       "      <td>0.372082</td>\n",
       "      <td>-1.601958</td>\n",
       "      <td>-0.552661</td>\n",
       "    </tr>\n",
       "    <tr>\n",
       "      <th>8</th>\n",
       "      <td>-0.710662</td>\n",
       "      <td>2.602488</td>\n",
       "      <td>-0.285416</td>\n",
       "      <td>-3.390803</td>\n",
       "    </tr>\n",
       "    <tr>\n",
       "      <th>9</th>\n",
       "      <td>0.726987</td>\n",
       "      <td>-2.862692</td>\n",
       "      <td>1.962866</td>\n",
       "      <td>2.936846</td>\n",
       "    </tr>\n",
       "  </tbody>\n",
       "</table>\n",
       "</div>"
      ],
      "text/plain": [
       "          A         B         C         D\n",
       "0  1.025605 -1.214677  0.868936  1.700950\n",
       "1 -1.073683  2.904456 -0.550973 -0.565911\n",
       "2 -0.387823  1.054242 -1.281905  2.893073\n",
       "3  1.523485 -0.732854  0.461750 -3.560415\n",
       "4 -1.086532 -0.636403  2.797702  1.413559\n",
       "5  1.058389  0.467658  0.533693  0.430032\n",
       "6  2.347728  0.408075 -0.202621  2.626881\n",
       "7  2.323364  0.372082 -1.601958 -0.552661\n",
       "8 -0.710662  2.602488 -0.285416 -3.390803\n",
       "9  0.726987 -2.862692  1.962866  2.936846"
      ]
     },
     "execution_count": 39,
     "metadata": {},
     "output_type": "execute_result"
    }
   ],
   "source": [
    "#broadcasting with scalars as in numpy\n",
    "df*2"
   ]
  },
  {
   "cell_type": "markdown",
   "metadata": {
    "slideshow": {
     "slide_type": "fragment"
    }
   },
   "source": [
    "When working with time series (`TimeSeries`) broadcasting is done column wise. However this function is **deprecated**"
   ]
  },
  {
   "cell_type": "code",
   "execution_count": 40,
   "metadata": {
    "collapsed": false,
    "slideshow": {
     "slide_type": "fragment"
    }
   },
   "outputs": [
    {
     "name": "stdout",
     "output_type": "stream",
     "text": [
      "                   A         B         C\n",
      "2000-01-01 -0.638257  0.755378 -0.124689\n",
      "2000-01-02 -1.446557  0.124290  0.034591\n",
      "2000-01-03 -0.066729  0.145252 -0.621815\n",
      "2000-01-04 -1.094891 -0.077731 -0.719412\n",
      "2000-01-05  0.021793  1.819796 -0.561636\n",
      "2000-01-06 -0.035043  0.449336  0.265688\n",
      "2000-01-07 -1.384167 -0.496259 -1.739774\n",
      "2000-01-08 -0.923778  0.123226  1.485048\n"
     ]
    }
   ],
   "source": [
    "index = pd.date_range('1/1/2000', periods=8)\n",
    "df = pd.DataFrame(np.random.randn(8, 3), index=index, columns=list('ABC'))\n",
    "print (df)"
   ]
  },
  {
   "cell_type": "code",
   "execution_count": 41,
   "metadata": {
    "collapsed": false,
    "slideshow": {
     "slide_type": "fragment"
    }
   },
   "outputs": [
    {
     "name": "stdout",
     "output_type": "stream",
     "text": [
      "            2000-01-01 00:00:00  2000-01-02 00:00:00  2000-01-03 00:00:00  \\\n",
      "2000-01-01                  NaN                  NaN                  NaN   \n",
      "2000-01-02                  NaN                  NaN                  NaN   \n",
      "2000-01-03                  NaN                  NaN                  NaN   \n",
      "2000-01-04                  NaN                  NaN                  NaN   \n",
      "2000-01-05                  NaN                  NaN                  NaN   \n",
      "2000-01-06                  NaN                  NaN                  NaN   \n",
      "2000-01-07                  NaN                  NaN                  NaN   \n",
      "2000-01-08                  NaN                  NaN                  NaN   \n",
      "\n",
      "            2000-01-04 00:00:00  2000-01-05 00:00:00  2000-01-06 00:00:00  \\\n",
      "2000-01-01                  NaN                  NaN                  NaN   \n",
      "2000-01-02                  NaN                  NaN                  NaN   \n",
      "2000-01-03                  NaN                  NaN                  NaN   \n",
      "2000-01-04                  NaN                  NaN                  NaN   \n",
      "2000-01-05                  NaN                  NaN                  NaN   \n",
      "2000-01-06                  NaN                  NaN                  NaN   \n",
      "2000-01-07                  NaN                  NaN                  NaN   \n",
      "2000-01-08                  NaN                  NaN                  NaN   \n",
      "\n",
      "            2000-01-07 00:00:00  2000-01-08 00:00:00   A   B   C  \n",
      "2000-01-01                  NaN                  NaN NaN NaN NaN  \n",
      "2000-01-02                  NaN                  NaN NaN NaN NaN  \n",
      "2000-01-03                  NaN                  NaN NaN NaN NaN  \n",
      "2000-01-04                  NaN                  NaN NaN NaN NaN  \n",
      "2000-01-05                  NaN                  NaN NaN NaN NaN  \n",
      "2000-01-06                  NaN                  NaN NaN NaN NaN  \n",
      "2000-01-07                  NaN                  NaN NaN NaN NaN  \n",
      "2000-01-08                  NaN                  NaN NaN NaN NaN  \n"
     ]
    }
   ],
   "source": [
    "print (df - df['A'])"
   ]
  },
  {
   "cell_type": "markdown",
   "metadata": {
    "slideshow": {
     "slide_type": "subslide"
    }
   },
   "source": [
    "**Transposing a Data Frame**\n"
   ]
  },
  {
   "cell_type": "code",
   "execution_count": 42,
   "metadata": {
    "collapsed": false,
    "slideshow": {
     "slide_type": "fragment"
    }
   },
   "outputs": [
    {
     "name": "stdout",
     "output_type": "stream",
     "text": [
      "                   A         B         C\n",
      "2000-01-01 -0.638257  0.755378 -0.124689\n",
      "2000-01-02 -1.446557  0.124290  0.034591\n",
      "2000-01-03 -0.066729  0.145252 -0.621815\n",
      "2000-01-04 -1.094891 -0.077731 -0.719412\n",
      "2000-01-05  0.021793  1.819796 -0.561636\n",
      "   2000-01-01  2000-01-02  2000-01-03  2000-01-04  2000-01-05\n",
      "A   -0.638257   -1.446557   -0.066729   -1.094891    0.021793\n",
      "B    0.755378    0.124290    0.145252   -0.077731    1.819796\n",
      "C   -0.124689    0.034591   -0.621815   -0.719412   -0.561636\n"
     ]
    }
   ],
   "source": [
    "print (df[:5])\n",
    "print (df[:5].T)"
   ]
  },
  {
   "cell_type": "markdown",
   "metadata": {
    "slideshow": {
     "slide_type": "subslide"
    }
   },
   "source": [
    "**Compatibility with Numpy**\n",
    "\n",
    "Given numeric values, numpy element wise functions can be used"
   ]
  },
  {
   "cell_type": "code",
   "execution_count": 43,
   "metadata": {
    "collapsed": false,
    "slideshow": {
     "slide_type": "fragment"
    }
   },
   "outputs": [
    {
     "name": "stdout",
     "output_type": "stream",
     "text": [
      "                   A         B         C\n",
      "2000-01-01 -0.638257  0.755378 -0.124689\n",
      "2000-01-02 -1.446557  0.124290  0.034591\n",
      "2000-01-03 -0.066729  0.145252 -0.621815\n",
      "2000-01-04 -1.094891 -0.077731 -0.719412\n",
      "2000-01-05  0.021793  1.819796 -0.561636\n",
      "2000-01-06 -0.035043  0.449336  0.265688\n",
      "2000-01-07 -1.384167 -0.496259 -1.739774\n",
      "2000-01-08 -0.923778  0.123226  1.485048\n",
      "                   A         B         C\n",
      "2000-01-01  0.528212  2.128416  0.882771\n",
      "2000-01-02  0.235379  1.132344  1.035197\n",
      "2000-01-03  0.935449  1.156331  0.536969\n",
      "2000-01-04  0.334576  0.925213  0.487038\n",
      "2000-01-05  1.022032  6.170601  0.570275\n",
      "2000-01-06  0.965564  1.567271  1.304328\n",
      "2000-01-07  0.250533  0.608804  0.175560\n",
      "2000-01-08  0.397016  1.131140  4.415177\n"
     ]
    }
   ],
   "source": [
    "print (df)\n",
    "print (np.exp(df))"
   ]
  },
  {
   "cell_type": "markdown",
   "metadata": {
    "slideshow": {
     "slide_type": "slide"
    }
   },
   "source": [
    "## 3 Basic Functionality\n",
    "\n",
    "* Accessing head and tails via `DataFrame.head` and `DataFrame.tail`\n",
    "* Explicit arithmetic operations:  `DataFrame.add`, `DataFrame.sub` etc. allow to control broadcasting and value filling\n",
    "* DataFrame comparators: `DataFrame.gt`, `DataFrame.ne` etc.\n",
    "* Boolean reductions: `DataFrame.all()`, `DataFrame.any()``\n",
    "\n"
   ]
  },
  {
   "cell_type": "markdown",
   "metadata": {
    "slideshow": {
     "slide_type": "subslide"
    }
   },
   "source": [
    "## 3.1 Head and Tail\n",
    "\n",
    "Viewing long series/data frames"
   ]
  },
  {
   "cell_type": "code",
   "execution_count": 44,
   "metadata": {
    "collapsed": false,
    "slideshow": {
     "slide_type": "fragment"
    }
   },
   "outputs": [
    {
     "name": "stdout",
     "output_type": "stream",
     "text": [
      "0   -0.902810\n",
      "1   -1.694437\n",
      "2    0.528200\n",
      "3   -0.459037\n",
      "4   -1.058786\n",
      "dtype: float64\n"
     ]
    }
   ],
   "source": [
    "long_series = pd.Series(np.random.randn(1000))\n",
    "print (long_series.head())"
   ]
  },
  {
   "cell_type": "code",
   "execution_count": 45,
   "metadata": {
    "collapsed": false,
    "slideshow": {
     "slide_type": "fragment"
    }
   },
   "outputs": [
    {
     "name": "stdout",
     "output_type": "stream",
     "text": [
      "995    1.269315\n",
      "996    0.387478\n",
      "997   -0.095731\n",
      "998    0.584686\n",
      "999    0.799677\n",
      "dtype: float64\n"
     ]
    }
   ],
   "source": [
    "print (long_series.tail())"
   ]
  },
  {
   "cell_type": "code",
   "execution_count": 46,
   "metadata": {
    "collapsed": false,
    "slideshow": {
     "slide_type": "fragment"
    }
   },
   "outputs": [
    {
     "name": "stdout",
     "output_type": "stream",
     "text": [
      "0     -0.902810\n",
      "1     -1.694437\n",
      "2      0.528200\n",
      "3     -0.459037\n",
      "4     -1.058786\n",
      "5      0.389012\n",
      "6     -0.625173\n",
      "7      0.881420\n",
      "8      0.434170\n",
      "9      0.659420\n",
      "10     0.029637\n",
      "11    -0.246760\n",
      "12     0.906382\n",
      "13     0.584791\n",
      "14     0.246605\n",
      "15    -0.367045\n",
      "16    -0.704702\n",
      "17    -0.860581\n",
      "18     0.094579\n",
      "19     1.684873\n",
      "20     1.187721\n",
      "21     0.229641\n",
      "22    -0.524206\n",
      "23    -1.337214\n",
      "24    -0.239634\n",
      "25     1.112808\n",
      "26    -0.635861\n",
      "27     0.941004\n",
      "28     0.484155\n",
      "29    -1.668259\n",
      "         ...   \n",
      "970   -0.305549\n",
      "971   -0.555185\n",
      "972   -0.713066\n",
      "973    2.105096\n",
      "974    0.849201\n",
      "975    1.403708\n",
      "976   -1.383584\n",
      "977    1.964265\n",
      "978    0.620386\n",
      "979   -0.745914\n",
      "980   -0.536447\n",
      "981    0.208562\n",
      "982    0.975882\n",
      "983    0.066489\n",
      "984    0.284581\n",
      "985    2.020700\n",
      "986    0.574022\n",
      "987    0.108452\n",
      "988    0.072934\n",
      "989    0.937319\n",
      "990   -0.319676\n",
      "991    0.192234\n",
      "992    0.450962\n",
      "993    0.716610\n",
      "994    0.120055\n",
      "995    1.269315\n",
      "996    0.387478\n",
      "997   -0.095731\n",
      "998    0.584686\n",
      "999    0.799677\n",
      "dtype: float64\n"
     ]
    }
   ],
   "source": [
    "print (long_series)# see reduce printing behaviour"
   ]
  },
  {
   "cell_type": "markdown",
   "metadata": {
    "slideshow": {
     "slide_type": "slide"
    }
   },
   "source": [
    "#4. Descriptive Statistics\n",
    "\n",
    "Descriptive Statistics sumarizes the underlying distribution of data values through statistical values like mean, variance etc."
   ]
  },
  {
   "cell_type": "markdown",
   "metadata": {
    "slideshow": {
     "slide_type": "slide"
    }
   },
   "source": [
    "##4.1 Basic Functions\n",
    "\n",
    "<table>\n",
    "<tr><td>Function</td><td>Description</td>\n",
    "<tr><td>count</td><td>Number of non-null observations</td>\n",
    "<tr><td>sum</td><td>Sum of values</td>\n",
    "<tr><td>mean</td><td>Mean of values</td>\n",
    "<tr><td>mad</td><td>Mean absolute deviation</td>\n",
    "<tr><td>median</td><td>Arithmetic median of values</td>\n",
    "<tr><td>min</td><td>Minimum</td>\n",
    "<tr><td>max</td><td>Maximum</td>\n",
    "<tr><td>mode</td><td>Mode</td>\n",
    "<tr><td>abs</td><td>Absolute Value</td>\n",
    "<tr><td>prod</td><td>Product of values</td>\n",
    "<tr><td>std</td><td>Unbiased standard deviation</td>\n",
    "<tr><td>var</td><td>Unbiased variance</td>\n",
    "<tr><td>skew</td><td>Unbiased skewness (3rd moment)</td>\n",
    "<tr><td>kurt</td><td>Unbiased kurtosis (4th moment)</td>\n",
    "<tr><td>quantile</td><td>Sample quantile (value at %)</td>\n",
    "<tr><td>cumsum</td><td>Cumulative sum</td>\n",
    "<tr><td>cumprod</td><td>Cumulative product</td>\n",
    "<tr><td>cummax</td><td>Cumulative maximum</td>\n",
    "<tr><td>cummin</td><td>Cumulative minimum</td>\n",
    "</table>\n"
   ]
  },
  {
   "cell_type": "code",
   "execution_count": 47,
   "metadata": {
    "collapsed": false,
    "slideshow": {
     "slide_type": "fragment"
    }
   },
   "outputs": [
    {
     "name": "stdout",
     "output_type": "stream",
     "text": [
      "                   A         B         C\n",
      "2000-01-01 -0.638257  0.755378 -0.124689\n",
      "2000-01-02 -1.446557  0.124290  0.034591\n",
      "2000-01-03 -0.066729  0.145252 -0.621815\n",
      "2000-01-04 -1.094891 -0.077731 -0.719412\n",
      "2000-01-05  0.021793  1.819796 -0.561636\n",
      "2000-01-06 -0.035043  0.449336  0.265688\n",
      "2000-01-07 -1.384167 -0.496259 -1.739774\n",
      "2000-01-08 -0.923778  0.123226  1.485048\n"
     ]
    }
   ],
   "source": [
    "print (df)"
   ]
  },
  {
   "cell_type": "code",
   "execution_count": 48,
   "metadata": {
    "collapsed": false,
    "slideshow": {
     "slide_type": "fragment"
    }
   },
   "outputs": [
    {
     "name": "stdout",
     "output_type": "stream",
     "text": [
      "A    0.021793\n",
      "B    1.819796\n",
      "C    1.485048\n",
      "dtype: float64\n",
      "========================================\n",
      "2000-01-01    0.755378\n",
      "2000-01-02    0.124290\n",
      "2000-01-03    0.145252\n",
      "2000-01-04   -0.077731\n",
      "2000-01-05    1.819796\n",
      "2000-01-06    0.449336\n",
      "2000-01-07   -0.496259\n",
      "2000-01-08    1.485048\n",
      "Freq: D, dtype: float64\n"
     ]
    }
   ],
   "source": [
    "#some examples\n",
    "print (df.max())\n",
    "print (\"========================================\")\n",
    "print (df.max(axis=1))"
   ]
  },
  {
   "cell_type": "markdown",
   "metadata": {
    "slideshow": {
     "slide_type": "subslide"
    }
   },
   "source": [
    "##4.2 Describe\n",
    "\n",
    "`describe` summarizes a DataFrame"
   ]
  },
  {
   "cell_type": "code",
   "execution_count": 49,
   "metadata": {
    "collapsed": false,
    "slideshow": {
     "slide_type": "fragment"
    }
   },
   "outputs": [
    {
     "data": {
      "text/html": [
       "<div>\n",
       "<table border=\"1\" class=\"dataframe\">\n",
       "  <thead>\n",
       "    <tr style=\"text-align: right;\">\n",
       "      <th></th>\n",
       "      <th>A</th>\n",
       "      <th>B</th>\n",
       "      <th>C</th>\n",
       "    </tr>\n",
       "  </thead>\n",
       "  <tbody>\n",
       "    <tr>\n",
       "      <th>count</th>\n",
       "      <td>8.000000</td>\n",
       "      <td>8.000000</td>\n",
       "      <td>8.000000</td>\n",
       "    </tr>\n",
       "    <tr>\n",
       "      <th>mean</th>\n",
       "      <td>-0.695954</td>\n",
       "      <td>0.355411</td>\n",
       "      <td>-0.247750</td>\n",
       "    </tr>\n",
       "    <tr>\n",
       "      <th>std</th>\n",
       "      <td>0.609369</td>\n",
       "      <td>0.694639</td>\n",
       "      <td>0.929525</td>\n",
       "    </tr>\n",
       "    <tr>\n",
       "      <th>min</th>\n",
       "      <td>-1.446557</td>\n",
       "      <td>-0.496259</td>\n",
       "      <td>-1.739774</td>\n",
       "    </tr>\n",
       "    <tr>\n",
       "      <th>25%</th>\n",
       "      <td>-1.167210</td>\n",
       "      <td>0.072986</td>\n",
       "      <td>-0.646214</td>\n",
       "    </tr>\n",
       "    <tr>\n",
       "      <th>50%</th>\n",
       "      <td>-0.781018</td>\n",
       "      <td>0.134771</td>\n",
       "      <td>-0.343163</td>\n",
       "    </tr>\n",
       "    <tr>\n",
       "      <th>75%</th>\n",
       "      <td>-0.058807</td>\n",
       "      <td>0.525847</td>\n",
       "      <td>0.092366</td>\n",
       "    </tr>\n",
       "    <tr>\n",
       "      <th>max</th>\n",
       "      <td>0.021793</td>\n",
       "      <td>1.819796</td>\n",
       "      <td>1.485048</td>\n",
       "    </tr>\n",
       "  </tbody>\n",
       "</table>\n",
       "</div>"
      ],
      "text/plain": [
       "              A         B         C\n",
       "count  8.000000  8.000000  8.000000\n",
       "mean  -0.695954  0.355411 -0.247750\n",
       "std    0.609369  0.694639  0.929525\n",
       "min   -1.446557 -0.496259 -1.739774\n",
       "25%   -1.167210  0.072986 -0.646214\n",
       "50%   -0.781018  0.134771 -0.343163\n",
       "75%   -0.058807  0.525847  0.092366\n",
       "max    0.021793  1.819796  1.485048"
      ]
     },
     "execution_count": 49,
     "metadata": {},
     "output_type": "execute_result"
    }
   ],
   "source": [
    "df.describe()"
   ]
  },
  {
   "cell_type": "markdown",
   "metadata": {
    "slideshow": {
     "slide_type": "subslide"
    }
   },
   "source": [
    "## 4.3 Index  of min and max"
   ]
  },
  {
   "cell_type": "code",
   "execution_count": 50,
   "metadata": {
    "collapsed": false,
    "slideshow": {
     "slide_type": "fragment"
    }
   },
   "outputs": [
    {
     "name": "stdout",
     "output_type": "stream",
     "text": [
      "                   A         B         C\n",
      "2000-01-01 -0.638257  0.755378 -0.124689\n",
      "2000-01-02 -1.446557  0.124290  0.034591\n",
      "2000-01-03 -0.066729  0.145252 -0.621815\n",
      "2000-01-04 -1.094891 -0.077731 -0.719412\n",
      "2000-01-05  0.021793  1.819796 -0.561636\n",
      "2000-01-06 -0.035043  0.449336  0.265688\n",
      "2000-01-07 -1.384167 -0.496259 -1.739774\n",
      "2000-01-08 -0.923778  0.123226  1.485048\n"
     ]
    }
   ],
   "source": [
    "print (df)"
   ]
  },
  {
   "cell_type": "code",
   "execution_count": 51,
   "metadata": {
    "collapsed": false,
    "slideshow": {
     "slide_type": "fragment"
    }
   },
   "outputs": [
    {
     "name": "stdout",
     "output_type": "stream",
     "text": [
      "A   2000-01-05\n",
      "B   2000-01-05\n",
      "C   2000-01-08\n",
      "dtype: datetime64[ns]\n",
      "============================\n",
      "A   2000-01-02\n",
      "B   2000-01-07\n",
      "C   2000-01-07\n",
      "dtype: datetime64[ns]\n",
      "============================\n",
      "2000-01-01    B\n",
      "2000-01-02    B\n",
      "2000-01-03    B\n",
      "2000-01-04    B\n",
      "2000-01-05    B\n",
      "2000-01-06    B\n",
      "2000-01-07    B\n",
      "2000-01-08    C\n",
      "Freq: D, dtype: object\n",
      "============================\n",
      "2000-01-01    A\n",
      "2000-01-02    A\n",
      "2000-01-03    C\n",
      "2000-01-04    A\n",
      "2000-01-05    C\n",
      "2000-01-06    A\n",
      "2000-01-07    C\n",
      "2000-01-08    A\n",
      "Freq: D, dtype: object\n"
     ]
    }
   ],
   "source": [
    "print (df.idxmax(axis=0))\n",
    "print (\"============================\")\n",
    "print (df.idxmin(axis=0))\n",
    "print (\"============================\")\n",
    "print (df.idxmax(axis=1))\n",
    "print (\"============================\")\n",
    "print (df.idxmin(axis=1))\n"
   ]
  },
  {
   "cell_type": "markdown",
   "metadata": {
    "slideshow": {
     "slide_type": "subslide"
    }
   },
   "source": [
    "##4.4 Histogram\n",
    "\n",
    "`value_counts()`allows to count the histogram"
   ]
  },
  {
   "cell_type": "code",
   "execution_count": 52,
   "metadata": {
    "collapsed": false,
    "slideshow": {
     "slide_type": "fragment"
    }
   },
   "outputs": [
    {
     "name": "stdout",
     "output_type": "stream",
     "text": [
      "1    10\n",
      "6     9\n",
      "2     8\n",
      "0     8\n",
      "4     6\n",
      "3     5\n",
      "5     4\n",
      "dtype: int64\n"
     ]
    }
   ],
   "source": [
    "data = np.random.randint(0, 7, size=50)\n",
    "s = pd.Series(data)\n",
    "print (s.value_counts())"
   ]
  },
  {
   "cell_type": "markdown",
   "metadata": {
    "slideshow": {
     "slide_type": "slide"
    }
   },
   "source": [
    "# 5 Group By\n",
    "\n",
    "Pandas supports grouping data frames for particular columns similar to a SQL group by clause."
   ]
  },
  {
   "cell_type": "code",
   "execution_count": 53,
   "metadata": {
    "collapsed": false,
    "slideshow": {
     "slide_type": "fragment"
    }
   },
   "outputs": [
    {
     "name": "stdout",
     "output_type": "stream",
     "text": [
      "Help on method groupby in module pandas.core.generic:\n",
      "\n",
      "groupby(by=None, axis=0, level=None, as_index=True, sort=True, group_keys=True, squeeze=False, **kwargs) method of pandas.core.frame.DataFrame instance\n",
      "    Group series using mapper (dict or key function, apply given function\n",
      "    to group, return result as series) or by a series of columns.\n",
      "    \n",
      "    Parameters\n",
      "    ----------\n",
      "    by : mapping function / list of functions, dict, Series, or tuple /\n",
      "        list of column names.\n",
      "        Called on each element of the object index to determine the groups.\n",
      "        If a dict or Series is passed, the Series or dict VALUES will be\n",
      "        used to determine the groups\n",
      "    axis : int, default 0\n",
      "    level : int, level name, or sequence of such, default None\n",
      "        If the axis is a MultiIndex (hierarchical), group by a particular\n",
      "        level or levels\n",
      "    as_index : boolean, default True\n",
      "        For aggregated output, return object with group labels as the\n",
      "        index. Only relevant for DataFrame input. as_index=False is\n",
      "        effectively \"SQL-style\" grouped output\n",
      "    sort : boolean, default True\n",
      "        Sort group keys. Get better performance by turning this off.\n",
      "        Note this does not influence the order of observations within each\n",
      "        group.  groupby preserves the order of rows within each group.\n",
      "    group_keys : boolean, default True\n",
      "        When calling apply, add group keys to index to identify pieces\n",
      "    squeeze : boolean, default False\n",
      "        reduce the dimensionality of the return type if possible,\n",
      "        otherwise return a consistent type\n",
      "    \n",
      "    Examples\n",
      "    --------\n",
      "    DataFrame results\n",
      "    \n",
      "    >>> data.groupby(func, axis=0).mean()\n",
      "    >>> data.groupby(['col1', 'col2'])['col3'].mean()\n",
      "    \n",
      "    DataFrame with hierarchical index\n",
      "    \n",
      "    >>> data.groupby(['col1', 'col2']).mean()\n",
      "    \n",
      "    Returns\n",
      "    -------\n",
      "    GroupBy object\n",
      "\n"
     ]
    }
   ],
   "source": [
    "help(df.groupby)"
   ]
  },
  {
   "cell_type": "code",
   "execution_count": 54,
   "metadata": {
    "collapsed": false,
    "slideshow": {
     "slide_type": "fragment"
    }
   },
   "outputs": [
    {
     "name": "stdout",
     "output_type": "stream",
     "text": [
      "       a  b         c\n",
      "0    one  x  0.339526\n",
      "1    one  y -0.115818\n",
      "2    two  y -0.439661\n",
      "3  three  x  0.428518\n",
      "4    two  y  2.087980\n",
      "5    one  x -2.269495\n",
      "6    six  x  1.889860\n"
     ]
    }
   ],
   "source": [
    "df2 = pd.DataFrame({'a' : ['one','one','two','three','two','one','six'],\n",
    "                 'b' : ['x','y','y','x','y','x','x'],\n",
    "                 'c' : np.random.randn(7)})\n",
    "print (df2)\n"
   ]
  },
  {
   "cell_type": "code",
   "execution_count": 55,
   "metadata": {
    "collapsed": false,
    "slideshow": {
     "slide_type": "fragment"
    }
   },
   "outputs": [
    {
     "name": "stdout",
     "output_type": "stream",
     "text": [
      "<pandas.core.groupby.DataFrameGroupBy object at 0xada15bcc>\n"
     ]
    }
   ],
   "source": [
    "print (df2.groupby('a')) #creates a groupby object"
   ]
  },
  {
   "cell_type": "code",
   "execution_count": 56,
   "metadata": {
    "collapsed": false,
    "slideshow": {
     "slide_type": "fragment"
    }
   },
   "outputs": [
    {
     "name": "stdout",
     "output_type": "stream",
     "text": [
      "              c\n",
      "a              \n",
      "one   -0.681929\n",
      "six    1.889860\n",
      "three  0.428518\n",
      "two    0.824160\n"
     ]
    }
   ],
   "source": [
    "#gropuing requires an aggregate function\n",
    "print (df2.groupby('a').mean()) #creates a groupby object"
   ]
  },
  {
   "cell_type": "code",
   "execution_count": 57,
   "metadata": {
    "collapsed": false,
    "slideshow": {
     "slide_type": "fragment"
    }
   },
   "outputs": [
    {
     "name": "stdout",
     "output_type": "stream",
     "text": [
      "                c\n",
      "a     b          \n",
      "one   x -0.964984\n",
      "      y -0.115818\n",
      "six   x  1.889860\n",
      "three x  0.428518\n",
      "two   y  0.824160\n"
     ]
    }
   ],
   "source": [
    "#works on multiple levels\n",
    "print (df2.groupby(['a','b']).mean())"
   ]
  },
  {
   "cell_type": "markdown",
   "metadata": {
    "slideshow": {
     "slide_type": "slide"
    }
   },
   "source": [
    "# 6. IO Tools\n",
    "\n",
    "The Pandas I/O api is a set of top level reader functions accessed like `pd.read_csv()` that generally return a pandas object.\n",
    "* read_csv\n",
    "* read_excel\n",
    "* read_hdf\n",
    "* read_sql\n",
    "* read_json\n",
    "* read_msgpack (experimental) \n",
    "* read_html\n",
    "* read_gbq (experimental)\n",
    "* read_stata\n",
    "* read_clipboard\n",
    "* read_pickle\n",
    "\n",
    "The corresponding writer functions are object methods that are accessed like df.to_csv() • to_csv\n",
    "* to_excel\n",
    "* to_hdf\n",
    "* to_sql\n",
    "* to_json\n",
    "* to_msgpack (experimental) • to_html\n",
    "* to_gbq (experimental) • to_stata\n",
    "* to_clipboard\n",
    "* to_pickle\n"
   ]
  },
  {
   "cell_type": "markdown",
   "metadata": {
    "slideshow": {
     "slide_type": "subslide"
    }
   },
   "source": [
    "** Open Data Access **\n",
    "\n",
    "Further, pandas supports some open data APIs, namely\n",
    "\n",
    "* Yahoo! Finance\n",
    "* Google Finance\n",
    "* St. Louis FED (FRED)\n",
    "* Kenneth French’s data library \n",
    "* World Bank"
   ]
  },
  {
   "cell_type": "markdown",
   "metadata": {
    "slideshow": {
     "slide_type": "subslide"
    }
   },
   "source": [
    "#6.1 Loading the Weather Data from the CSV\n",
    "\n",
    "In this example we load the weather datafrom the data directory ( \"data\\weather_data.csv\") "
   ]
  },
  {
   "cell_type": "code",
   "execution_count": 58,
   "metadata": {
    "collapsed": false,
    "slideshow": {
     "slide_type": "fragment"
    }
   },
   "outputs": [
    {
     "name": "stdout",
     "output_type": "stream",
     "text": [
      "311-service-requests.csv  cordisfp7noabstracts.xls  iris.dat  weather_data.csv\r\n"
     ]
    }
   ],
   "source": [
    "#! executes a shell command\n",
    "!ls data"
   ]
  },
  {
   "cell_type": "code",
   "execution_count": 59,
   "metadata": {
    "collapsed": false,
    "slideshow": {
     "slide_type": "fragment"
    }
   },
   "outputs": [
    {
     "name": "stdout",
     "output_type": "stream",
     "text": [
      "Day,outlook,temperature,humidity,windy,play\r\n",
      "1,sunny,85,85,false,no\r\n",
      "2,sunny,80,90,true,no\r\n",
      "3,overcast,83,86,false,yes\r\n",
      "4,rainy,70,96,false,yes\r\n",
      "5,rainy,68,80,false,yes\r\n",
      "6,rainy,65,70,true,no\r\n",
      "7,overcast,64,65,true,yes\r\n"
     ]
    }
   ],
   "source": [
    "!cat data/weather_data.csv"
   ]
  },
  {
   "cell_type": "code",
   "execution_count": 60,
   "metadata": {
    "collapsed": false,
    "slideshow": {
     "slide_type": "fragment"
    }
   },
   "outputs": [
    {
     "name": "stdout",
     "output_type": "stream",
     "text": [
      "   Day   outlook  temperature  humidity  windy play\n",
      "0    1     sunny           85        85  False   no\n",
      "1    2     sunny           80        90   True   no\n",
      "2    3  overcast           83        86  False  yes\n",
      "3    4     rainy           70        96  False  yes\n",
      "4    5     rainy           68        80  False  yes\n",
      "5    6     rainy           65        70   True   no\n",
      "6    7  overcast           64        65   True  yes\n"
     ]
    }
   ],
   "source": [
    "df = pd.read_csv(\"data/weather_data.csv\")\n",
    "print (df)"
   ]
  },
  {
   "cell_type": "code",
   "execution_count": 61,
   "metadata": {
    "collapsed": false,
    "slideshow": {
     "slide_type": "fragment"
    }
   },
   "outputs": [],
   "source": [
    "#use help to see the parameters \n",
    "pd.read_csv?"
   ]
  },
  {
   "cell_type": "markdown",
   "metadata": {
    "slideshow": {
     "slide_type": "slide"
    }
   },
   "source": [
    "## Exercise 6.1. Analysing New York City Open Data with Pandas\n",
    "\n",
    "Go to the exercise folder and conduct exercise 6.1."
   ]
  },
  {
   "cell_type": "markdown",
   "metadata": {
    "slideshow": {
     "slide_type": "slide"
    }
   },
   "source": [
    "# 7 Visualisations with Pandas\n",
    "\n",
    "Pandas has a number of build in visualisations using data frames.\n",
    "\n",
    "The default visualisations are build on top of mathplotlib (see  [Mathplotlib in a Nutshell](http://nbviewer.ipython.org/urls/raw.github.com/mgrani/LODA-lecture-notes-on-data-analysis/master/1.SP-in-Python/SPiP-5-Matplotlib.ipynb) for an introduction to Mathplotlib)\n",
    "\n",
    "Hence, `mathplotlib` has to be imported"
   ]
  },
  {
   "cell_type": "code",
   "execution_count": 62,
   "metadata": {
    "collapsed": false,
    "slideshow": {
     "slide_type": "fragment"
    }
   },
   "outputs": [],
   "source": [
    "import matplotlib.pyplot as plt"
   ]
  },
  {
   "cell_type": "code",
   "execution_count": 63,
   "metadata": {
    "collapsed": false,
    "slideshow": {
     "slide_type": "fragment"
    }
   },
   "outputs": [
    {
     "name": "stderr",
     "output_type": "stream",
     "text": [
      "/root/anaconda3/lib/python3.6/site-packages/IPython/core/interactiveshell.py:2881: FutureWarning: \n",
      "mpl_style had been deprecated and will be removed in a future version.\n",
      "Use `matplotlib.pyplot.style.use` instead.\n",
      "\n",
      "  exec(code_obj, self.user_global_ns, self.user_ns)\n"
     ]
    }
   ],
   "source": [
    "#to enable nicer plots\n",
    "pd.options.display.mpl_style = 'default'"
   ]
  },
  {
   "cell_type": "code",
   "execution_count": 64,
   "metadata": {
    "collapsed": false,
    "slideshow": {
     "slide_type": "fragment"
    }
   },
   "outputs": [
    {
     "name": "stdout",
     "output_type": "stream",
     "text": [
      "Populating the interactive namespace from numpy and matplotlib\n"
     ]
    }
   ],
   "source": [
    "#and enable to include plots inline in HTML\n",
    "%pylab inline"
   ]
  },
  {
   "cell_type": "markdown",
   "metadata": {
    "slideshow": {
     "slide_type": "subslide"
    }
   },
   "source": [
    "## 7.1 Basic Plotting: using `plot``\n",
    "\n",
    "The plot method on Series and DataFrame is just a simple wrapper around `plt.plot()`from the mathplotlib library\n",
    "￼￼"
   ]
  },
  {
   "cell_type": "code",
   "execution_count": 65,
   "metadata": {
    "collapsed": false,
    "slideshow": {
     "slide_type": "fragment"
    }
   },
   "outputs": [
    {
     "name": "stderr",
     "output_type": "stream",
     "text": [
      "/root/anaconda3/lib/python3.6/site-packages/matplotlib/font_manager.py:1297: UserWarning: findfont: Font family ['monospace'] not found. Falling back to DejaVu Sans\n",
      "  (prop.get_family(), self.defaultFamily[fontext]))\n"
     ]
    },
    {
     "data": {
      "image/png": "[encoded data removed]",
      "text/plain": [
       "<matplotlib.figure.Figure at 0xad1e360c>"
      ]
     },
     "metadata": {},
     "output_type": "display_data"
    }
   ],
   "source": [
    "ts = pd.Series(np.random.randn(1000), index=pd.date_range('1/1/2000', periods=1000))\n",
    "ts = ts.cumsum() #cumulative sum\n",
    "ts.plot()\n",
    "ts.cumsum?"
   ]
  },
  {
   "cell_type": "code",
   "execution_count": 66,
   "metadata": {
    "collapsed": false,
    "slideshow": {
     "slide_type": "fragment"
    }
   },
   "outputs": [
    {
     "data": {
      "text/plain": [
       "<matplotlib.axes._subplots.AxesSubplot at 0xab8fdb6c>"
      ]
     },
     "execution_count": 66,
     "metadata": {},
     "output_type": "execute_result"
    },
    {
     "name": "stderr",
     "output_type": "stream",
     "text": [
      "/root/anaconda3/lib/python3.6/site-packages/matplotlib/font_manager.py:1297: UserWarning: findfont: Font family ['monospace'] not found. Falling back to DejaVu Sans\n",
      "  (prop.get_family(), self.defaultFamily[fontext]))\n"
     ]
    },
    {
     "data": {
      "image/png": "[encoded data removed]",
      "text/plain": [
       "<matplotlib.figure.Figure at 0xab90674c>"
      ]
     },
     "metadata": {},
     "output_type": "display_data"
    }
   ],
   "source": [
    "#Plotting a dataframe\n",
    "df = pd.DataFrame(np.random.randn(1000, 4), index=ts.index, columns=list('ABCD'))\n",
    "df=df.cumsum() #cumulative sum to make the plot visually more robust\n",
    "df.plot()"
   ]
  },
  {
   "cell_type": "code",
   "execution_count": 67,
   "metadata": {
    "collapsed": false,
    "slideshow": {
     "slide_type": "fragment"
    }
   },
   "outputs": [
    {
     "data": {
      "text/plain": [
       "<matplotlib.axes._subplots.AxesSubplot at 0xab7c8ccc>"
      ]
     },
     "execution_count": 67,
     "metadata": {},
     "output_type": "execute_result"
    },
    {
     "name": "stderr",
     "output_type": "stream",
     "text": [
      "/root/anaconda3/lib/python3.6/site-packages/matplotlib/font_manager.py:1297: UserWarning: findfont: Font family ['monospace'] not found. Falling back to DejaVu Sans\n",
      "  (prop.get_family(), self.defaultFamily[fontext]))\n"
     ]
    },
    {
     "data": {
      "image/png": "[encoded data removed]",
      "text/plain": [
       "<matplotlib.figure.Figure at 0xab7d598c>"
      ]
     },
     "metadata": {},
     "output_type": "display_data"
    }
   ],
   "source": [
    "df['A']=np.abs(df['A']).cumsum() # make A ever increasing\n",
    "df.plot(x='A',y='B') #Plot A vs. B"
   ]
  },
  {
   "cell_type": "markdown",
   "metadata": {
    "slideshow": {
     "slide_type": "subslide"
    }
   },
   "source": [
    "#7.2. Changing the plot `kind`\n",
    "\n",
    "The keyword argument `kind` of the plot function allows to change the plot type.\n",
    "\n",
    "Available types are:\n",
    "\n",
    "* `bar` or  `barh` for bar plots\n",
    "* `kde` or `density` for density plots\n",
    "* `area` for area plots\n",
    "* `scatter` for scater plots\n",
    "* `hexbin` for hexagonal bin plots\n",
    "* `pie` for pie pots\n",
    "\n",
    "In addition to these `kind`'s, there are the `DataFrame.hist()`, and `DataFrame.boxplot()` methods, which use a separate interface.\n",
    "\n",
    "Finally, there are several plotting functions in `pandas.tools.plotting`:\n",
    "* Scatter Matrix\n",
    "* Andrews Curves\n",
    "* Parallel Coordinates\n",
    "* Lag Plot\n",
    "* Autocorrelation Plot\n",
    "* Bootstrap Plot\n",
    "* RadViz\n"
   ]
  },
  {
   "cell_type": "markdown",
   "metadata": {
    "slideshow": {
     "slide_type": "subslide"
    }
   },
   "source": [
    "#### Bar Plots"
   ]
  },
  {
   "cell_type": "code",
   "execution_count": 68,
   "metadata": {
    "collapsed": false,
    "slideshow": {
     "slide_type": "fragment"
    }
   },
   "outputs": [
    {
     "data": {
      "text/plain": [
       "<matplotlib.lines.Line2D at 0xab7c46ac>"
      ]
     },
     "execution_count": 68,
     "metadata": {},
     "output_type": "execute_result"
    },
    {
     "name": "stderr",
     "output_type": "stream",
     "text": [
      "/root/anaconda3/lib/python3.6/site-packages/matplotlib/font_manager.py:1297: UserWarning: findfont: Font family ['monospace'] not found. Falling back to DejaVu Sans\n",
      "  (prop.get_family(), self.defaultFamily[fontext]))\n"
     ]
    },
    {
     "data": {
      "image/png": "[encoded data removed]",
      "text/plain": [
       "<matplotlib.figure.Figure at 0xab75398c>"
      ]
     },
     "metadata": {},
     "output_type": "display_data"
    }
   ],
   "source": [
    "df.ix[5].plot(kind='bar'); plt.axhline(0, color='k') "
   ]
  },
  {
   "cell_type": "code",
   "execution_count": 69,
   "metadata": {
    "collapsed": false,
    "slideshow": {
     "slide_type": "fragment"
    }
   },
   "outputs": [
    {
     "name": "stderr",
     "output_type": "stream",
     "text": [
      "/root/anaconda3/lib/python3.6/site-packages/matplotlib/font_manager.py:1297: UserWarning: findfont: Font family ['monospace'] not found. Falling back to DejaVu Sans\n",
      "  (prop.get_family(), self.defaultFamily[fontext]))\n"
     ]
    },
    {
     "data": {
      "image/png": "[encoded data removed]",
      "text/plain": [
       "<matplotlib.figure.Figure at 0xab98feac>"
      ]
     },
     "metadata": {},
     "output_type": "display_data"
    }
   ],
   "source": [
    "#data frame\n",
    "df2 = pd.DataFrame(rand(10, 4), columns=['a', 'b', 'c', 'd'])\n",
    "df2.plot(kind='bar');"
   ]
  },
  {
   "cell_type": "code",
   "execution_count": 70,
   "metadata": {
    "collapsed": false,
    "slideshow": {
     "slide_type": "fragment"
    }
   },
   "outputs": [
    {
     "data": {
      "text/plain": [
       "<matplotlib.axes._subplots.AxesSubplot at 0xab6cd30c>"
      ]
     },
     "execution_count": 70,
     "metadata": {},
     "output_type": "execute_result"
    },
    {
     "name": "stderr",
     "output_type": "stream",
     "text": [
      "/root/anaconda3/lib/python3.6/site-packages/matplotlib/font_manager.py:1297: UserWarning: findfont: Font family ['monospace'] not found. Falling back to DejaVu Sans\n",
      "  (prop.get_family(), self.defaultFamily[fontext]))\n"
     ]
    },
    {
     "data": {
      "image/png": "[encoded data removed]",
      "text/plain": [
       "<matplotlib.figure.Figure at 0xab6d668c>"
      ]
     },
     "metadata": {},
     "output_type": "display_data"
    }
   ],
   "source": [
    "#stacked\n",
    "df2.plot(kind='bar',stacked=True)"
   ]
  },
  {
   "cell_type": "code",
   "execution_count": 71,
   "metadata": {
    "collapsed": false,
    "slideshow": {
     "slide_type": "fragment"
    }
   },
   "outputs": [
    {
     "data": {
      "text/plain": [
       "<matplotlib.axes._subplots.AxesSubplot at 0xab61608c>"
      ]
     },
     "execution_count": 71,
     "metadata": {},
     "output_type": "execute_result"
    },
    {
     "name": "stderr",
     "output_type": "stream",
     "text": [
      "/root/anaconda3/lib/python3.6/site-packages/matplotlib/font_manager.py:1297: UserWarning: findfont: Font family ['monospace'] not found. Falling back to DejaVu Sans\n",
      "  (prop.get_family(), self.defaultFamily[fontext]))\n"
     ]
    },
    {
     "data": {
      "image/png": "[encoded data removed]",
      "text/plain": [
       "<matplotlib.figure.Figure at 0xab6241ac>"
      ]
     },
     "metadata": {},
     "output_type": "display_data"
    }
   ],
   "source": [
    "#stacked horizontal\n",
    "df2.plot(kind='barh',stacked=True)"
   ]
  },
  {
   "cell_type": "markdown",
   "metadata": {
    "slideshow": {
     "slide_type": "subslide"
    }
   },
   "source": [
    "#### Histograms"
   ]
  },
  {
   "cell_type": "code",
   "execution_count": 72,
   "metadata": {
    "collapsed": false,
    "slideshow": {
     "slide_type": "fragment"
    }
   },
   "outputs": [
    {
     "name": "stdout",
     "output_type": "stream",
     "text": [
      "2000-01-01         NaN\n",
      "2000-01-02    1.751288\n",
      "2000-01-03    1.178475\n",
      "2000-01-04    0.420615\n",
      "2000-01-05    0.237548\n",
      "2000-01-06    1.029411\n",
      "2000-01-07    0.293868\n",
      "2000-01-08    1.696605\n",
      "2000-01-09    2.563812\n",
      "2000-01-10    2.180604\n",
      "2000-01-11    1.931434\n",
      "2000-01-12    1.580125\n",
      "2000-01-13    1.793256\n",
      "2000-01-14    0.129548\n",
      "2000-01-15    1.596291\n",
      "2000-01-16    1.671201\n",
      "2000-01-17    0.863142\n",
      "2000-01-18    0.526504\n",
      "2000-01-19    0.325347\n",
      "2000-01-20    1.875291\n",
      "2000-01-21    1.622472\n",
      "2000-01-22    0.009939\n",
      "2000-01-23    1.191421\n",
      "2000-01-24    2.160625\n",
      "2000-01-25    1.032552\n",
      "2000-01-26    0.558451\n",
      "2000-01-27    1.273175\n",
      "2000-01-28    2.929804\n",
      "2000-01-29    5.073553\n",
      "2000-01-30    7.063164\n",
      "                ...   \n",
      "2002-08-28    8.566961\n",
      "2002-08-29    8.171986\n",
      "2002-08-30    7.922716\n",
      "2002-08-31    7.098726\n",
      "2002-09-01    7.671915\n",
      "2002-09-02    7.747998\n",
      "2002-09-03    8.357247\n",
      "2002-09-04    8.624567\n",
      "2002-09-05    8.364782\n",
      "2002-09-06    8.804311\n",
      "2002-09-07    8.597494\n",
      "2002-09-08    8.897031\n",
      "2002-09-09    7.225504\n",
      "2002-09-10    6.036927\n",
      "2002-09-11    5.241594\n",
      "2002-09-12    5.200584\n",
      "2002-09-13    5.200850\n",
      "2002-09-14    4.983358\n",
      "2002-09-15    7.277788\n",
      "2002-09-16    6.029646\n",
      "2002-09-17    6.219021\n",
      "2002-09-18    4.827016\n",
      "2002-09-19    5.297773\n",
      "2002-09-20    5.395148\n",
      "2002-09-21    6.650723\n",
      "2002-09-22    5.907141\n",
      "2002-09-23    5.458576\n",
      "2002-09-24    7.041632\n",
      "2002-09-25    7.930675\n",
      "2002-09-26    8.825821\n",
      "Freq: D, Name: A, dtype: float64\n"
     ]
    },
    {
     "data": {
      "text/plain": [
       "<matplotlib.axes._subplots.AxesSubplot at 0xab4eec4c>"
      ]
     },
     "execution_count": 72,
     "metadata": {},
     "output_type": "execute_result"
    },
    {
     "name": "stderr",
     "output_type": "stream",
     "text": [
      "/root/anaconda3/lib/python3.6/site-packages/matplotlib/font_manager.py:1297: UserWarning: findfont: Font family ['monospace'] not found. Falling back to DejaVu Sans\n",
      "  (prop.get_family(), self.defaultFamily[fontext]))\n"
     ]
    },
    {
     "data": {
      "image/png": "[encoded data removed]",
      "text/plain": [
       "<matplotlib.figure.Figure at 0xab5656ac>"
      ]
     },
     "metadata": {},
     "output_type": "display_data"
    }
   ],
   "source": [
    "#histogram of a series. Note we apply diff to undo the cumsum before\n",
    "print (df['A'].diff())\n",
    "df['A'].diff().hist()"
   ]
  },
  {
   "cell_type": "code",
   "execution_count": 73,
   "metadata": {
    "collapsed": false
   },
   "outputs": [
    {
     "data": {
      "text/plain": [
       "array([[<matplotlib.axes._subplots.AxesSubplot object at 0xab47582c>,\n",
       "        <matplotlib.axes._subplots.AxesSubplot object at 0xab43b08c>],\n",
       "       [<matplotlib.axes._subplots.AxesSubplot object at 0xab3f906c>,\n",
       "        <matplotlib.axes._subplots.AxesSubplot object at 0xab426d2c>]], dtype=object)"
      ]
     },
     "execution_count": 73,
     "metadata": {},
     "output_type": "execute_result"
    },
    {
     "name": "stderr",
     "output_type": "stream",
     "text": [
      "/root/anaconda3/lib/python3.6/site-packages/matplotlib/font_manager.py:1297: UserWarning: findfont: Font family ['monospace'] not found. Falling back to DejaVu Sans\n",
      "  (prop.get_family(), self.defaultFamily[fontext]))\n"
     ]
    },
    {
     "data": {
      "image/png": "[encoded data removed]",
      "text/plain": [
       "<matplotlib.figure.Figure at 0xab474c8c>"
      ]
     },
     "metadata": {},
     "output_type": "display_data"
    }
   ],
   "source": [
    "#histogram of a Data Frame. Note we apply diff to undo the cumsum before\n",
    "df.diff().hist(color='k', alpha=0.5, bins=50)"
   ]
  },
  {
   "cell_type": "markdown",
   "metadata": {
    "slideshow": {
     "slide_type": "subslide"
    }
   },
   "source": [
    "#### Box Plots\n"
   ]
  },
  {
   "cell_type": "code",
   "execution_count": 75,
   "metadata": {
    "collapsed": false,
    "slideshow": {
     "slide_type": "fragment"
    }
   },
   "outputs": [
    {
     "name": "stdout",
     "output_type": "stream",
     "text": [
      "          0         1         2         3         4\n",
      "0  0.033885  0.299419  0.849662  0.361613  0.728853\n",
      "1  0.056153  0.159586  0.153407  0.309712  0.165860\n",
      "2  0.508705  0.416947  0.715980  0.378378  0.879038\n",
      "3  0.729995  0.099575  0.373362  0.698497  0.485611\n",
      "4  0.219906  0.956254  0.808835  0.830093  0.125578\n",
      "5  0.220332  0.001306  0.598065  0.822358  0.773090\n",
      "6  0.880938  0.890485  0.298161  0.135689  0.783500\n",
      "7  0.214300  0.642421  0.368115  0.448406  0.235915\n",
      "8  0.723278  0.866427  0.276268  0.386223  0.066042\n",
      "9  0.454850  0.341577  0.875012  0.112684  0.972876\n"
     ]
    },
    {
     "name": "stderr",
     "output_type": "stream",
     "text": [
      "/root/anaconda3/lib/python3.6/site-packages/matplotlib/font_manager.py:1297: UserWarning: findfont: Font family ['monospace'] not found. Falling back to DejaVu Sans\n",
      "  (prop.get_family(), self.defaultFamily[fontext]))\n"
     ]
    },
    {
     "data": {
      "image/png": "[encoded data removed]",
      "text/plain": [
       "<matplotlib.figure.Figure at 0xad65e58c>"
      ]
     },
     "metadata": {},
     "output_type": "display_data"
    }
   ],
   "source": [
    "df = pd.DataFrame(rand(10,5))\n",
    "print (df)\n",
    "bp = df.boxplot()"
   ]
  },
  {
   "cell_type": "code",
   "execution_count": 76,
   "metadata": {
    "collapsed": false,
    "slideshow": {
     "slide_type": "fragment"
    }
   },
   "outputs": [
    {
     "name": "stderr",
     "output_type": "stream",
     "text": [
      "/root/anaconda3/lib/python3.6/site-packages/matplotlib/font_manager.py:1297: UserWarning: findfont: Font family ['monospace'] not found. Falling back to DejaVu Sans\n",
      "  (prop.get_family(), self.defaultFamily[fontext]))\n"
     ]
    },
    {
     "data": {
      "image/png": "[encoded data removed]",
      "text/plain": [
       "<matplotlib.figure.Figure at 0xab1ce82c>"
      ]
     },
     "metadata": {},
     "output_type": "display_data"
    }
   ],
   "source": [
    "df = pd.DataFrame(rand(10,2), columns=['Col1', 'Col2'] )\n",
    "df['X'] = pd.Series(['A','A','A','A','A','B','B','B','B','B'])\n",
    "#group boxplot by a series\n",
    "bp = df.boxplot(by='X')"
   ]
  },
  {
   "cell_type": "markdown",
   "metadata": {
    "slideshow": {
     "slide_type": "subslide"
    }
   },
   "source": [
    "#### Area Plot"
   ]
  },
  {
   "cell_type": "code",
   "execution_count": 78,
   "metadata": {
    "collapsed": false
   },
   "outputs": [
    {
     "name": "stdout",
     "output_type": "stream",
     "text": [
      "0.19.2\n"
     ]
    },
    {
     "data": {
      "text/plain": [
       "<matplotlib.axes._subplots.AxesSubplot at 0xab0ac16c>"
      ]
     },
     "execution_count": 78,
     "metadata": {},
     "output_type": "execute_result"
    },
    {
     "name": "stderr",
     "output_type": "stream",
     "text": [
      "/root/anaconda3/lib/python3.6/site-packages/matplotlib/font_manager.py:1297: UserWarning: findfont: Font family ['monospace'] not found. Falling back to DejaVu Sans\n",
      "  (prop.get_family(), self.defaultFamily[fontext]))\n"
     ]
    },
    {
     "data": {
      "image/png": "[encoded data removed]",
      "text/plain": [
       "<matplotlib.figure.Figure at 0xab23f30c>"
      ]
     },
     "metadata": {},
     "output_type": "display_data"
    }
   ],
   "source": [
    "#note only available in pandas 0.14\n",
    "print (pd.__version__)\n",
    "df = pd.DataFrame(rand(10, 4), columns=['a', 'b', 'c', 'd'])\n",
    "df.plot(kind='area')"
   ]
  },
  {
   "cell_type": "markdown",
   "metadata": {
    "slideshow": {
     "slide_type": "subslide"
    }
   },
   "source": [
    "#### Scatter Matrix Plot\n"
   ]
  },
  {
   "cell_type": "code",
   "execution_count": 79,
   "metadata": {
    "collapsed": false,
    "slideshow": {
     "slide_type": "fragment"
    }
   },
   "outputs": [
    {
     "data": {
      "text/plain": [
       "array([[<matplotlib.axes._subplots.AxesSubplot object at 0xab0540cc>,\n",
       "        <matplotlib.axes._subplots.AxesSubplot object at 0xab22f1cc>,\n",
       "        <matplotlib.axes._subplots.AxesSubplot object at 0xab205d6c>,\n",
       "        <matplotlib.axes._subplots.AxesSubplot object at 0xab21550c>],\n",
       "       [<matplotlib.axes._subplots.AxesSubplot object at 0xab02250c>,\n",
       "        <matplotlib.axes._subplots.AxesSubplot object at 0xab02254c>,\n",
       "        <matplotlib.axes._subplots.AxesSubplot object at 0xaafd374c>,\n",
       "        <matplotlib.axes._subplots.AxesSubplot object at 0xaaf41f8c>],\n",
       "       [<matplotlib.axes._subplots.AxesSubplot object at 0xaaefdfec>,\n",
       "        <matplotlib.axes._subplots.AxesSubplot object at 0xaaeb536c>,\n",
       "        <matplotlib.axes._subplots.AxesSubplot object at 0xaae6ce8c>,\n",
       "        <matplotlib.axes._subplots.AxesSubplot object at 0xaaea534c>],\n",
       "       [<matplotlib.axes._subplots.AxesSubplot object at 0xaae5bfec>,\n",
       "        <matplotlib.axes._subplots.AxesSubplot object at 0xaadf0c8c>,\n",
       "        <matplotlib.axes._subplots.AxesSubplot object at 0xaadd118c>,\n",
       "        <matplotlib.axes._subplots.AxesSubplot object at 0xaad8b2ec>]], dtype=object)"
      ]
     },
     "execution_count": 79,
     "metadata": {},
     "output_type": "execute_result"
    },
    {
     "name": "stderr",
     "output_type": "stream",
     "text": [
      "/root/anaconda3/lib/python3.6/site-packages/matplotlib/font_manager.py:1297: UserWarning: findfont: Font family ['monospace'] not found. Falling back to DejaVu Sans\n",
      "  (prop.get_family(), self.defaultFamily[fontext]))\n"
     ]
    },
    {
     "data": {
      "image/png": "[encoded data removed]",
      "text/plain": [
       "<matplotlib.figure.Figure at 0xab0ac0ac>"
      ]
     },
     "metadata": {},
     "output_type": "display_data"
    }
   ],
   "source": [
    "from pandas.tools.plotting import scatter_matrix\n",
    "df = pd.DataFrame(randn(1000, 4), columns=['a', 'b', 'c', 'd'])\n",
    "scatter_matrix(df, alpha=0.2, figsize=(6, 6), diagonal='kde')\n"
   ]
  },
  {
   "cell_type": "markdown",
   "metadata": {
    "slideshow": {
     "slide_type": "subslide"
    }
   },
   "source": [
    "#### Density Plots\n",
    "\n",
    "Plot an estimated probability density function (PDE)"
   ]
  },
  {
   "cell_type": "code",
   "execution_count": 80,
   "metadata": {
    "collapsed": false,
    "slideshow": {
     "slide_type": "fragment"
    }
   },
   "outputs": [
    {
     "data": {
      "text/plain": [
       "<matplotlib.axes._subplots.AxesSubplot at 0xaad8604c>"
      ]
     },
     "execution_count": 80,
     "metadata": {},
     "output_type": "execute_result"
    },
    {
     "name": "stderr",
     "output_type": "stream",
     "text": [
      "/root/anaconda3/lib/python3.6/site-packages/matplotlib/font_manager.py:1297: UserWarning: findfont: Font family ['monospace'] not found. Falling back to DejaVu Sans\n",
      "  (prop.get_family(), self.defaultFamily[fontext]))\n"
     ]
    },
    {
     "data": {
      "image/png": "[encoded data removed]",
      "text/plain": [
       "<matplotlib.figure.Figure at 0xab0c7b2c>"
      ]
     },
     "metadata": {},
     "output_type": "display_data"
    }
   ],
   "source": [
    "ser = pd.Series(numpy.random.randn(1000))\n",
    "ser.plot(kind='kde')"
   ]
  },
  {
   "cell_type": "markdown",
   "metadata": {
    "slideshow": {
     "slide_type": "subslide"
    }
   },
   "source": [
    "#### Andrews Curves\n",
    "\n",
    "Andrews curves allow one to plot multivariate data as a large number of curves that are created using the attributes of samples as coefficients for Fourier series. By coloring these curves differently for each class it is possible to visualize data clustering. Curves belonging to samples of the same class will usually be closer together and form larger structures."
   ]
  },
  {
   "cell_type": "code",
   "execution_count": 81,
   "metadata": {
    "collapsed": false,
    "slideshow": {
     "slide_type": "fragment"
    }
   },
   "outputs": [
    {
     "data": {
      "text/plain": [
       "<matplotlib.axes._subplots.AxesSubplot at 0xa9b6a16c>"
      ]
     },
     "execution_count": 81,
     "metadata": {},
     "output_type": "execute_result"
    },
    {
     "name": "stderr",
     "output_type": "stream",
     "text": [
      "/root/anaconda3/lib/python3.6/site-packages/matplotlib/font_manager.py:1297: UserWarning: findfont: Font family ['monospace'] not found. Falling back to DejaVu Sans\n",
      "  (prop.get_family(), self.defaultFamily[fontext]))\n"
     ]
    },
    {
     "data": {
      "image/png": "[encoded data removed]",
      "text/plain": [
       "<matplotlib.figure.Figure at 0xa9b70bec>"
      ]
     },
     "metadata": {},
     "output_type": "display_data"
    }
   ],
   "source": [
    "from pandas.tools.plotting import andrews_curves\n",
    "data = pd.read_csv('data/iris.dat')\n",
    "#print data\n",
    "andrews_curves(data, 'Name')"
   ]
  },
  {
   "cell_type": "markdown",
   "metadata": {
    "slideshow": {
     "slide_type": "subslide"
    }
   },
   "source": [
    "#### Parallel Coordinates\n",
    "\n",
    "Parallel coordinates is a plotting technique for plotting multivariate data. It allows one to see clusters in data and to estimate other statistics visually. Using parallel coordinates points are represented as connected line segments. Each vertical line represents one attribute. One set of connected line segments represents one data point. Points that tend to cluster will appear closer together."
   ]
  },
  {
   "cell_type": "code",
   "execution_count": 82,
   "metadata": {
    "collapsed": false,
    "slideshow": {
     "slide_type": "fragment"
    }
   },
   "outputs": [
    {
     "data": {
      "text/plain": [
       "<matplotlib.axes._subplots.AxesSubplot at 0xa81075cc>"
      ]
     },
     "execution_count": 82,
     "metadata": {},
     "output_type": "execute_result"
    },
    {
     "name": "stderr",
     "output_type": "stream",
     "text": [
      "/root/anaconda3/lib/python3.6/site-packages/matplotlib/font_manager.py:1297: UserWarning: findfont: Font family ['monospace'] not found. Falling back to DejaVu Sans\n",
      "  (prop.get_family(), self.defaultFamily[fontext]))\n"
     ]
    },
    {
     "data": {
      "image/png": "[encoded data removed]",
      "text/plain": [
       "<matplotlib.figure.Figure at 0xa810712c>"
      ]
     },
     "metadata": {},
     "output_type": "display_data"
    }
   ],
   "source": [
    "from pandas.tools.plotting import parallel_coordinates\n",
    "parallel_coordinates(data, 'Name')"
   ]
  },
  {
   "cell_type": "markdown",
   "metadata": {
    "slideshow": {
     "slide_type": "subslide"
    }
   },
   "source": [
    "#### Rad Viz\n",
    "\n",
    "RadViz is a way of visualizing multi-variate data. It is based on a simple spring tension minimization algorithm. Basically you set up a bunch of points in a plane. In our case they are equally spaced on a unit circle. Each point represents a single attribute. You then pretend that each sample in the data set is attached to each of these points by a spring, the stiffness of which is proportional to the numerical value of that attribute (they are normalized to unit interval). The point in the plane, where our sample settles to (where the forces acting on our sample are at an equilibrium) is where a dot representing our sample will be drawn. Depending on which class that sample belongs it will be colored differently."
   ]
  },
  {
   "cell_type": "code",
   "execution_count": 83,
   "metadata": {
    "collapsed": false,
    "slideshow": {
     "slide_type": "fragment"
    }
   },
   "outputs": [
    {
     "data": {
      "text/plain": [
       "<matplotlib.axes._subplots.AxesSubplot at 0xa7edd98c>"
      ]
     },
     "execution_count": 83,
     "metadata": {},
     "output_type": "execute_result"
    },
    {
     "name": "stderr",
     "output_type": "stream",
     "text": [
      "/root/anaconda3/lib/python3.6/site-packages/matplotlib/font_manager.py:1297: UserWarning: findfont: Font family ['monospace'] not found. Falling back to DejaVu Sans\n",
      "  (prop.get_family(), self.defaultFamily[fontext]))\n"
     ]
    },
    {
     "data": {
      "image/png": "[encoded data removed]",
      "text/plain": [
       "<matplotlib.figure.Figure at 0xa7edd02c>"
      ]
     },
     "metadata": {},
     "output_type": "display_data"
    }
   ],
   "source": [
    "from pandas.tools.plotting import radviz\n",
    "radviz(data, 'Name')"
   ]
  },
  {
   "cell_type": "markdown",
   "metadata": {
    "slideshow": {
     "slide_type": "slide"
    }
   },
   "source": [
    "### Exercise 6.1.c: Visual Analysis of Complaints in NYC\n",
    "\n",
    "Time to try it out by yourself. Go to to the exercise and try to solve it."
   ]
  },
  {
   "cell_type": "markdown",
   "metadata": {
    "slideshow": {
     "slide_type": "slide"
    }
   },
   "source": [
    "# References\n",
    "\n",
    "* [Pandas Documentation](http://pandas.pydata.org/pandas-docs/stable/)\n",
    "* [Tutorials and Cookbooks] (http://pandas.pydata.org/pandas-docs/stable/tutorials.html)"
   ]
  }
 ],
 "metadata": {
  "celltoolbar": "Slideshow",
  "kernelspec": {
   "display_name": "Python 3",
   "language": "python",
   "name": "python3"
  },
  "language_info": {
   "codemirror_mode": {
    "name": "ipython",
    "version": 3
   },
   "file_extension": ".py",
   "mimetype": "text/x-python",
   "name": "python",
   "nbconvert_exporter": "python",
   "pygments_lexer": "ipython3",
   "version": "3.6.0"
  }
 },
 "nbformat": 4,
 "nbformat_minor": 0
}
