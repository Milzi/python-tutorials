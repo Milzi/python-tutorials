{
 "metadata": {
  "celltoolbar": "Slideshow",
  "name": "",
  "signature": "sha256:74a5119e65e45caaf36009ee2ea89073e542fe72c67056c172912559b4f96a68"
 },
 "nbformat": 3,
 "nbformat_minor": 0,
 "worksheets": [
  {
   "cells": [
    {
     "cell_type": "markdown",
     "metadata": {
      "slideshow": {
       "slide_type": "slide"
      }
     },
     "source": [
      "# Scientific Programming in Python (SPiP) - Data Analysis with Pandas\n",
      "\n",
      "\n",
      "by [Michael Granitzer (michael.granitzer@uni-passau.de)](http://www.mendeley.com/profiles/michael-granitzer/) \n",
      "\n",
      "based on the following sources\n",
      "\n",
      "* [Pandas Documentation](http://pandas.pydata.org/pandas-docs/stable/pandas.pdf)\n",
      "* [Marcel Caraciolo](https://github.com/marcelcaraciolo), \n",
      "  [Big Data Tutorial](https://github.com/marcelcaraciolo/big-data-tutorial)\n",
      "\n",
      "\n",
      "__License__\n",
      "\n",
      "This work is licensed under a [Creative Commons Attribution 3.0 Unported License](http://creativecommons.org/licenses/by/3.0/)"
     ]
    },
    {
     "cell_type": "markdown",
     "metadata": {
      "slideshow": {
       "slide_type": "subslide"
      }
     },
     "source": [
      "#Content and Goals\n",
      "\n",
      "##Content\n",
      "\n",
      "* What is Pandas?\n",
      "* Basic Data Structures: Series and Data Frame\n",
      "* Basic Functions\n",
      "* Descriptive statistic\n",
      "* IO Tools\n",
      "* Visualisation with Pandas\n",
      "\n",
      "##Goals \n",
      "* Multivariate Data processing\n",
      "* Loading, filtering, analysing data sets\n",
      "* Basic visualisation/plotting functions\n"
     ]
    },
    {
     "cell_type": "markdown",
     "metadata": {
      "slideshow": {
       "slide_type": "slide"
      }
     },
     "source": [
      "# 1. What is Pandas\n",
      "\n",
      "*pandas is a Python package providing fast, \ufb02exible, and expressive data structures designed to make working with\n",
      "\u201crelational\u201d or \u201clabeled\u201d data both easy and intuitive. It aims to be the fundamental high-level building block for doing\n",
      "practical, real world data analysis in Python* (http://pandas.pydata.org/) \n",
      "\n",
      "Pandas builds on top of Numpy to ease managing heterogeneous data sets.\n"
     ]
    },
    {
     "cell_type": "markdown",
     "metadata": {
      "slideshow": {
       "slide_type": "subslide"
      }
     },
     "source": [
      "## 1.1 Data Handled by Pandas\n",
      "\n",
      "Pandas is well suited for many different kinds of data:\n",
      "\n",
      "* Tabular data with heterogeneously-typed columns (comparable to EXCEL, R or relational Databases)\n",
      "* Time series data\n",
      "*  Matrix data(homogeneously typed or heterogeneous) with row and column labels\n",
      "* Any other form of observational / statistical data sets. \n"
     ]
    },
    {
     "cell_type": "markdown",
     "metadata": {
      "slideshow": {
       "slide_type": "subslide"
      }
     },
     "source": [
      "## 1.2 Feature Overview\n",
      "\n",
      "* Easy handling of missing data (represented as NaN)\n",
      "* Size mutability: columns can be inserted and deleted from DataFrame and higher dimensional objects\n",
      "* Automatic and explicit data alignment: objects can be explicitly aligned to a set of labels, or the user can simply ignore the labels and let Series, DataFrame, etc. automatically align the data for you in computations\n",
      "* Powerful, flexible group by functionality to perform split-apply-combine operations on data sets, for both ag- gregating and transforming data\n",
      "* Make it easy to convert ragged, differently-indexed data in other Python and NumPy data structures into DataFrame objects\n",
      "* Intelligent label-based slicing, fancy indexing, and subsetting of large data sets\n",
      "* Intuitive merging and joining data sets\n",
      "* Flexible reshaping and pivoting of data sets\n",
      "* Hierarchical labeling of axes (possible to have multiple labels per tick)\n",
      "* Robust IO tools for loading and storing data \n",
      "* Time series-specific functionality\n",
      "* Fast realization in Cython\n",
      "\n"
     ]
    },
    {
     "cell_type": "markdown",
     "metadata": {
      "slideshow": {
       "slide_type": "slide"
      }
     },
     "source": [
      "# 2. Pandas Data Structures\n",
      "\n",
      "Pandas is build around two data structures\n",
      "\n",
      "* `Series` represent 1 dimensional datasets as subclass of Numpy's ndarray\n",
      "* `DataFrame` represent 2 dimensional data sets as list of `Series`\n",
      "* `Panel` represents higher dimensional data as dictionaries of `DataFrame`'s. We do not discuss `Panel`'s here.\n",
      "\n",
      "For all data structures, labels/indices can be defined per row and column. \n",
      "\n",
      "Data alignment is intrinsict, i.e. the link between labels and data will not be broken.\n",
      "\n"
     ]
    },
    {
     "cell_type": "markdown",
     "metadata": {
      "slideshow": {
       "slide_type": "slide"
      }
     },
     "source": [
      "## 2.1. Series: labelled arrays\n",
      "\n",
      "Series is a one-dimensional labeled array capable of holding any data type (integers, strings, \ufb02oating point numbers,Python objects, etc.). The axis labels are collectively referred to as the index. The basic method to create a Series is\n",
      "to call:\n",
      "\n",
      "    Series(data, index=index)\n",
      "    \n",
      "`data` may be a dict, a `numpy.ndarray` or a sclar value"
     ]
    },
    {
     "cell_type": "markdown",
     "metadata": {
      "slideshow": {
       "slide_type": "fragment"
      }
     },
     "source": [
      "**Creating a series**"
     ]
    },
    {
     "cell_type": "code",
     "collapsed": false,
     "input": [
      "import numpy as np # we need numpy\n",
      "import pandas as pd #import pandas\n",
      "\n",
      "\n",
      "values = np.array([2.0, 1.0, 5.0, 0.97, 3.0, 10.0, 0.0599, 8.0]) #create numpy array\n",
      "ser = pd.Series(values) # now create series\n",
      "print ser"
     ],
     "language": "python",
     "metadata": {
      "slideshow": {
       "slide_type": "fragment"
      }
     },
     "outputs": [
      {
       "output_type": "stream",
       "stream": "stdout",
       "text": [
        "0     2.0000\n",
        "1     1.0000\n",
        "2     5.0000\n",
        "3     0.9700\n",
        "4     3.0000\n",
        "5    10.0000\n",
        "6     0.0599\n",
        "7     8.0000\n",
        "dtype: float64\n"
       ]
      }
     ],
     "prompt_number": 70
    },
    {
     "cell_type": "code",
     "collapsed": false,
     "input": [
      "#now lets put some index on the data\n",
      "#indices will be great later on when accessing datas\n",
      "#indices represent unique identifiers for rows\n",
      "values = np.array([2.0, 1.0, 5.0, 0.97, 3.0, 10.0, 0.0599, 8.0])\n",
      "labels = ['A', 'B', 'C', 'D', 'E', 'F', 'G', 'H']\n",
      "ser = pd.Series(data=values, index=labels)#values and labels must have the same dimension\n",
      "print ser\n"
     ],
     "language": "python",
     "metadata": {
      "slideshow": {
       "slide_type": "fragment"
      }
     },
     "outputs": [
      {
       "output_type": "stream",
       "stream": "stdout",
       "text": [
        "A     2.0000\n",
        "B     1.0000\n",
        "C     5.0000\n",
        "D     0.9700\n",
        "E     3.0000\n",
        "F    10.0000\n",
        "G     0.0599\n",
        "H     8.0000\n",
        "dtype: float64\n"
       ]
      }
     ],
     "prompt_number": 71
    },
    {
     "cell_type": "code",
     "collapsed": false,
     "input": [
      "#craeting a heterogeneous series\n",
      "movie_rating = {\n",
      "    'age': 1,\n",
      "    'gender': 'F',\n",
      "    'genres': 'Drama',\n",
      "    'movie_id': 1193,\n",
      "    'occupation': 10,\n",
      "    'rating': 5,\n",
      "    'timestamp': 978300760,\n",
      "    'title': \"One Flew Over the Cuckoo's Nest (1975)\",\n",
      "    'user_id': 1,\n",
      "    'zip': '48067'\n",
      "    }\n",
      "ser = pd.Series(movie_rating)\n",
      "print ser"
     ],
     "language": "python",
     "metadata": {
      "slideshow": {
       "slide_type": "fragment"
      }
     },
     "outputs": [
      {
       "output_type": "stream",
       "stream": "stdout",
       "text": [
        "age                                                1\n",
        "gender                                             F\n",
        "genres                                         Drama\n",
        "movie_id                                        1193\n",
        "occupation                                        10\n",
        "rating                                             5\n",
        "timestamp                                  978300760\n",
        "title         One Flew Over the Cuckoo's Nest (1975)\n",
        "user_id                                            1\n",
        "zip                                            48067\n",
        "dtype: object\n"
       ]
      }
     ],
     "prompt_number": 72
    },
    {
     "cell_type": "code",
     "collapsed": false,
     "input": [
      "#show the index\n",
      "ser.index"
     ],
     "language": "python",
     "metadata": {
      "slideshow": {
       "slide_type": "fragment"
      }
     },
     "outputs": [
      {
       "metadata": {},
       "output_type": "pyout",
       "prompt_number": 73,
       "text": [
        "Index([u'age', u'gender', u'genres', u'movie_id', u'occupation', u'rating', u'timestamp', u'title', u'user_id', u'zip'], dtype='object')"
       ]
      }
     ],
     "prompt_number": 73
    },
    {
     "cell_type": "code",
     "collapsed": false,
     "input": [
      "#show the value\n",
      "ser.values"
     ],
     "language": "python",
     "metadata": {
      "slideshow": {
       "slide_type": "fragment"
      }
     },
     "outputs": [
      {
       "metadata": {},
       "output_type": "pyout",
       "prompt_number": 74,
       "text": [
        "array([1, 'F', 'Drama', 1193, 10, 5, 978300760,\n",
        "       \"One Flew Over the Cuckoo's Nest (1975)\", 1, '48067'], dtype=object)"
       ]
      }
     ],
     "prompt_number": 74
    },
    {
     "cell_type": "markdown",
     "metadata": {
      "slideshow": {
       "slide_type": "subslide"
      }
     },
     "source": [
      "**Series Indexing**\n",
      "\n",
      "Accessing elements in a series can be either done via the number or the index"
     ]
    },
    {
     "cell_type": "code",
     "collapsed": false,
     "input": [
      "#use the row number\n",
      "ser[0]"
     ],
     "language": "python",
     "metadata": {
      "slideshow": {
       "slide_type": "fragment"
      }
     },
     "outputs": [
      {
       "metadata": {},
       "output_type": "pyout",
       "prompt_number": 75,
       "text": [
        "1"
       ]
      }
     ],
     "prompt_number": 75
    },
    {
     "cell_type": "code",
     "collapsed": false,
     "input": [
      "#use the index like in a dict object\n",
      "ser['gender']"
     ],
     "language": "python",
     "metadata": {
      "slideshow": {
       "slide_type": "fragment"
      }
     },
     "outputs": [
      {
       "metadata": {},
       "output_type": "pyout",
       "prompt_number": 76,
       "text": [
        "'F'"
       ]
      }
     ],
     "prompt_number": 76
    },
    {
     "cell_type": "code",
     "collapsed": false,
     "input": [
      "ser.get_value('gender')"
     ],
     "language": "python",
     "metadata": {
      "slideshow": {
       "slide_type": "fragment"
      }
     },
     "outputs": [
      {
       "metadata": {},
       "output_type": "pyout",
       "prompt_number": 77,
       "text": [
        "'F'"
       ]
      }
     ],
     "prompt_number": 77
    },
    {
     "cell_type": "markdown",
     "metadata": {
      "slideshow": {
       "slide_type": "subslide"
      }
     },
     "source": [
      "**Operations between Series with different index objects**\n",
      "\n",
      "Index objects are unique and used in operations between series"
     ]
    },
    {
     "cell_type": "code",
     "collapsed": false,
     "input": [
      "ser_1 = pd.Series(data=[1,3,4], index=['A', 'B', 'C']) #series 1\n",
      "ser_2 = pd.Series(data=[5,5,5], index=['A', 'G', 'C']) #series 2 but with different indices\n",
      "print ser_1 + ser_2 #note that if an index not exists, its value is undefined"
     ],
     "language": "python",
     "metadata": {
      "slideshow": {
       "slide_type": "fragment"
      }
     },
     "outputs": [
      {
       "output_type": "stream",
       "stream": "stdout",
       "text": [
        "A     6\n",
        "B   NaN\n",
        "C     9\n",
        "G   NaN\n",
        "dtype: float64\n"
       ]
      }
     ],
     "prompt_number": 78
    },
    {
     "cell_type": "markdown",
     "metadata": {
      "slideshow": {
       "slide_type": "subslide"
      }
     },
     "source": [
      "**A `Series` is like a `Numpy.ndarray`**\n",
      "\n",
      "It can be used in Numpy functions."
     ]
    },
    {
     "cell_type": "code",
     "collapsed": false,
     "input": [
      "s=pd.Series(np.random.randn(5),index=[\"a\", \"b\", \"c\", \"d\", \"e\"])\n",
      "print s\n",
      "print \"epx(s)\\n\",np.exp(s[:3])\n",
      "print s"
     ],
     "language": "python",
     "metadata": {
      "slideshow": {
       "slide_type": "fragment"
      }
     },
     "outputs": [
      {
       "output_type": "stream",
       "stream": "stdout",
       "text": [
        "a    1.471399\n",
        "b   -0.519840\n",
        "c    0.629875\n",
        "d   -0.453380\n",
        "e    1.188491\n",
        "dtype: float64\n",
        "epx(s)\n",
        "a    4.355322\n",
        "b    0.594616\n",
        "c    1.877376\n",
        "dtype: float64\n",
        "a    1.471399\n",
        "b   -0.519840\n",
        "c    0.629875\n",
        "d   -0.453380\n",
        "e    1.188491\n",
        "dtype: float64\n"
       ]
      }
     ],
     "prompt_number": 79
    },
    {
     "cell_type": "markdown",
     "metadata": {
      "slideshow": {
       "slide_type": "subslide"
      }
     },
     "source": [
      "**Naming a series**\n",
      "\n",
      "A series can have a name, i.e. a series label (or if viewed column wise the name of the column)"
     ]
    },
    {
     "cell_type": "code",
     "collapsed": false,
     "input": [
      "s.name=\"Name of my Series\"\n",
      "print s"
     ],
     "language": "python",
     "metadata": {
      "slideshow": {
       "slide_type": "fragment"
      }
     },
     "outputs": [
      {
       "output_type": "stream",
       "stream": "stdout",
       "text": [
        "a    1.471399\n",
        "b   -0.519840\n",
        "c    0.629875\n",
        "d   -0.453380\n",
        "e    1.188491\n",
        "Name: Name of my Series, dtype: float64\n"
       ]
      }
     ],
     "prompt_number": 80
    },
    {
     "cell_type": "markdown",
     "metadata": {
      "slideshow": {
       "slide_type": "slide"
      }
     },
     "source": [
      "## 2.2. DataFrame: a Series of Series\n",
      "\n",
      "The pandas DataFrame is a 2 dimensional labeled data structure with columns of potentially different types. Similar to \n",
      "* a spreadsheet \n",
      "* relational database table \n",
      "* a dictionary of series"
     ]
    },
    {
     "cell_type": "markdown",
     "metadata": {
      "slideshow": {
       "slide_type": "subslide"
      }
     },
     "source": [
      "**Creating DataFrame's**\n",
      "\n",
      "DataFrame's can be created from\n",
      "* dict of Series\n",
      "* dict of ndarrays\n",
      "* structured or record arrays\n",
      "* from a list of dicts\n",
      "* From a dict of tuples\n",
      "* From a Series"
     ]
    },
    {
     "cell_type": "code",
     "collapsed": false,
     "input": [
      "#dict of series\n",
      "d = {'one' : pd.Series([1., 2., 3.], index=['a', 'b', 'c']),\n",
      "    'two' : pd.Series([1., 2., 3., 4.], index=['a', 'b', 'c', 'd'])}\n",
      "df = pd.DataFrame(d)\n",
      "print df\n",
      "print pd.DataFrame(d,index=['d','b','a']) # create data frame with index subset\n",
      "print\n",
      "print \"Index:\", df.index\n",
      "print \"Columns:\", df.columns"
     ],
     "language": "python",
     "metadata": {
      "slideshow": {
       "slide_type": "fragment"
      }
     },
     "outputs": [
      {
       "output_type": "stream",
       "stream": "stdout",
       "text": [
        "   one  two\n",
        "a    1    1\n",
        "b    2    2\n",
        "c    3    3\n",
        "d  NaN    4\n",
        "\n",
        "[4 rows x 2 columns]\n",
        "   one  two\n",
        "d  NaN    4\n",
        "b    2    2\n",
        "a    1    1\n",
        "\n",
        "[3 rows x 2 columns]\n",
        "\n",
        "Index: Index([u'a', u'b', u'c', u'd'], dtype='object')\n",
        "Columns: Index([u'one', u'two'], dtype='object')\n"
       ]
      }
     ],
     "prompt_number": 81
    },
    {
     "cell_type": "code",
     "collapsed": false,
     "input": [
      "#dict of lists\n",
      "d = {'one' : [1., 2., 3., 4.],\n",
      "    'two' :  [1., 2., 3., 4.]}\n",
      "print pd.DataFrame(d)"
     ],
     "language": "python",
     "metadata": {
      "slideshow": {
       "slide_type": "fragment"
      }
     },
     "outputs": [
      {
       "output_type": "stream",
       "stream": "stdout",
       "text": [
        "   one  two\n",
        "0    1    1\n",
        "1    2    2\n",
        "2    3    3\n",
        "3    4    4\n",
        "\n",
        "[4 rows x 2 columns]\n"
       ]
      }
     ],
     "prompt_number": 82
    },
    {
     "cell_type": "code",
     "collapsed": false,
     "input": [
      "#form a list of dicts\n",
      "data2 = [{'a': 1, 'b': 2}, {'a': 5, 'b': 10, 'c': 20}]\n",
      "print pd.DataFrame(data2)"
     ],
     "language": "python",
     "metadata": {
      "slideshow": {
       "slide_type": "fragment"
      }
     },
     "outputs": [
      {
       "output_type": "stream",
       "stream": "stdout",
       "text": [
        "   a   b   c\n",
        "0  1   2 NaN\n",
        "1  5  10  20\n",
        "\n",
        "[2 rows x 3 columns]\n"
       ]
      }
     ],
     "prompt_number": 83
    },
    {
     "cell_type": "code",
     "collapsed": false,
     "input": [
      "# a dict of tuples\n",
      "print pd.DataFrame({('a', 'b'): {('A', 'B'): 1, ('A', 'C'): 2},\n",
      " ('a', 'a'): {('A', 'C'): 3, ('A', 'B'): 4},\n",
      " ('a', 'c'): {('A', 'B'): 5, ('A', 'C'): 6},\n",
      " ('b', 'a'): {('A', 'C'): 7, ('A', 'B'): 8},\n",
      " ('b', 'b'): {('A', 'D'): 9, ('A', 'B'): 10}}) "
     ],
     "language": "python",
     "metadata": {
      "slideshow": {
       "slide_type": "fragment"
      }
     },
     "outputs": [
      {
       "output_type": "stream",
       "stream": "stdout",
       "text": [
        "        (a, a)  (a, b)  (a, c)  (b, a)  (b, b)\n",
        "(A, B)       4       1       5       8      10\n",
        "(A, C)       3       2       6       7     NaN\n",
        "(A, D)     NaN     NaN     NaN     NaN       9\n",
        "\n",
        "[3 rows x 5 columns]\n"
       ]
      }
     ],
     "prompt_number": 84
    },
    {
     "cell_type": "markdown",
     "metadata": {
      "slideshow": {
       "slide_type": "subslide"
      }
     },
     "source": [
      "**Column selection, addition, deletion**\n",
      "\n",
      "DataFrame's work similar to dict objects"
     ]
    },
    {
     "cell_type": "code",
     "collapsed": false,
     "input": [
      "d = {'one' : pd.Series([1., 2., 3.], index=['a', 'b', 'c']),\n",
      "    'two' : pd.Series([1., 2., 3., 4.], index=['a', 'b', 'c', 'd'])}\n",
      "df = pd.DataFrame(d)\n",
      "print df['one']"
     ],
     "language": "python",
     "metadata": {
      "slideshow": {
       "slide_type": "fragment"
      }
     },
     "outputs": [
      {
       "output_type": "stream",
       "stream": "stdout",
       "text": [
        "a     1\n",
        "b     2\n",
        "c     3\n",
        "d   NaN\n",
        "Name: one, dtype: float64\n"
       ]
      }
     ],
     "prompt_number": 85
    },
    {
     "cell_type": "code",
     "collapsed": false,
     "input": [
      "df['three']=df['one']*df['two']\n",
      "print df"
     ],
     "language": "python",
     "metadata": {
      "slideshow": {
       "slide_type": "fragment"
      }
     },
     "outputs": [
      {
       "output_type": "stream",
       "stream": "stdout",
       "text": [
        "   one  two  three\n",
        "a    1    1      1\n",
        "b    2    2      4\n",
        "c    3    3      9\n",
        "d  NaN    4    NaN\n",
        "\n",
        "[4 rows x 3 columns]\n"
       ]
      }
     ],
     "prompt_number": 86
    },
    {
     "cell_type": "code",
     "collapsed": false,
     "input": [
      "del df['two']\n",
      "print df"
     ],
     "language": "python",
     "metadata": {
      "slideshow": {
       "slide_type": "fragment"
      }
     },
     "outputs": [
      {
       "output_type": "stream",
       "stream": "stdout",
       "text": [
        "   one  three\n",
        "a    1      1\n",
        "b    2      4\n",
        "c    3      9\n",
        "d  NaN    NaN\n",
        "\n",
        "[4 rows x 2 columns]\n"
       ]
      }
     ],
     "prompt_number": 87
    },
    {
     "cell_type": "code",
     "collapsed": false,
     "input": [
      "df['foo']='bar'\n",
      "print df"
     ],
     "language": "python",
     "metadata": {
      "slideshow": {
       "slide_type": "fragment"
      }
     },
     "outputs": [
      {
       "output_type": "stream",
       "stream": "stdout",
       "text": [
        "   one  three  foo\n",
        "a    1      1  bar\n",
        "b    2      4  bar\n",
        "c    3      9  bar\n",
        "d  NaN    NaN  bar\n",
        "\n",
        "[4 rows x 3 columns]\n"
       ]
      }
     ],
     "prompt_number": 88
    },
    {
     "cell_type": "code",
     "collapsed": false,
     "input": [
      "print \"Before\"\n",
      "print df\n",
      "df.insert(1,\"bar\",df[\"one\"])\n",
      "print \"After\"\n",
      "print df"
     ],
     "language": "python",
     "metadata": {
      "slideshow": {
       "slide_type": "fragment"
      }
     },
     "outputs": [
      {
       "output_type": "stream",
       "stream": "stdout",
       "text": [
        "Before\n",
        "   one  three  foo\n",
        "a    1      1  bar\n",
        "b    2      4  bar\n",
        "c    3      9  bar\n",
        "d  NaN    NaN  bar\n",
        "\n",
        "[4 rows x 3 columns]\n",
        "After\n",
        "   one  bar  three  foo\n",
        "a    1    1      1  bar\n",
        "b    2    2      4  bar\n",
        "c    3    3      9  bar\n",
        "d  NaN  NaN    NaN  bar\n",
        "\n",
        "[4 rows x 4 columns]\n"
       ]
      }
     ],
     "prompt_number": 89
    },
    {
     "cell_type": "markdown",
     "metadata": {
      "slideshow": {
       "slide_type": "subslide"
      }
     },
     "source": [
      "**Indexing/Selection**\n",
      "\n",
      "<table>\n",
      "<tr><td>Operation</td><td>Syntax</td><td>Result</td></tr>\n",
      "<tr><td>Select column</td><td>df[col]</td><td>Series</td></tr>\n",
      "<tr><td>Select columns by labels</td><td>df[[list of labels]]</td><td>DataFrame</td></tr>\n",
      "<tr><td>Select row by index</td><td>df.loc[index]</td><td>Series</td></tr>\n",
      "<tr><td>Select row by integer location</td><td>df.iloc[loc]</td><td>Series</td></tr>\n",
      "<tr><td>Slice rows</td><td>df[5:10]</td><td>DataFrame</td></tr>\n",
      "<tr><td>Select rows by boolean vector</td><td>df[bool_vec]</td><td>DataFrame</td></tr>\n",
      "<tr><td> Flexible slicing</td><td>df.ix[rowselector, columnselector]</td><td>Variable</td></tr>\n",
      "</table>"
     ]
    },
    {
     "cell_type": "code",
     "collapsed": false,
     "input": [
      "df['one']"
     ],
     "language": "python",
     "metadata": {
      "slideshow": {
       "slide_type": "fragment"
      }
     },
     "outputs": [
      {
       "metadata": {},
       "output_type": "pyout",
       "prompt_number": 97,
       "text": [
        "a     1\n",
        "b     2\n",
        "c     3\n",
        "d   NaN\n",
        "Name: one, dtype: float64"
       ]
      }
     ],
     "prompt_number": 97
    },
    {
     "cell_type": "code",
     "collapsed": false,
     "input": [
      "df[2:4]"
     ],
     "language": "python",
     "metadata": {
      "slideshow": {
       "slide_type": "fragment"
      }
     },
     "outputs": [
      {
       "html": [
        "<div style=\"max-height:1000px;max-width:1500px;overflow:auto;\">\n",
        "<table border=\"1\" class=\"dataframe\">\n",
        "  <thead>\n",
        "    <tr style=\"text-align: right;\">\n",
        "      <th></th>\n",
        "      <th>one</th>\n",
        "      <th>bar</th>\n",
        "      <th>three</th>\n",
        "      <th>foo</th>\n",
        "    </tr>\n",
        "  </thead>\n",
        "  <tbody>\n",
        "    <tr>\n",
        "      <th>c</th>\n",
        "      <td>  3</td>\n",
        "      <td>  3</td>\n",
        "      <td>  9</td>\n",
        "      <td> bar</td>\n",
        "    </tr>\n",
        "    <tr>\n",
        "      <th>d</th>\n",
        "      <td>NaN</td>\n",
        "      <td>NaN</td>\n",
        "      <td>NaN</td>\n",
        "      <td> bar</td>\n",
        "    </tr>\n",
        "  </tbody>\n",
        "</table>\n",
        "<p>2 rows \u00d7 4 columns</p>\n",
        "</div>"
       ],
       "metadata": {},
       "output_type": "pyout",
       "prompt_number": 98,
       "text": [
        "   one  bar  three  foo\n",
        "c    3    3      9  bar\n",
        "d  NaN  NaN    NaN  bar\n",
        "\n",
        "[2 rows x 4 columns]"
       ]
      }
     ],
     "prompt_number": 98
    },
    {
     "cell_type": "code",
     "collapsed": false,
     "input": [
      "df[[\"one\",\"three\"]]"
     ],
     "language": "python",
     "metadata": {
      "slideshow": {
       "slide_type": "fragment"
      }
     },
     "outputs": [
      {
       "html": [
        "<div style=\"max-height:1000px;max-width:1500px;overflow:auto;\">\n",
        "<table border=\"1\" class=\"dataframe\">\n",
        "  <thead>\n",
        "    <tr style=\"text-align: right;\">\n",
        "      <th></th>\n",
        "      <th>one</th>\n",
        "      <th>three</th>\n",
        "    </tr>\n",
        "  </thead>\n",
        "  <tbody>\n",
        "    <tr>\n",
        "      <th>a</th>\n",
        "      <td>  1</td>\n",
        "      <td>  1</td>\n",
        "    </tr>\n",
        "    <tr>\n",
        "      <th>b</th>\n",
        "      <td>  2</td>\n",
        "      <td>  4</td>\n",
        "    </tr>\n",
        "    <tr>\n",
        "      <th>c</th>\n",
        "      <td>  3</td>\n",
        "      <td>  9</td>\n",
        "    </tr>\n",
        "    <tr>\n",
        "      <th>d</th>\n",
        "      <td>NaN</td>\n",
        "      <td>NaN</td>\n",
        "    </tr>\n",
        "  </tbody>\n",
        "</table>\n",
        "<p>4 rows \u00d7 2 columns</p>\n",
        "</div>"
       ],
       "metadata": {},
       "output_type": "pyout",
       "prompt_number": 99,
       "text": [
        "   one  three\n",
        "a    1      1\n",
        "b    2      4\n",
        "c    3      9\n",
        "d  NaN    NaN\n",
        "\n",
        "[4 rows x 2 columns]"
       ]
      }
     ],
     "prompt_number": 99
    },
    {
     "cell_type": "code",
     "collapsed": false,
     "input": [
      "df[[False,False,True,True]]"
     ],
     "language": "python",
     "metadata": {
      "slideshow": {
       "slide_type": "fragment"
      }
     },
     "outputs": [
      {
       "html": [
        "<div style=\"max-height:1000px;max-width:1500px;overflow:auto;\">\n",
        "<table border=\"1\" class=\"dataframe\">\n",
        "  <thead>\n",
        "    <tr style=\"text-align: right;\">\n",
        "      <th></th>\n",
        "      <th>one</th>\n",
        "      <th>bar</th>\n",
        "      <th>three</th>\n",
        "      <th>foo</th>\n",
        "    </tr>\n",
        "  </thead>\n",
        "  <tbody>\n",
        "    <tr>\n",
        "      <th>c</th>\n",
        "      <td>  3</td>\n",
        "      <td>  3</td>\n",
        "      <td>  9</td>\n",
        "      <td> bar</td>\n",
        "    </tr>\n",
        "    <tr>\n",
        "      <th>d</th>\n",
        "      <td>NaN</td>\n",
        "      <td>NaN</td>\n",
        "      <td>NaN</td>\n",
        "      <td> bar</td>\n",
        "    </tr>\n",
        "  </tbody>\n",
        "</table>\n",
        "<p>2 rows \u00d7 4 columns</p>\n",
        "</div>"
       ],
       "metadata": {},
       "output_type": "pyout",
       "prompt_number": 100,
       "text": [
        "   one  bar  three  foo\n",
        "c    3    3      9  bar\n",
        "d  NaN  NaN    NaN  bar\n",
        "\n",
        "[2 rows x 4 columns]"
       ]
      }
     ],
     "prompt_number": 100
    },
    {
     "cell_type": "code",
     "collapsed": false,
     "input": [
      "print df\n",
      "print \"Selecting row 'b'\"\n",
      "df.loc['b']"
     ],
     "language": "python",
     "metadata": {
      "slideshow": {
       "slide_type": "fragment"
      }
     },
     "outputs": [
      {
       "output_type": "stream",
       "stream": "stdout",
       "text": [
        "   one  bar  three  foo\n",
        "a    1    1      1  bar\n",
        "b    2    2      4  bar\n",
        "c    3    3      9  bar\n",
        "d  NaN  NaN    NaN  bar\n",
        "\n",
        "[4 rows x 4 columns]\n",
        "Selecting row 'b'\n"
       ]
      },
      {
       "metadata": {},
       "output_type": "pyout",
       "prompt_number": 101,
       "text": [
        "one        2\n",
        "bar        2\n",
        "three      4\n",
        "foo      bar\n",
        "Name: b, dtype: object"
       ]
      }
     ],
     "prompt_number": 101
    },
    {
     "cell_type": "code",
     "collapsed": false,
     "input": [
      "#flexible indexing via .ix method\n",
      "print df"
     ],
     "language": "python",
     "metadata": {
      "slideshow": {
       "slide_type": "fragment"
      }
     },
     "outputs": [
      {
       "output_type": "stream",
       "stream": "stdout",
       "text": [
        "   one  bar  three  foo\n",
        "a    1    1      1  bar\n",
        "b    2    2      4  bar\n",
        "c    3    3      9  bar\n",
        "d  NaN  NaN    NaN  bar\n",
        "\n",
        "[4 rows x 4 columns]\n"
       ]
      }
     ],
     "prompt_number": 102
    },
    {
     "cell_type": "code",
     "collapsed": false,
     "input": [
      "print df.ix[:2,1:2]#gives a data frame"
     ],
     "language": "python",
     "metadata": {
      "slideshow": {
       "slide_type": "fragment"
      }
     },
     "outputs": [
      {
       "output_type": "stream",
       "stream": "stdout",
       "text": [
        "   bar\n",
        "a    1\n",
        "b    2\n",
        "\n",
        "[2 rows x 1 columns]\n"
       ]
      }
     ],
     "prompt_number": 103
    },
    {
     "cell_type": "code",
     "collapsed": false,
     "input": [
      "print df.ix[:2,1] #gives a series"
     ],
     "language": "python",
     "metadata": {
      "slideshow": {
       "slide_type": "fragment"
      }
     },
     "outputs": [
      {
       "output_type": "stream",
       "stream": "stdout",
       "text": [
        "a    1\n",
        "b    2\n",
        "Name: bar, dtype: float64\n"
       ]
      }
     ],
     "prompt_number": 104
    },
    {
     "cell_type": "code",
     "collapsed": false,
     "input": [
      "print df.ix[:2,\"bar\"]#gives a sereies"
     ],
     "language": "python",
     "metadata": {
      "slideshow": {
       "slide_type": "fragment"
      }
     },
     "outputs": [
      {
       "output_type": "stream",
       "stream": "stdout",
       "text": [
        "a    1\n",
        "b    2\n",
        "Name: bar, dtype: float64\n"
       ]
      }
     ],
     "prompt_number": 105
    },
    {
     "cell_type": "code",
     "collapsed": false,
     "input": [
      "print df.ix[:2,[\"bar\"]]#gives a data frame"
     ],
     "language": "python",
     "metadata": {
      "slideshow": {
       "slide_type": "fragment"
      }
     },
     "outputs": [
      {
       "output_type": "stream",
       "stream": "stdout",
       "text": [
        "   bar\n",
        "a    1\n",
        "b    2\n",
        "\n",
        "[2 rows x 1 columns]\n"
       ]
      }
     ],
     "prompt_number": 106
    },
    {
     "cell_type": "markdown",
     "metadata": {
      "slideshow": {
       "slide_type": "subslide"
      }
     },
     "source": [
      "**Boolean Masking and where()**\n",
      "\n",
      "As in Numpy, we can use masks for accessing data elements"
     ]
    },
    {
     "cell_type": "code",
     "collapsed": false,
     "input": [
      "df2 = pd.DataFrame({'a' : ['one','one','two','three','two','one','six'],\n",
      "                 'b' : ['x','y','y','x','y','x','x'],\n",
      "                 'c' : np.random.randn(7)})\n",
      "print df2\n",
      "criterion = df2['a'].map(lambda x: x.startswith('t')) #create a criterion using lambda function\n"
     ],
     "language": "python",
     "metadata": {
      "slideshow": {
       "slide_type": "fragment"
      }
     },
     "outputs": [
      {
       "output_type": "stream",
       "stream": "stdout",
       "text": [
        "       a  b         c\n",
        "0    one  x -0.194818\n",
        "1    one  y -0.854617\n",
        "2    two  y  0.500731\n",
        "3  three  x -1.871150\n",
        "4    two  y -0.361554\n",
        "5    one  x -1.221852\n",
        "6    six  x  0.567466\n",
        "\n",
        "[7 rows x 3 columns]\n"
       ]
      }
     ],
     "prompt_number": 61
    },
    {
     "cell_type": "code",
     "collapsed": false,
     "input": [
      "print criterion"
     ],
     "language": "python",
     "metadata": {
      "slideshow": {
       "slide_type": "fragment"
      }
     },
     "outputs": [
      {
       "output_type": "stream",
       "stream": "stdout",
       "text": [
        "0    False\n",
        "1    False\n",
        "2     True\n",
        "3     True\n",
        "4     True\n",
        "5    False\n",
        "6    False\n",
        "Name: a, dtype: bool\n"
       ]
      }
     ],
     "prompt_number": 62
    },
    {
     "cell_type": "code",
     "collapsed": false,
     "input": [
      "print df2[criterion]"
     ],
     "language": "python",
     "metadata": {
      "slideshow": {
       "slide_type": "fragment"
      }
     },
     "outputs": [
      {
       "output_type": "stream",
       "stream": "stdout",
       "text": [
        "       a  b         c\n",
        "2    two  y  0.500731\n",
        "3  three  x -1.871150\n",
        "4    two  y -0.361554\n",
        "\n",
        "[3 rows x 3 columns]\n"
       ]
      }
     ],
     "prompt_number": 64
    },
    {
     "cell_type": "code",
     "collapsed": false,
     "input": [
      "#disjunction of two filter criterions using bit-and\n",
      "df2[(df2['a']=='one')&(df2['b']=='x')]"
     ],
     "language": "python",
     "metadata": {
      "slideshow": {
       "slide_type": "fragment"
      }
     },
     "outputs": [
      {
       "html": [
        "<div style=\"max-height:1000px;max-width:1500px;overflow:auto;\">\n",
        "<table border=\"1\" class=\"dataframe\">\n",
        "  <thead>\n",
        "    <tr style=\"text-align: right;\">\n",
        "      <th></th>\n",
        "      <th>a</th>\n",
        "      <th>b</th>\n",
        "      <th>c</th>\n",
        "    </tr>\n",
        "  </thead>\n",
        "  <tbody>\n",
        "    <tr>\n",
        "      <th>0</th>\n",
        "      <td> one</td>\n",
        "      <td> x</td>\n",
        "      <td>-0.194818</td>\n",
        "    </tr>\n",
        "    <tr>\n",
        "      <th>5</th>\n",
        "      <td> one</td>\n",
        "      <td> x</td>\n",
        "      <td>-1.221852</td>\n",
        "    </tr>\n",
        "  </tbody>\n",
        "</table>\n",
        "<p>2 rows \u00d7 3 columns</p>\n",
        "</div>"
       ],
       "metadata": {},
       "output_type": "pyout",
       "prompt_number": 65,
       "text": [
        "     a  b         c\n",
        "0  one  x -0.194818\n",
        "5  one  x -1.221852\n",
        "\n",
        "[2 rows x 3 columns]"
       ]
      }
     ],
     "prompt_number": 65
    },
    {
     "cell_type": "code",
     "collapsed": false,
     "input": [
      "#check for several values over all columns with isin\n",
      "df3 = pd.DataFrame({'vals': [1, 2, 3, 4], \n",
      "                    'ids': ['a', 'b', 'f', 'n'],\n",
      "                    'ids2': ['a', 'n', 'c', 'n']})\n",
      "\n",
      "values = ['a', 'b', 1, 3]\n",
      "print df3.isin(values)"
     ],
     "language": "python",
     "metadata": {
      "slideshow": {
       "slide_type": "fragment"
      }
     },
     "outputs": [
      {
       "output_type": "stream",
       "stream": "stdout",
       "text": [
        "     ids   ids2   vals\n",
        "0   True   True   True\n",
        "1   True  False  False\n",
        "2  False  False   True\n",
        "3  False  False  False\n",
        "\n",
        "[4 rows x 3 columns]\n"
       ]
      }
     ],
     "prompt_number": 60
    },
    {
     "cell_type": "code",
     "collapsed": false,
     "input": [
      "#with where we can guarantee the the shape stays the same\n",
      "s=df2['c']\n",
      "print s\n",
      "print s.where(s>0)"
     ],
     "language": "python",
     "metadata": {
      "slideshow": {
       "slide_type": "fragment"
      }
     },
     "outputs": [
      {
       "output_type": "stream",
       "stream": "stdout",
       "text": [
        "0    1.226818\n",
        "1    1.397274\n",
        "2    2.285608\n",
        "3    0.887995\n",
        "4    0.740792\n",
        "5    0.964217\n",
        "6   -0.950748\n",
        "Name: c, dtype: float64\n",
        "0    1.226818\n",
        "1    1.397274\n",
        "2    2.285608\n",
        "3    0.887995\n",
        "4    0.740792\n",
        "5    0.964217\n",
        "6         NaN\n",
        "Name: c, dtype: float64\n"
       ]
      }
     ],
     "prompt_number": 212
    },
    {
     "cell_type": "markdown",
     "metadata": {
      "slideshow": {
       "slide_type": "subslide"
      }
     },
     "source": [
      "**Data alignment and arithmetic**\n",
      "\n",
      "DataFrame objects automatically align on both the columns and the index (row labels). Again, the resulting object will have the union of the column and row labels."
     ]
    },
    {
     "cell_type": "code",
     "collapsed": false,
     "input": [
      "df = pd.DataFrame(np.random.randn(10, 4), columns=['A', 'B', 'C', 'D']) \n",
      "df2 = pd.DataFrame(np.random.randn(7, 3), columns=['A', 'B', 'C'])\n",
      "print df + df2"
     ],
     "language": "python",
     "metadata": {
      "slideshow": {
       "slide_type": "fragment"
      }
     },
     "outputs": [
      {
       "output_type": "stream",
       "stream": "stdout",
       "text": [
        "          A         B         C   D\n",
        "0 -0.764018  1.721273  3.025988 NaN\n",
        "1  0.590515 -2.903834  0.619950 NaN\n",
        "2  0.675780  2.873693  0.133220 NaN\n",
        "3  0.465546 -0.181611  0.533964 NaN\n",
        "4  0.456102  0.701952  0.206269 NaN\n",
        "5  0.824516 -3.376639 -0.036517 NaN\n",
        "6 -0.810082  1.147010  2.026045 NaN\n",
        "7       NaN       NaN       NaN NaN\n",
        "8       NaN       NaN       NaN NaN\n",
        "9       NaN       NaN       NaN NaN\n",
        "\n",
        "[10 rows x 4 columns]\n"
       ]
      }
     ],
     "prompt_number": 141
    },
    {
     "cell_type": "markdown",
     "metadata": {
      "slideshow": {
       "slide_type": "subslide"
      }
     },
     "source": [
      "** Broadcasting behaviour**\n",
      "\n",
      "When doing an operation between DataFrame and Series, the default behavior is to align the Series index on the DataFrame columns, thus broadcasting row-wise. \n"
     ]
    },
    {
     "cell_type": "code",
     "collapsed": false,
     "input": [
      "print df\n",
      "print \"==========================================\"\n",
      "print df.iloc[0]\n",
      "print \"==========================================\"\n",
      "print df-df.iloc[0]"
     ],
     "language": "python",
     "metadata": {
      "slideshow": {
       "slide_type": "fragment"
      }
     },
     "outputs": [
      {
       "output_type": "stream",
       "stream": "stdout",
       "text": [
        "          A         B         C         D\n",
        "0 -1.017895  1.150594  1.309113  1.515540\n",
        "1  0.763883 -2.051118 -0.157403  1.485192\n",
        "2  0.450123 -0.439514  0.921323 -0.307236\n",
        "3 -1.303320  0.416945 -0.086555  0.335163\n",
        "4  1.247842  0.074993  0.299225  0.282202\n",
        "5  0.422874 -2.271704  1.153339 -0.407916\n",
        "6 -0.106201  0.155699 -0.214184 -1.607625\n",
        "7  0.298045 -0.006622 -0.970427 -0.063941\n",
        "8  0.012388  0.953106 -0.665429 -0.081872\n",
        "9 -0.546150 -0.293723  0.437950  0.991264\n",
        "\n",
        "[10 rows x 4 columns]\n",
        "==========================================\n",
        "A   -1.017895\n",
        "B    1.150594\n",
        "C    1.309113\n",
        "D    1.515540\n",
        "Name: 0, dtype: float64\n",
        "==========================================\n",
        "          A         B         C         D\n",
        "0  0.000000  0.000000  0.000000  0.000000\n",
        "1  1.781777 -3.201712 -1.466516 -0.030348\n",
        "2  1.468018 -1.590108 -0.387790 -1.822776\n",
        "3 -0.285425 -0.733649 -1.395668 -1.180378\n",
        "4  2.265737 -1.075601 -1.009888 -1.233339\n",
        "5  1.440769 -3.422299 -0.155774 -1.923456\n",
        "6  0.911694 -0.994895 -1.523297 -3.123165\n",
        "7  1.315940 -1.157216 -2.279540 -1.579481\n",
        "8  1.030283 -0.197488 -1.974542 -1.597412\n",
        "9  0.471745 -1.444317 -0.871163 -0.524276\n",
        "\n",
        "[10 rows x 4 columns]\n"
       ]
      }
     ],
     "prompt_number": 142
    },
    {
     "cell_type": "code",
     "collapsed": false,
     "input": [
      "#broadcasting with scalars as in numpy\n",
      "df*2"
     ],
     "language": "python",
     "metadata": {
      "slideshow": {
       "slide_type": "fragment"
      }
     },
     "outputs": [
      {
       "html": [
        "<div style=\"max-height:1000px;max-width:1500px;overflow:auto;\">\n",
        "<table border=\"1\" class=\"dataframe\">\n",
        "  <thead>\n",
        "    <tr style=\"text-align: right;\">\n",
        "      <th></th>\n",
        "      <th>A</th>\n",
        "      <th>B</th>\n",
        "      <th>C</th>\n",
        "      <th>D</th>\n",
        "    </tr>\n",
        "  </thead>\n",
        "  <tbody>\n",
        "    <tr>\n",
        "      <th>0</th>\n",
        "      <td>-2.035790</td>\n",
        "      <td> 2.301189</td>\n",
        "      <td> 2.618226</td>\n",
        "      <td> 3.031081</td>\n",
        "    </tr>\n",
        "    <tr>\n",
        "      <th>1</th>\n",
        "      <td> 1.527765</td>\n",
        "      <td>-4.102235</td>\n",
        "      <td>-0.314806</td>\n",
        "      <td> 2.970384</td>\n",
        "    </tr>\n",
        "    <tr>\n",
        "      <th>2</th>\n",
        "      <td> 0.900246</td>\n",
        "      <td>-0.879027</td>\n",
        "      <td> 1.842645</td>\n",
        "      <td>-0.614472</td>\n",
        "    </tr>\n",
        "    <tr>\n",
        "      <th>3</th>\n",
        "      <td>-2.606640</td>\n",
        "      <td> 0.833891</td>\n",
        "      <td>-0.173110</td>\n",
        "      <td> 0.670325</td>\n",
        "    </tr>\n",
        "    <tr>\n",
        "      <th>4</th>\n",
        "      <td> 2.495685</td>\n",
        "      <td> 0.149987</td>\n",
        "      <td> 0.598449</td>\n",
        "      <td> 0.564404</td>\n",
        "    </tr>\n",
        "    <tr>\n",
        "      <th>5</th>\n",
        "      <td> 0.845748</td>\n",
        "      <td>-4.543409</td>\n",
        "      <td> 2.306679</td>\n",
        "      <td>-0.815831</td>\n",
        "    </tr>\n",
        "    <tr>\n",
        "      <th>6</th>\n",
        "      <td>-0.212401</td>\n",
        "      <td> 0.311398</td>\n",
        "      <td>-0.428368</td>\n",
        "      <td>-3.215250</td>\n",
        "    </tr>\n",
        "    <tr>\n",
        "      <th>7</th>\n",
        "      <td> 0.596091</td>\n",
        "      <td>-0.013243</td>\n",
        "      <td>-1.940855</td>\n",
        "      <td>-0.127881</td>\n",
        "    </tr>\n",
        "    <tr>\n",
        "      <th>8</th>\n",
        "      <td> 0.024777</td>\n",
        "      <td> 1.906212</td>\n",
        "      <td>-1.330857</td>\n",
        "      <td>-0.163744</td>\n",
        "    </tr>\n",
        "    <tr>\n",
        "      <th>9</th>\n",
        "      <td>-1.092300</td>\n",
        "      <td>-0.587445</td>\n",
        "      <td> 0.875900</td>\n",
        "      <td> 1.982529</td>\n",
        "    </tr>\n",
        "  </tbody>\n",
        "</table>\n",
        "<p>10 rows \u00d7 4 columns</p>\n",
        "</div>"
       ],
       "metadata": {},
       "output_type": "pyout",
       "prompt_number": 143,
       "text": [
        "          A         B         C         D\n",
        "0 -2.035790  2.301189  2.618226  3.031081\n",
        "1  1.527765 -4.102235 -0.314806  2.970384\n",
        "2  0.900246 -0.879027  1.842645 -0.614472\n",
        "3 -2.606640  0.833891 -0.173110  0.670325\n",
        "4  2.495685  0.149987  0.598449  0.564404\n",
        "5  0.845748 -4.543409  2.306679 -0.815831\n",
        "6 -0.212401  0.311398 -0.428368 -3.215250\n",
        "7  0.596091 -0.013243 -1.940855 -0.127881\n",
        "8  0.024777  1.906212 -1.330857 -0.163744\n",
        "9 -1.092300 -0.587445  0.875900  1.982529\n",
        "\n",
        "[10 rows x 4 columns]"
       ]
      }
     ],
     "prompt_number": 143
    },
    {
     "cell_type": "markdown",
     "metadata": {
      "slideshow": {
       "slide_type": "fragment"
      }
     },
     "source": [
      "When working with time series (`TimeSeries`) broadcasting is done column wise. However this function is **deprecated**"
     ]
    },
    {
     "cell_type": "code",
     "collapsed": false,
     "input": [
      "index = pd.date_range('1/1/2000', periods=8)\n",
      "df = pd.DataFrame(np.random.randn(8, 3), index=index, columns=list('ABC'))\n",
      "print df"
     ],
     "language": "python",
     "metadata": {
      "slideshow": {
       "slide_type": "fragment"
      }
     },
     "outputs": [
      {
       "output_type": "stream",
       "stream": "stdout",
       "text": [
        "                   A         B         C\n",
        "2000-01-01 -0.717866  2.164891 -2.035907\n",
        "2000-01-02  2.489434  1.930195 -0.120404\n",
        "2000-01-03 -0.543325  0.756656 -0.399047\n",
        "2000-01-04 -1.603618  1.367963 -0.547262\n",
        "2000-01-05 -0.792466 -1.621475 -0.268029\n",
        "2000-01-06  1.968081 -1.720272 -0.109728\n",
        "2000-01-07  0.340463  0.417802  0.050014\n",
        "2000-01-08  1.809002  1.472323  1.247206\n",
        "\n",
        "[8 rows x 3 columns]\n"
       ]
      }
     ],
     "prompt_number": 144
    },
    {
     "cell_type": "code",
     "collapsed": false,
     "input": [
      "print df - df['A']"
     ],
     "language": "python",
     "metadata": {
      "slideshow": {
       "slide_type": "fragment"
      }
     },
     "outputs": [
      {
       "output_type": "stream",
       "stream": "stdout",
       "text": [
        "            A         B         C\n",
        "2000-01-01  0  2.882758 -1.318041\n",
        "2000-01-02  0 -0.559239 -2.609837\n",
        "2000-01-03  0  1.299982  0.144278\n",
        "2000-01-04  0  2.971581  1.056356\n",
        "2000-01-05  0 -0.829009  0.524437\n",
        "2000-01-06  0 -3.688353 -2.077809\n",
        "2000-01-07  0  0.077339 -0.290450\n",
        "2000-01-08  0 -0.336679 -0.561796\n",
        "\n",
        "[8 rows x 3 columns]\n"
       ]
      }
     ],
     "prompt_number": 145
    },
    {
     "cell_type": "markdown",
     "metadata": {
      "slideshow": {
       "slide_type": "subslide"
      }
     },
     "source": [
      "**Transposing a Data Frame**\n"
     ]
    },
    {
     "cell_type": "code",
     "collapsed": false,
     "input": [
      "print df[:5]\n",
      "print df[:5].T"
     ],
     "language": "python",
     "metadata": {
      "slideshow": {
       "slide_type": "fragment"
      }
     },
     "outputs": [
      {
       "output_type": "stream",
       "stream": "stdout",
       "text": [
        "                   A         B         C\n",
        "2000-01-01 -0.717866  2.164891 -2.035907\n",
        "2000-01-02  2.489434  1.930195 -0.120404\n",
        "2000-01-03 -0.543325  0.756656 -0.399047\n",
        "2000-01-04 -1.603618  1.367963 -0.547262\n",
        "2000-01-05 -0.792466 -1.621475 -0.268029\n",
        "\n",
        "[5 rows x 3 columns]\n",
        "   2000-01-01  2000-01-02  2000-01-03  2000-01-04  2000-01-05\n",
        "A   -0.717866    2.489434   -0.543325   -1.603618   -0.792466\n",
        "B    2.164891    1.930195    0.756656    1.367963   -1.621475\n",
        "C   -2.035907   -0.120404   -0.399047   -0.547262   -0.268029\n",
        "\n",
        "[3 rows x 5 columns]\n"
       ]
      }
     ],
     "prompt_number": 146
    },
    {
     "cell_type": "markdown",
     "metadata": {
      "slideshow": {
       "slide_type": "subslide"
      }
     },
     "source": [
      "**Compatibility with Numpy**\n",
      "\n",
      "Given numeric values, numpy element wise functions can be used"
     ]
    },
    {
     "cell_type": "code",
     "collapsed": false,
     "input": [
      "print df\n",
      "print np.exp(df)"
     ],
     "language": "python",
     "metadata": {
      "slideshow": {
       "slide_type": "fragment"
      }
     },
     "outputs": [
      {
       "output_type": "stream",
       "stream": "stdout",
       "text": [
        "                   A         B         C\n",
        "2000-01-01 -0.717866  2.164891 -2.035907\n",
        "2000-01-02  2.489434  1.930195 -0.120404\n",
        "2000-01-03 -0.543325  0.756656 -0.399047\n",
        "2000-01-04 -1.603618  1.367963 -0.547262\n",
        "2000-01-05 -0.792466 -1.621475 -0.268029\n",
        "2000-01-06  1.968081 -1.720272 -0.109728\n",
        "2000-01-07  0.340463  0.417802  0.050014\n",
        "2000-01-08  1.809002  1.472323  1.247206\n",
        "\n",
        "[8 rows x 3 columns]\n",
        "                    A         B         C\n",
        "2000-01-01   0.487792  8.713655  0.130562\n",
        "2000-01-02  12.054450  6.890855  0.886563\n",
        "2000-01-03   0.580814  2.131139  0.670959\n",
        "2000-01-04   0.201167  3.927343  0.578532\n",
        "2000-01-05   0.452727  0.197607  0.764885\n",
        "2000-01-06   7.156929  0.179017  0.896078\n",
        "2000-01-07   1.405598  1.518620  1.051285\n",
        "2000-01-08   6.104349  4.359349  3.480604\n",
        "\n",
        "[8 rows x 3 columns]\n"
       ]
      }
     ],
     "prompt_number": 147
    },
    {
     "cell_type": "markdown",
     "metadata": {
      "slideshow": {
       "slide_type": "slide"
      }
     },
     "source": [
      "## 3 Basic Functionality\n",
      "\n",
      "* Accessing head and tails via `DataFrame.head` and `DataFrame.tail`\n",
      "* Explicit arithmetic operations:  `DataFrame.add`, `DataFrame.sub` etc. allow to control broadcasting and value filling\n",
      "* DataFrame comparators: `DataFrame.gt`, `DataFrame.ne` etc.\n",
      "* Boolean reductions: `DataFrame.all()`, `DataFrame.any()``\n",
      "\n"
     ]
    },
    {
     "cell_type": "markdown",
     "metadata": {
      "slideshow": {
       "slide_type": "subslide"
      }
     },
     "source": [
      "## 3.1 Head and Tail\n",
      "\n",
      "Viewing long series/data frames"
     ]
    },
    {
     "cell_type": "code",
     "collapsed": false,
     "input": [
      "long_series = pd.Series(np.random.randn(1000))\n",
      "print long_series.head()"
     ],
     "language": "python",
     "metadata": {
      "slideshow": {
       "slide_type": "fragment"
      }
     },
     "outputs": [
      {
       "output_type": "stream",
       "stream": "stdout",
       "text": [
        "0   -0.741795\n",
        "1    0.390169\n",
        "2    1.195150\n",
        "3    0.624537\n",
        "4   -0.801417\n",
        "dtype: float64\n"
       ]
      }
     ],
     "prompt_number": 148
    },
    {
     "cell_type": "code",
     "collapsed": false,
     "input": [
      "print long_series.tail()"
     ],
     "language": "python",
     "metadata": {
      "slideshow": {
       "slide_type": "fragment"
      }
     },
     "outputs": [
      {
       "output_type": "stream",
       "stream": "stdout",
       "text": [
        "995    1.138189\n",
        "996   -1.034913\n",
        "997   -1.367537\n",
        "998   -0.559639\n",
        "999   -0.637067\n",
        "dtype: float64\n"
       ]
      }
     ],
     "prompt_number": 149
    },
    {
     "cell_type": "code",
     "collapsed": false,
     "input": [
      "print long_series# see reduce printing behaviour"
     ],
     "language": "python",
     "metadata": {
      "slideshow": {
       "slide_type": "fragment"
      }
     },
     "outputs": [
      {
       "output_type": "stream",
       "stream": "stdout",
       "text": [
        "0    -0.741795\n",
        "1     0.390169\n",
        "2     1.195150\n",
        "3     0.624537\n",
        "4    -0.801417\n",
        "5     2.015026\n",
        "6     1.132116\n",
        "7    -1.159619\n",
        "8     1.831700\n",
        "9    -1.476808\n",
        "10   -0.308686\n",
        "11   -0.251019\n",
        "12   -0.844418\n",
        "13   -0.624416\n",
        "14   -1.047043\n",
        "...\n",
        "985    0.068389\n",
        "986   -0.861972\n",
        "987    0.845639\n",
        "988   -0.851000\n",
        "989    0.454455\n",
        "990    0.609863\n",
        "991    1.729993\n",
        "992    1.205735\n",
        "993    0.161924\n",
        "994   -1.667224\n",
        "995    1.138189\n",
        "996   -1.034913\n",
        "997   -1.367537\n",
        "998   -0.559639\n",
        "999   -0.637067\n",
        "Length: 1000, dtype: float64\n"
       ]
      }
     ],
     "prompt_number": 151
    },
    {
     "cell_type": "markdown",
     "metadata": {
      "slideshow": {
       "slide_type": "slide"
      }
     },
     "source": [
      "#4. Descriptive Statistics\n",
      "\n",
      "Descriptive Statistics sumarizes the underlying distribution of data values through statistical values like mean, variance etc."
     ]
    },
    {
     "cell_type": "markdown",
     "metadata": {
      "slideshow": {
       "slide_type": "slide"
      }
     },
     "source": [
      "##4.1 Basic Functions\n",
      "\n",
      "<table>\n",
      "<tr><td>Function</td><td>Description</td>\n",
      "<tr><td>count</td><td>Number of non-null observations</td>\n",
      "<tr><td>sum</td><td>Sum of values</td>\n",
      "<tr><td>mean</td><td>Mean of values</td>\n",
      "<tr><td>mad</td><td>Mean absolute deviation</td>\n",
      "<tr><td>median</td><td>Arithmetic median of values</td>\n",
      "<tr><td>min</td><td>Minimum</td>\n",
      "<tr><td>max</td><td>Maximum</td>\n",
      "<tr><td>mode</td><td>Mode</td>\n",
      "<tr><td>abs</td><td>Absolute Value</td>\n",
      "<tr><td>prod</td><td>Product of values</td>\n",
      "<tr><td>std</td><td>Unbiased standard deviation</td>\n",
      "<tr><td>var</td><td>Unbiased variance</td>\n",
      "<tr><td>skew</td><td>Unbiased skewness (3rd moment)</td>\n",
      "<tr><td>kurt</td><td>Unbiased kurtosis (4th moment)</td>\n",
      "<tr><td>quantile</td><td>Sample quantile (value at %)</td>\n",
      "<tr><td>cumsum</td><td>Cumulative sum</td>\n",
      "<tr><td>cumprod</td><td>Cumulative product</td>\n",
      "<tr><td>cummax</td><td>Cumulative maximum</td>\n",
      "<tr><td>cummin</td><td>Cumulative minimum</td>\n",
      "</table>\n"
     ]
    },
    {
     "cell_type": "code",
     "collapsed": false,
     "input": [
      "print df"
     ],
     "language": "python",
     "metadata": {
      "slideshow": {
       "slide_type": "fragment"
      }
     },
     "outputs": [
      {
       "output_type": "stream",
       "stream": "stdout",
       "text": [
        "                   A         B         C\n",
        "2000-01-01 -0.717866  2.164891 -2.035907\n",
        "2000-01-02  2.489434  1.930195 -0.120404\n",
        "2000-01-03 -0.543325  0.756656 -0.399047\n",
        "2000-01-04 -1.603618  1.367963 -0.547262\n",
        "2000-01-05 -0.792466 -1.621475 -0.268029\n",
        "2000-01-06  1.968081 -1.720272 -0.109728\n",
        "2000-01-07  0.340463  0.417802  0.050014\n",
        "2000-01-08  1.809002  1.472323  1.247206\n",
        "\n",
        "[8 rows x 3 columns]\n"
       ]
      }
     ],
     "prompt_number": 152
    },
    {
     "cell_type": "code",
     "collapsed": false,
     "input": [
      "#some examples\n",
      "print df.max()\n",
      "print \"========================================\"\n",
      "print df.max(axis=1)"
     ],
     "language": "python",
     "metadata": {
      "slideshow": {
       "slide_type": "fragment"
      }
     },
     "outputs": [
      {
       "output_type": "stream",
       "stream": "stdout",
       "text": [
        "A    2.489434\n",
        "B    2.164891\n",
        "C    1.247206\n",
        "dtype: float64\n",
        "========================================\n",
        "2000-01-01    2.164891\n",
        "2000-01-02    2.489434\n",
        "2000-01-03    0.756656\n",
        "2000-01-04    1.367963\n",
        "2000-01-05   -0.268029\n",
        "2000-01-06    1.968081\n",
        "2000-01-07    0.417802\n",
        "2000-01-08    1.809002\n",
        "Freq: D, dtype: float64\n"
       ]
      }
     ],
     "prompt_number": 155
    },
    {
     "cell_type": "markdown",
     "metadata": {
      "slideshow": {
       "slide_type": "subslide"
      }
     },
     "source": [
      "##4.2 Describe\n",
      "\n",
      "`describe` summarizes a DataFrame"
     ]
    },
    {
     "cell_type": "code",
     "collapsed": false,
     "input": [
      "df.describe()"
     ],
     "language": "python",
     "metadata": {
      "slideshow": {
       "slide_type": "fragment"
      }
     },
     "outputs": [
      {
       "html": [
        "<div style=\"max-height:1000px;max-width:1500px;overflow:auto;\">\n",
        "<table border=\"1\" class=\"dataframe\">\n",
        "  <thead>\n",
        "    <tr style=\"text-align: right;\">\n",
        "      <th></th>\n",
        "      <th>A</th>\n",
        "      <th>B</th>\n",
        "      <th>C</th>\n",
        "    </tr>\n",
        "  </thead>\n",
        "  <tbody>\n",
        "    <tr>\n",
        "      <th>count</th>\n",
        "      <td> 8.000000</td>\n",
        "      <td> 8.000000</td>\n",
        "      <td> 8.000000</td>\n",
        "    </tr>\n",
        "    <tr>\n",
        "      <th>mean</th>\n",
        "      <td> 0.368713</td>\n",
        "      <td> 0.596010</td>\n",
        "      <td>-0.272895</td>\n",
        "    </tr>\n",
        "    <tr>\n",
        "      <th>std</th>\n",
        "      <td> 1.529779</td>\n",
        "      <td> 1.509269</td>\n",
        "      <td> 0.899546</td>\n",
        "    </tr>\n",
        "    <tr>\n",
        "      <th>min</th>\n",
        "      <td>-1.603618</td>\n",
        "      <td>-1.720272</td>\n",
        "      <td>-2.035907</td>\n",
        "    </tr>\n",
        "    <tr>\n",
        "      <th>25%</th>\n",
        "      <td>-0.736516</td>\n",
        "      <td>-0.092017</td>\n",
        "      <td>-0.436101</td>\n",
        "    </tr>\n",
        "    <tr>\n",
        "      <th>50%</th>\n",
        "      <td>-0.101431</td>\n",
        "      <td> 1.062310</td>\n",
        "      <td>-0.194216</td>\n",
        "    </tr>\n",
        "    <tr>\n",
        "      <th>75%</th>\n",
        "      <td> 1.848771</td>\n",
        "      <td> 1.586791</td>\n",
        "      <td>-0.069793</td>\n",
        "    </tr>\n",
        "    <tr>\n",
        "      <th>max</th>\n",
        "      <td> 2.489434</td>\n",
        "      <td> 2.164891</td>\n",
        "      <td> 1.247206</td>\n",
        "    </tr>\n",
        "  </tbody>\n",
        "</table>\n",
        "<p>8 rows \u00d7 3 columns</p>\n",
        "</div>"
       ],
       "metadata": {},
       "output_type": "pyout",
       "prompt_number": 157,
       "text": [
        "              A         B         C\n",
        "count  8.000000  8.000000  8.000000\n",
        "mean   0.368713  0.596010 -0.272895\n",
        "std    1.529779  1.509269  0.899546\n",
        "min   -1.603618 -1.720272 -2.035907\n",
        "25%   -0.736516 -0.092017 -0.436101\n",
        "50%   -0.101431  1.062310 -0.194216\n",
        "75%    1.848771  1.586791 -0.069793\n",
        "max    2.489434  2.164891  1.247206\n",
        "\n",
        "[8 rows x 3 columns]"
       ]
      }
     ],
     "prompt_number": 157
    },
    {
     "cell_type": "markdown",
     "metadata": {
      "slideshow": {
       "slide_type": "subslide"
      }
     },
     "source": [
      "## 4.3 Index  of min and max"
     ]
    },
    {
     "cell_type": "code",
     "collapsed": false,
     "input": [
      "print df"
     ],
     "language": "python",
     "metadata": {
      "slideshow": {
       "slide_type": "fragment"
      }
     },
     "outputs": [
      {
       "output_type": "stream",
       "stream": "stdout",
       "text": [
        "                   A         B         C\n",
        "2000-01-01 -0.717866  2.164891 -2.035907\n",
        "2000-01-02  2.489434  1.930195 -0.120404\n",
        "2000-01-03 -0.543325  0.756656 -0.399047\n",
        "2000-01-04 -1.603618  1.367963 -0.547262\n",
        "2000-01-05 -0.792466 -1.621475 -0.268029\n",
        "2000-01-06  1.968081 -1.720272 -0.109728\n",
        "2000-01-07  0.340463  0.417802  0.050014\n",
        "2000-01-08  1.809002  1.472323  1.247206\n",
        "\n",
        "[8 rows x 3 columns]\n"
       ]
      }
     ],
     "prompt_number": 158
    },
    {
     "cell_type": "code",
     "collapsed": false,
     "input": [
      "print df.idxmax(axis=0)\n",
      "print \"============================\"\n",
      "print df.idxmin(axis=0)\n",
      "print \"============================\"\n",
      "print df.idxmax(axis=1)\n",
      "print \"============================\"\n",
      "print df.idxmin(axis=1)\n"
     ],
     "language": "python",
     "metadata": {
      "slideshow": {
       "slide_type": "fragment"
      }
     },
     "outputs": [
      {
       "output_type": "stream",
       "stream": "stdout",
       "text": [
        "A   2000-01-02\n",
        "B   2000-01-01\n",
        "C   2000-01-08\n",
        "dtype: datetime64[ns]\n",
        "============================\n",
        "A   2000-01-04\n",
        "B   2000-01-06\n",
        "C   2000-01-01\n",
        "dtype: datetime64[ns]\n",
        "============================\n",
        "2000-01-01    B\n",
        "2000-01-02    A\n",
        "2000-01-03    B\n",
        "2000-01-04    B\n",
        "2000-01-05    C\n",
        "2000-01-06    A\n",
        "2000-01-07    B\n",
        "2000-01-08    A\n",
        "Freq: D, dtype: object\n",
        "============================\n",
        "2000-01-01    C\n",
        "2000-01-02    C\n",
        "2000-01-03    A\n",
        "2000-01-04    A\n",
        "2000-01-05    B\n",
        "2000-01-06    B\n",
        "2000-01-07    C\n",
        "2000-01-08    C\n",
        "Freq: D, dtype: object\n"
       ]
      }
     ],
     "prompt_number": 160
    },
    {
     "cell_type": "markdown",
     "metadata": {
      "slideshow": {
       "slide_type": "subslide"
      }
     },
     "source": [
      "##4.4 Histogram\n",
      "\n",
      "`value_counts()`allows to count the histogram"
     ]
    },
    {
     "cell_type": "code",
     "collapsed": false,
     "input": [
      "data = np.random.randint(0, 7, size=50)\n",
      "s = pd.Series(data)\n",
      "print s.value_counts()"
     ],
     "language": "python",
     "metadata": {
      "slideshow": {
       "slide_type": "fragment"
      }
     },
     "outputs": [
      {
       "output_type": "stream",
       "stream": "stdout",
       "text": [
        "0    12\n",
        "2     9\n",
        "5     8\n",
        "6     7\n",
        "4     7\n",
        "3     4\n",
        "1     3\n",
        "dtype: int64\n"
       ]
      }
     ],
     "prompt_number": 163
    },
    {
     "cell_type": "markdown",
     "metadata": {
      "slideshow": {
       "slide_type": "slide"
      }
     },
     "source": [
      "# 5 Group By\n",
      "\n",
      "Pandas supports grouping data frames for particular columns similar to a SQL group by clause."
     ]
    },
    {
     "cell_type": "code",
     "collapsed": false,
     "input": [
      "help(df.groupby)"
     ],
     "language": "python",
     "metadata": {
      "slideshow": {
       "slide_type": "fragment"
      }
     },
     "outputs": [
      {
       "output_type": "stream",
       "stream": "stdout",
       "text": [
        "Help on method groupby in module pandas.core.generic:\n",
        "\n",
        "groupby(self, by=None, axis=0, level=None, as_index=True, sort=True, group_keys=True, squeeze=False) method of pandas.core.frame.DataFrame instance\n",
        "    Group series using mapper (dict or key function, apply given function\n",
        "    to group, return result as series) or by a series of columns\n",
        "    \n",
        "    Parameters\n",
        "    ----------\n",
        "    by : mapping function / list of functions, dict, Series, or tuple /\n",
        "        list of column names.\n",
        "        Called on each element of the object index to determine the groups.\n",
        "        If a dict or Series is passed, the Series or dict VALUES will be\n",
        "        used to determine the groups\n",
        "    axis : int, default 0\n",
        "    level : int, level name, or sequence of such, default None\n",
        "        If the axis is a MultiIndex (hierarchical), group by a particular\n",
        "        level or levels\n",
        "    as_index : boolean, default True\n",
        "        For aggregated output, return object with group labels as the\n",
        "        index. Only relevant for DataFrame input. as_index=False is\n",
        "        effectively \"SQL-style\" grouped output\n",
        "    sort : boolean, default True\n",
        "        Sort group keys. Get better performance by turning this off\n",
        "    group_keys : boolean, default True\n",
        "        When calling apply, add group keys to index to identify pieces\n",
        "    squeeze : boolean, default False\n",
        "        reduce the dimensionaility of the return type if possible,\n",
        "        otherwise return a consistent type\n",
        "    \n",
        "    Examples\n",
        "    --------\n",
        "    # DataFrame result\n",
        "    >>> data.groupby(func, axis=0).mean()\n",
        "    \n",
        "    # DataFrame result\n",
        "    >>> data.groupby(['col1', 'col2'])['col3'].mean()\n",
        "    \n",
        "    # DataFrame with hierarchical index\n",
        "    >>> data.groupby(['col1', 'col2']).mean()\n",
        "    \n",
        "    Returns\n",
        "    -------\n",
        "    GroupBy object\n",
        "\n"
       ]
      }
     ],
     "prompt_number": 216
    },
    {
     "cell_type": "code",
     "collapsed": false,
     "input": [
      "df2 = pd.DataFrame({'a' : ['one','one','two','three','two','one','six'],\n",
      "                 'b' : ['x','y','y','x','y','x','x'],\n",
      "                 'c' : np.random.randn(7)})\n",
      "print df2\n"
     ],
     "language": "python",
     "metadata": {
      "slideshow": {
       "slide_type": "fragment"
      }
     },
     "outputs": [
      {
       "output_type": "stream",
       "stream": "stdout",
       "text": [
        "       a  b         c\n",
        "0    one  x -1.115270\n",
        "1    one  y -0.391332\n",
        "2    two  y  1.513740\n",
        "3  three  x  0.606864\n",
        "4    two  y -0.390764\n",
        "5    one  x -0.679077\n",
        "6    six  x  0.562380\n",
        "\n",
        "[7 rows x 3 columns]\n"
       ]
      }
     ],
     "prompt_number": 213
    },
    {
     "cell_type": "code",
     "collapsed": false,
     "input": [
      "print df2.groupby('a') #creates a groupby object"
     ],
     "language": "python",
     "metadata": {
      "slideshow": {
       "slide_type": "fragment"
      }
     },
     "outputs": [
      {
       "output_type": "stream",
       "stream": "stdout",
       "text": [
        "<pandas.core.groupby.DataFrameGroupBy object at 0x107ac8390>\n"
       ]
      }
     ],
     "prompt_number": 219
    },
    {
     "cell_type": "code",
     "collapsed": false,
     "input": [
      "#gropuing requires an aggregate function\n",
      "print df2.groupby('a').mean() #creates a groupby object"
     ],
     "language": "python",
     "metadata": {
      "slideshow": {
       "slide_type": "fragment"
      }
     },
     "outputs": [
      {
       "output_type": "stream",
       "stream": "stdout",
       "text": [
        "              c\n",
        "a              \n",
        "one   -0.728560\n",
        "six    0.562380\n",
        "three  0.606864\n",
        "two    0.561488\n",
        "\n",
        "[4 rows x 1 columns]\n"
       ]
      }
     ],
     "prompt_number": 220
    },
    {
     "cell_type": "code",
     "collapsed": false,
     "input": [
      "#works on multiple levels\n",
      "print df2.groupby(['a','b']).mean()"
     ],
     "language": "python",
     "metadata": {
      "slideshow": {
       "slide_type": "fragment"
      }
     },
     "outputs": [
      {
       "output_type": "stream",
       "stream": "stdout",
       "text": [
        "                c\n",
        "a     b          \n",
        "one   x -0.897174\n",
        "      y -0.391332\n",
        "six   x  0.562380\n",
        "three x  0.606864\n",
        "two   y  0.561488\n",
        "\n",
        "[5 rows x 1 columns]\n"
       ]
      }
     ],
     "prompt_number": 223
    },
    {
     "cell_type": "markdown",
     "metadata": {
      "slideshow": {
       "slide_type": "slide"
      }
     },
     "source": [
      "# 6. IO Tools\n",
      "\n",
      "The Pandas I/O api is a set of top level reader functions accessed like `pd.read_csv()` that generally return a pandas object.\n",
      "* read_csv\n",
      "* read_excel\n",
      "* read_hdf\n",
      "* read_sql\n",
      "* read_json\n",
      "* read_msgpack (experimental) \n",
      "* read_html\n",
      "* read_gbq (experimental)\n",
      "* read_stata\n",
      "* read_clipboard\n",
      "* read_pickle\n",
      "\n",
      "The corresponding writer functions are object methods that are accessed like df.to_csv() \u2022 to_csv\n",
      "* to_excel\n",
      "* to_hdf\n",
      "* to_sql\n",
      "* to_json\n",
      "* to_msgpack (experimental) \u2022 to_html\n",
      "* to_gbq (experimental) \u2022 to_stata\n",
      "* to_clipboard\n",
      "* to_pickle\n"
     ]
    },
    {
     "cell_type": "markdown",
     "metadata": {
      "slideshow": {
       "slide_type": "subslide"
      }
     },
     "source": [
      "** Open Data Access **\n",
      "\n",
      "Further, pandas supports some open data APIs, namely\n",
      "\n",
      "* Yahoo! Finance\n",
      "* Google Finance\n",
      "* St. Louis FED (FRED)\n",
      "* Kenneth French\u2019s data library \n",
      "* World Bank"
     ]
    },
    {
     "cell_type": "markdown",
     "metadata": {
      "slideshow": {
       "slide_type": "subslide"
      }
     },
     "source": [
      "#6.1 Loading the Weather Data from the CSV\n",
      "\n",
      "In this example we load the weather datafrom the data directory ( \"data\\weather_data.csv\") "
     ]
    },
    {
     "cell_type": "code",
     "collapsed": false,
     "input": [
      "#! executes a shell command\n",
      "!ls data"
     ],
     "language": "python",
     "metadata": {
      "slideshow": {
       "slide_type": "fragment"
      }
     },
     "outputs": [
      {
       "output_type": "stream",
       "stream": "stdout",
       "text": [
        "cordisfp7noabstracts.xls weather_data.csv\r\n"
       ]
      }
     ],
     "prompt_number": 227
    },
    {
     "cell_type": "code",
     "collapsed": false,
     "input": [
      "!cat data/weather_data.csv"
     ],
     "language": "python",
     "metadata": {
      "slideshow": {
       "slide_type": "fragment"
      }
     },
     "outputs": [
      {
       "output_type": "stream",
       "stream": "stdout",
       "text": [
        "Day,outlook,temperature,humidity,windy,play\r\n",
        "1,sunny,85,85,false,no\r\n",
        "2,sunny,80,90,true,no\r\n",
        "3,overcast,83,86,false,yes\r\n",
        "4,rainy,70,96,false,yes\r\n",
        "5,rainy,68,80,false,yes\r\n",
        "6,rainy,65,70,true,no\r\n",
        "7,overcast,64,65,true,yes\r\n"
       ]
      }
     ],
     "prompt_number": 229
    },
    {
     "cell_type": "code",
     "collapsed": false,
     "input": [
      "df = pd.read_csv(\"data/weather_data.csv\")\n",
      "print df"
     ],
     "language": "python",
     "metadata": {
      "slideshow": {
       "slide_type": "fragment"
      }
     },
     "outputs": [
      {
       "output_type": "stream",
       "stream": "stdout",
       "text": [
        "   Day   outlook  temperature  humidity  windy play\n",
        "0    1     sunny           85        85  False   no\n",
        "1    2     sunny           80        90   True   no\n",
        "2    3  overcast           83        86  False  yes\n",
        "3    4     rainy           70        96  False  yes\n",
        "4    5     rainy           68        80  False  yes\n",
        "5    6     rainy           65        70   True   no\n",
        "6    7  overcast           64        65   True  yes\n",
        "\n",
        "[7 rows x 6 columns]\n"
       ]
      }
     ],
     "prompt_number": 231
    },
    {
     "cell_type": "code",
     "collapsed": false,
     "input": [
      "#use help to see the parameters \n",
      "pd.read_csv?"
     ],
     "language": "python",
     "metadata": {
      "slideshow": {
       "slide_type": "fragment"
      }
     },
     "outputs": [],
     "prompt_number": 107
    },
    {
     "cell_type": "markdown",
     "metadata": {
      "slideshow": {
       "slide_type": "slide"
      }
     },
     "source": [
      "## Exercise 6.1. Analysing New York City Open Data with Pandas\n",
      "\n",
      "Go to the exercise folder and conduct exercise 6.1."
     ]
    },
    {
     "cell_type": "markdown",
     "metadata": {
      "slideshow": {
       "slide_type": "slide"
      }
     },
     "source": [
      "# 7 Visualisations with Pandas\n",
      "\n",
      "Pandas has a number of build in visualisations using data frames.\n",
      "\n",
      "The default visualisations are build on top of mathplotlib (see  [Mathplotlib in a Nutshell](http://nbviewer.ipython.org/urls/raw.github.com/mgrani/LODA-lecture-notes-on-data-analysis/master/1.SP-in-Python/SPiP-5-Matplotlib.ipynb) for an introduction to Mathplotlib)\n",
      "\n",
      "Hence, `mathplotlib` has to be imported"
     ]
    },
    {
     "cell_type": "code",
     "collapsed": false,
     "input": [
      "import matplotlib.pyplot as plt"
     ],
     "language": "python",
     "metadata": {
      "slideshow": {
       "slide_type": "fragment"
      }
     },
     "outputs": [],
     "prompt_number": 2
    },
    {
     "cell_type": "code",
     "collapsed": false,
     "input": [
      "#to enable nicer plots\n",
      "pd.options.display.mpl_style = 'default'"
     ],
     "language": "python",
     "metadata": {
      "slideshow": {
       "slide_type": "fragment"
      }
     },
     "outputs": [],
     "prompt_number": 6
    },
    {
     "cell_type": "code",
     "collapsed": false,
     "input": [
      "#and enable to include plots inline in HTML\n",
      "%pylab inline"
     ],
     "language": "python",
     "metadata": {
      "slideshow": {
       "slide_type": "fragment"
      }
     },
     "outputs": [
      {
       "output_type": "stream",
       "stream": "stdout",
       "text": [
        "Populating the interactive namespace from numpy and matplotlib\n"
       ]
      }
     ],
     "prompt_number": 3
    },
    {
     "cell_type": "markdown",
     "metadata": {
      "slideshow": {
       "slide_type": "subslide"
      }
     },
     "source": [
      "## 7.1 Basic Plotting: using `plot``\n",
      "\n",
      "The plot method on Series and DataFrame is just a simple wrapper around `plt.plot()`from the mathplotlib library\n",
      "\ufffc\ufffc"
     ]
    },
    {
     "cell_type": "code",
     "collapsed": false,
     "input": [
      "ts = pd.Series(np.random.randn(1000), index=pd.date_range('1/1/2000', periods=1000))\n",
      "ts = ts.cumsum() #cumulative sum\n",
      "ts.plot()\n",
      "ts.cumsum?"
     ],
     "language": "python",
     "metadata": {
      "slideshow": {
       "slide_type": "fragment"
      }
     },
     "outputs": [
      {
       "ename": "NameError",
       "evalue": "name 'pd' is not defined",
       "output_type": "pyerr",
       "traceback": [
        "\u001b[0;31m---------------------------------------------------------------------------\u001b[0m\n\u001b[0;31mNameError\u001b[0m                                 Traceback (most recent call last)",
        "\u001b[0;32m<ipython-input-2-b2a0274359a4>\u001b[0m in \u001b[0;36m<module>\u001b[0;34m()\u001b[0m\n\u001b[0;32m----> 1\u001b[0;31m \u001b[0mts\u001b[0m \u001b[0;34m=\u001b[0m \u001b[0mpd\u001b[0m\u001b[0;34m.\u001b[0m\u001b[0mSeries\u001b[0m\u001b[0;34m(\u001b[0m\u001b[0mnp\u001b[0m\u001b[0;34m.\u001b[0m\u001b[0mrandom\u001b[0m\u001b[0;34m.\u001b[0m\u001b[0mrandn\u001b[0m\u001b[0;34m(\u001b[0m\u001b[0;36m1000\u001b[0m\u001b[0;34m)\u001b[0m\u001b[0;34m,\u001b[0m \u001b[0mindex\u001b[0m\u001b[0;34m=\u001b[0m\u001b[0mpd\u001b[0m\u001b[0;34m.\u001b[0m\u001b[0mdate_range\u001b[0m\u001b[0;34m(\u001b[0m\u001b[0;34m'1/1/2000'\u001b[0m\u001b[0;34m,\u001b[0m \u001b[0mperiods\u001b[0m\u001b[0;34m=\u001b[0m\u001b[0;36m1000\u001b[0m\u001b[0;34m)\u001b[0m\u001b[0;34m)\u001b[0m\u001b[0;34m\u001b[0m\u001b[0m\n\u001b[0m\u001b[1;32m      2\u001b[0m \u001b[0mts\u001b[0m \u001b[0;34m=\u001b[0m \u001b[0mts\u001b[0m\u001b[0;34m.\u001b[0m\u001b[0mcumsum\u001b[0m\u001b[0;34m(\u001b[0m\u001b[0;34m)\u001b[0m \u001b[0;31m#cumulative sum\u001b[0m\u001b[0;34m\u001b[0m\u001b[0m\n\u001b[1;32m      3\u001b[0m \u001b[0mts\u001b[0m\u001b[0;34m.\u001b[0m\u001b[0mplot\u001b[0m\u001b[0;34m(\u001b[0m\u001b[0;34m)\u001b[0m\u001b[0;34m\u001b[0m\u001b[0m\n\u001b[1;32m      4\u001b[0m \u001b[0mget_ipython\u001b[0m\u001b[0;34m(\u001b[0m\u001b[0;34m)\u001b[0m\u001b[0;34m.\u001b[0m\u001b[0mmagic\u001b[0m\u001b[0;34m(\u001b[0m\u001b[0;34mu'pinfo ts.cumsum'\u001b[0m\u001b[0;34m)\u001b[0m\u001b[0;34m\u001b[0m\u001b[0m\n",
        "\u001b[0;31mNameError\u001b[0m: name 'pd' is not defined"
       ]
      }
     ],
     "prompt_number": 2
    },
    {
     "cell_type": "code",
     "collapsed": false,
     "input": [
      "#Plotting a dataframe\n",
      "df = pd.DataFrame(np.random.randn(1000, 4), index=ts.index, columns=list('ABCD'))\n",
      "df=df.cumsum() #cumulative sum to make the plot visually more robust\n",
      "df.plot()"
     ],
     "language": "python",
     "metadata": {
      "slideshow": {
       "slide_type": "fragment"
      }
     },
     "outputs": [
      {
       "ename": "NameError",
       "evalue": "name 'pd' is not defined",
       "output_type": "pyerr",
       "traceback": [
        "\u001b[0;31m---------------------------------------------------------------------------\u001b[0m\n\u001b[0;31mNameError\u001b[0m                                 Traceback (most recent call last)",
        "\u001b[0;32m<ipython-input-1-a00564c1f5ac>\u001b[0m in \u001b[0;36m<module>\u001b[0;34m()\u001b[0m\n\u001b[1;32m      1\u001b[0m \u001b[0;31m#Plotting a dataframe\u001b[0m\u001b[0;34m\u001b[0m\u001b[0;34m\u001b[0m\u001b[0m\n\u001b[0;32m----> 2\u001b[0;31m \u001b[0mdf\u001b[0m \u001b[0;34m=\u001b[0m \u001b[0mpd\u001b[0m\u001b[0;34m.\u001b[0m\u001b[0mDataFrame\u001b[0m\u001b[0;34m(\u001b[0m\u001b[0mnp\u001b[0m\u001b[0;34m.\u001b[0m\u001b[0mrandom\u001b[0m\u001b[0;34m.\u001b[0m\u001b[0mrandn\u001b[0m\u001b[0;34m(\u001b[0m\u001b[0;36m1000\u001b[0m\u001b[0;34m,\u001b[0m \u001b[0;36m4\u001b[0m\u001b[0;34m)\u001b[0m\u001b[0;34m,\u001b[0m \u001b[0mindex\u001b[0m\u001b[0;34m=\u001b[0m\u001b[0mts\u001b[0m\u001b[0;34m.\u001b[0m\u001b[0mindex\u001b[0m\u001b[0;34m,\u001b[0m \u001b[0mcolumns\u001b[0m\u001b[0;34m=\u001b[0m\u001b[0mlist\u001b[0m\u001b[0;34m(\u001b[0m\u001b[0;34m'ABCD'\u001b[0m\u001b[0;34m)\u001b[0m\u001b[0;34m)\u001b[0m\u001b[0;34m\u001b[0m\u001b[0m\n\u001b[0m\u001b[1;32m      3\u001b[0m \u001b[0;31m#df=df.cumsum() #cumulative sum to make the plot visually more robust\u001b[0m\u001b[0;34m\u001b[0m\u001b[0;34m\u001b[0m\u001b[0m\n\u001b[1;32m      4\u001b[0m \u001b[0mdf\u001b[0m\u001b[0;34m.\u001b[0m\u001b[0mplot\u001b[0m\u001b[0;34m(\u001b[0m\u001b[0;34m)\u001b[0m\u001b[0;34m\u001b[0m\u001b[0m\n",
        "\u001b[0;31mNameError\u001b[0m: name 'pd' is not defined"
       ]
      }
     ],
     "prompt_number": 1
    },
    {
     "cell_type": "code",
     "collapsed": false,
     "input": [
      "df['A']=np.abs(df['A']).cumsum() # make A ever increasing\n",
      "df.plot(x='A',y='B') #Plot A vs. B"
     ],
     "language": "python",
     "metadata": {
      "slideshow": {
       "slide_type": "fragment"
      }
     },
     "outputs": [
      {
       "metadata": {},
       "output_type": "pyout",
       "prompt_number": 16,
       "text": [
        "<matplotlib.axes.AxesSubplot at 0x11431c450>"
       ]
      },
      {
       "metadata": {},
       "output_type": "display_data",
       "png": "[encoded data removed]",
       "text": [
        "<matplotlib.figure.Figure at 0x114251f50>"
       ]
      }
     ],
     "prompt_number": 16
    },
    {
     "cell_type": "markdown",
     "metadata": {
      "slideshow": {
       "slide_type": "subslide"
      }
     },
     "source": [
      "#7.2. Changing the plot `kind`\n",
      "\n",
      "The keyword argument `kind` of the plot function allows to change the plot type.\n",
      "\n",
      "Available types are:\n",
      "\n",
      "* `bar` or  `barh` for bar plots\n",
      "* `kde` or `density` for density plots\n",
      "* `area` for area plots\n",
      "* `scatter` for scater plots\n",
      "* `hexbin` for hexagonal bin plots\n",
      "* `pie` for pie pots\n",
      "\n",
      "In addition to these `kind`'s, there are the `DataFrame.hist()`, and `DataFrame.boxplot()` methods, which use a separate interface.\n",
      "\n",
      "Finally, there are several plotting functions in `pandas.tools.plotting`:\n",
      "* Scatter Matrix\n",
      "* Andrews Curves\n",
      "* Parallel Coordinates\n",
      "* Lag Plot\n",
      "* Autocorrelation Plot\n",
      "* Bootstrap Plot\n",
      "* RadViz\n"
     ]
    },
    {
     "cell_type": "markdown",
     "metadata": {
      "slideshow": {
       "slide_type": "subslide"
      }
     },
     "source": [
      "#### Bar Plots"
     ]
    },
    {
     "cell_type": "code",
     "collapsed": false,
     "input": [
      "df.ix[5].plot(kind='bar'); plt.axhline(0, color='k') "
     ],
     "language": "python",
     "metadata": {
      "slideshow": {
       "slide_type": "fragment"
      }
     },
     "outputs": [
      {
       "metadata": {},
       "output_type": "pyout",
       "prompt_number": 19,
       "text": [
        "<matplotlib.lines.Line2D at 0x1145b6a10>"
       ]
      },
      {
       "metadata": {},
       "output_type": "display_data",
       "png": "[encoded data removed]",
       "text": [
        "<matplotlib.figure.Figure at 0x1145c3990>"
       ]
      }
     ],
     "prompt_number": 19
    },
    {
     "cell_type": "code",
     "collapsed": false,
     "input": [
      "#data frame\n",
      "df2 = pd.DataFrame(rand(10, 4), columns=['a', 'b', 'c', 'd'])\n",
      "df2.plot(kind='bar');"
     ],
     "language": "python",
     "metadata": {
      "slideshow": {
       "slide_type": "fragment"
      }
     },
     "outputs": [
      {
       "metadata": {},
       "output_type": "display_data",
       "png": "[encoded data removed]",
       "text": [
        "<matplotlib.figure.Figure at 0x1146f7890>"
       ]
      }
     ],
     "prompt_number": 22
    },
    {
     "cell_type": "code",
     "collapsed": false,
     "input": [
      "#stacked\n",
      "df2.plot(kind='bar',stacked=True)"
     ],
     "language": "python",
     "metadata": {
      "slideshow": {
       "slide_type": "fragment"
      }
     },
     "outputs": [
      {
       "metadata": {},
       "output_type": "pyout",
       "prompt_number": 23,
       "text": [
        "<matplotlib.axes.AxesSubplot at 0x114770510>"
       ]
      },
      {
       "metadata": {},
       "output_type": "display_data",
       "png": "[encoded data removed]",
       "text": [
        "<matplotlib.figure.Figure at 0x114776090>"
       ]
      }
     ],
     "prompt_number": 23
    },
    {
     "cell_type": "code",
     "collapsed": false,
     "input": [
      "#stacked horizontal\n",
      "df2.plot(kind='barh',stacked=True)"
     ],
     "language": "python",
     "metadata": {
      "slideshow": {
       "slide_type": "fragment"
      }
     },
     "outputs": [
      {
       "metadata": {},
       "output_type": "pyout",
       "prompt_number": 24,
       "text": [
        "<matplotlib.axes.AxesSubplot at 0x11485c150>"
       ]
      },
      {
       "metadata": {},
       "output_type": "display_data",
       "png": "[encoded data removed]",
       "text": [
        "<matplotlib.figure.Figure at 0x1144bc350>"
       ]
      }
     ],
     "prompt_number": 24
    },
    {
     "cell_type": "markdown",
     "metadata": {
      "slideshow": {
       "slide_type": "subslide"
      }
     },
     "source": [
      "#### Histograms"
     ]
    },
    {
     "cell_type": "code",
     "collapsed": false,
     "input": [
      "#histogram of a series. Note we apply diff to undo the cumsum before\n",
      "print df['A'].diff()\n",
      "df['A'].diff().hist()"
     ],
     "language": "python",
     "metadata": {
      "slideshow": {
       "slide_type": "fragment"
      }
     },
     "outputs": [
      {
       "output_type": "stream",
       "stream": "stdout",
       "text": [
        "2000-01-01         NaN\n",
        "2000-01-02   -0.411979\n",
        "2000-01-03   -0.753379\n",
        "2000-01-04   -1.136846\n",
        "2000-01-05    0.222089\n",
        "2000-01-06   -0.016499\n",
        "2000-01-07   -0.405356\n",
        "2000-01-08   -0.371212\n",
        "2000-01-09    1.994146\n",
        "2000-01-10   -0.472911\n",
        "2000-01-11    2.086219\n",
        "2000-01-12   -0.113366\n",
        "2000-01-13   -0.237999\n",
        "2000-01-14    0.859727\n",
        "2000-01-15   -0.410979\n",
        "...\n",
        "2002-09-12    0.250315\n",
        "2002-09-13    0.109903\n",
        "2002-09-14    1.924514\n",
        "2002-09-15    0.970781\n",
        "2002-09-16    0.121563\n",
        "2002-09-17   -1.407579\n",
        "2002-09-18   -0.728307\n",
        "2002-09-19   -0.052168\n",
        "2002-09-20   -0.959154\n",
        "2002-09-21    0.895658\n",
        "2002-09-22   -1.271050\n",
        "2002-09-23    0.351894\n",
        "2002-09-24    1.911881\n",
        "2002-09-25   -0.376373\n",
        "2002-09-26   -0.002231\n",
        "Freq: D, Name: A, Length: 1000\n"
       ]
      },
      {
       "metadata": {},
       "output_type": "pyout",
       "prompt_number": 30,
       "text": [
        "<matplotlib.axes.AxesSubplot at 0x114a59dd0>"
       ]
      },
      {
       "metadata": {},
       "output_type": "display_data",
       "png": "[encoded data removed]",
       "text": [
        "<matplotlib.figure.Figure at 0x114a5cd10>"
       ]
      }
     ],
     "prompt_number": 30
    },
    {
     "cell_type": "code",
     "collapsed": false,
     "input": [
      "#histogram of a Data Frame. Note we apply diff to undo the cumsum before\n",
      "df.diff().hist(color='k', alpha=0.5, bins=50)"
     ],
     "language": "python",
     "metadata": {},
     "outputs": [
      {
       "metadata": {},
       "output_type": "pyout",
       "prompt_number": 31,
       "text": [
        "array([[<matplotlib.axes.AxesSubplot object at 0x114afdb90>,\n",
        "        <matplotlib.axes.AxesSubplot object at 0x114bb3390>],\n",
        "       [<matplotlib.axes.AxesSubplot object at 0x114c371d0>,\n",
        "        <matplotlib.axes.AxesSubplot object at 0x114c54710>]], dtype=object)"
       ]
      },
      {
       "metadata": {},
       "output_type": "display_data",
       "png": "[encoded data removed]",
       "text": [
        "<matplotlib.figure.Figure at 0x114b88d10>"
       ]
      }
     ],
     "prompt_number": 31
    },
    {
     "cell_type": "markdown",
     "metadata": {
      "slideshow": {
       "slide_type": "subslide"
      }
     },
     "source": [
      "#### Box Plots\n"
     ]
    },
    {
     "cell_type": "code",
     "collapsed": false,
     "input": [
      "df = pd.DataFrame(rand(10,5))\n",
      "print df\n",
      "bp = df.boxplot()"
     ],
     "language": "python",
     "metadata": {
      "slideshow": {
       "slide_type": "fragment"
      }
     },
     "outputs": [
      {
       "output_type": "stream",
       "stream": "stdout",
       "text": [
        "          0         1         2         3         4\n",
        "0  0.666224  0.393628  0.222618  0.316855  0.097431\n",
        "1  0.243752  0.459601  0.721334  0.452259  0.593016\n",
        "2  0.113163  0.714574  0.743872  0.848850  0.697727\n",
        "3  0.260933  0.112996  0.646506  0.991783  0.359118\n",
        "4  0.163957  0.727194  0.748078  0.388492  0.200461\n",
        "5  0.265430  0.903168  0.075349  0.490278  0.121176\n",
        "6  0.747577  0.256656  0.599358  0.729504  0.516326\n",
        "7  0.033787  0.767497  0.256746  0.372445  0.880377\n",
        "8  0.282964  0.238085  0.526137  0.540515  0.147123\n",
        "9  0.825188  0.378844  0.500666  0.813328  0.628897\n",
        "\n",
        "[10 rows x 5 columns]\n"
       ]
      },
      {
       "metadata": {},
       "output_type": "display_data",
       "png": "[encoded data removed]",
       "text": [
        "<matplotlib.figure.Figure at 0x114b1d350>"
       ]
      }
     ],
     "prompt_number": 34
    },
    {
     "cell_type": "code",
     "collapsed": false,
     "input": [
      "df = pd.DataFrame(rand(10,2), columns=['Col1', 'Col2'] )\n",
      "df['X'] = pd.Series(['A','A','A','A','A','B','B','B','B','B'])\n",
      "#group boxplot by a series\n",
      "bp = df.boxplot(by='X')"
     ],
     "language": "python",
     "metadata": {
      "slideshow": {
       "slide_type": "fragment"
      }
     },
     "outputs": [
      {
       "metadata": {},
       "output_type": "display_data",
       "png": "[encoded data removed]",
       "text": [
        "<matplotlib.figure.Figure at 0x114dc2450>"
       ]
      }
     ],
     "prompt_number": 37
    },
    {
     "cell_type": "markdown",
     "metadata": {
      "slideshow": {
       "slide_type": "subslide"
      }
     },
     "source": [
      "#### Area Plot"
     ]
    },
    {
     "cell_type": "code",
     "collapsed": false,
     "input": [
      "#note only available in pandas 0.14\n",
      "print pd.__version__\n",
      "df = pd.DataFrame(rand(10, 4), columns=['a', 'b', 'c', 'd'])\n",
      "df.plot(kind='area')"
     ],
     "language": "python",
     "metadata": {},
     "outputs": [
      {
       "ename": "ValueError",
       "evalue": "Invalid chart type given area",
       "output_type": "pyerr",
       "traceback": [
        "\u001b[0;31m---------------------------------------------------------------------------\u001b[0m\n\u001b[0;31mValueError\u001b[0m                                Traceback (most recent call last)",
        "\u001b[0;32m<ipython-input-44-1516617606f8>\u001b[0m in \u001b[0;36m<module>\u001b[0;34m()\u001b[0m\n\u001b[1;32m      1\u001b[0m \u001b[0mdf\u001b[0m \u001b[0;34m=\u001b[0m \u001b[0mpd\u001b[0m\u001b[0;34m.\u001b[0m\u001b[0mDataFrame\u001b[0m\u001b[0;34m(\u001b[0m\u001b[0mrand\u001b[0m\u001b[0;34m(\u001b[0m\u001b[0;36m10\u001b[0m\u001b[0;34m,\u001b[0m \u001b[0;36m4\u001b[0m\u001b[0;34m)\u001b[0m\u001b[0;34m,\u001b[0m \u001b[0mcolumns\u001b[0m\u001b[0;34m=\u001b[0m\u001b[0;34m[\u001b[0m\u001b[0;34m'a'\u001b[0m\u001b[0;34m,\u001b[0m \u001b[0;34m'b'\u001b[0m\u001b[0;34m,\u001b[0m \u001b[0;34m'c'\u001b[0m\u001b[0;34m,\u001b[0m \u001b[0;34m'd'\u001b[0m\u001b[0;34m]\u001b[0m\u001b[0;34m)\u001b[0m\u001b[0;34m\u001b[0m\u001b[0m\n\u001b[0;32m----> 2\u001b[0;31m \u001b[0mdf\u001b[0m\u001b[0;34m.\u001b[0m\u001b[0mplot\u001b[0m\u001b[0;34m(\u001b[0m\u001b[0mkind\u001b[0m\u001b[0;34m=\u001b[0m\u001b[0;34m'area'\u001b[0m\u001b[0;34m)\u001b[0m\u001b[0;34m\u001b[0m\u001b[0m\n\u001b[0m",
        "\u001b[0;32m/opt/local/Library/Frameworks/Python.framework/Versions/2.7/lib/python2.7/site-packages/pandas/tools/plotting.pyc\u001b[0m in \u001b[0;36mplot_frame\u001b[0;34m(frame, x, y, subplots, sharex, sharey, use_index, figsize, grid, legend, rot, ax, style, title, xlim, ylim, logx, logy, xticks, yticks, kind, sort_columns, fontsize, secondary_y, **kwds)\u001b[0m\n\u001b[1;32m   1692\u001b[0m         \u001b[0mklass\u001b[0m \u001b[0;34m=\u001b[0m \u001b[0mScatterPlot\u001b[0m\u001b[0;34m\u001b[0m\u001b[0m\n\u001b[1;32m   1693\u001b[0m     \u001b[0;32melse\u001b[0m\u001b[0;34m:\u001b[0m\u001b[0;34m\u001b[0m\u001b[0m\n\u001b[0;32m-> 1694\u001b[0;31m         \u001b[0;32mraise\u001b[0m \u001b[0mValueError\u001b[0m\u001b[0;34m(\u001b[0m\u001b[0;34m'Invalid chart type given %s'\u001b[0m \u001b[0;34m%\u001b[0m \u001b[0mkind\u001b[0m\u001b[0;34m)\u001b[0m\u001b[0;34m\u001b[0m\u001b[0m\n\u001b[0m\u001b[1;32m   1695\u001b[0m \u001b[0;34m\u001b[0m\u001b[0m\n\u001b[1;32m   1696\u001b[0m     \u001b[0;32mif\u001b[0m \u001b[0mkind\u001b[0m \u001b[0;34m==\u001b[0m \u001b[0;34m'scatter'\u001b[0m\u001b[0;34m:\u001b[0m\u001b[0;34m\u001b[0m\u001b[0m\n",
        "\u001b[0;31mValueError\u001b[0m: Invalid chart type given area"
       ]
      }
     ],
     "prompt_number": 44
    },
    {
     "cell_type": "markdown",
     "metadata": {
      "slideshow": {
       "slide_type": "subslide"
      }
     },
     "source": [
      "#### Scatter Matrix Plot\n"
     ]
    },
    {
     "cell_type": "code",
     "collapsed": false,
     "input": [
      "from pandas.tools.plotting import scatter_matrix\n",
      "df = pd.DataFrame(randn(1000, 4), columns=['a', 'b', 'c', 'd'])\n",
      "scatter_matrix(df, alpha=0.2, figsize=(6, 6), diagonal='kde')\n"
     ],
     "language": "python",
     "metadata": {
      "slideshow": {
       "slide_type": "fragment"
      }
     },
     "outputs": [
      {
       "metadata": {},
       "output_type": "pyout",
       "prompt_number": 46,
       "text": [
        "array([[<matplotlib.axes.AxesSubplot object at 0x114d6f950>,\n",
        "        <matplotlib.axes.AxesSubplot object at 0x114bbf110>,\n",
        "        <matplotlib.axes.AxesSubplot object at 0x114f25650>,\n",
        "        <matplotlib.axes.AxesSubplot object at 0x114fc81d0>],\n",
        "       [<matplotlib.axes.AxesSubplot object at 0x114fa6a10>,\n",
        "        <matplotlib.axes.AxesSubplot object at 0x114ffe850>,\n",
        "        <matplotlib.axes.AxesSubplot object at 0x11501ca90>,\n",
        "        <matplotlib.axes.AxesSubplot object at 0x1150d8150>],\n",
        "       [<matplotlib.axes.AxesSubplot object at 0x115003f10>,\n",
        "        <matplotlib.axes.AxesSubplot object at 0x11511b690>,\n",
        "        <matplotlib.axes.AxesSubplot object at 0x11513ddd0>,\n",
        "        <matplotlib.axes.AxesSubplot object at 0x11515ca50>],\n",
        "       [<matplotlib.axes.AxesSubplot object at 0x115184610>,\n",
        "        <matplotlib.axes.AxesSubplot object at 0x11516b8d0>,\n",
        "        <matplotlib.axes.AxesSubplot object at 0x1151c5fd0>,\n",
        "        <matplotlib.axes.AxesSubplot object at 0x1151ed4d0>]], dtype=object)"
       ]
      },
      {
       "metadata": {},
       "output_type": "display_data",
       "png": "[encoded data removed]",
       "text": [
        "<matplotlib.figure.Figure at 0x114c64350>"
       ]
      }
     ],
     "prompt_number": 46
    },
    {
     "cell_type": "markdown",
     "metadata": {
      "slideshow": {
       "slide_type": "subslide"
      }
     },
     "source": [
      "#### Density Plots\n",
      "\n",
      "Plot an estimated probability density function (PDE)"
     ]
    },
    {
     "cell_type": "code",
     "collapsed": false,
     "input": [
      "ser = pd.Series(numpy.random.randn(1000))\n",
      "ser.plot(kind='kde')"
     ],
     "language": "python",
     "metadata": {
      "slideshow": {
       "slide_type": "fragment"
      }
     },
     "outputs": [
      {
       "metadata": {},
       "output_type": "pyout",
       "prompt_number": 47,
       "text": [
        "<matplotlib.axes.AxesSubplot at 0x11672dcd0>"
       ]
      },
      {
       "metadata": {},
       "output_type": "display_data",
       "png": "[encoded data removed]",
       "text": [
        "<matplotlib.figure.Figure at 0x114cf0550>"
       ]
      }
     ],
     "prompt_number": 47
    },
    {
     "cell_type": "markdown",
     "metadata": {
      "slideshow": {
       "slide_type": "subslide"
      }
     },
     "source": [
      "#### Andrews Curves\n",
      "\n",
      "Andrews curves allow one to plot multivariate data as a large number of curves that are created using the attributes of samples as coefficients for Fourier series. By coloring these curves differently for each class it is possible to visualize data clustering. Curves belonging to samples of the same class will usually be closer together and form larger structures."
     ]
    },
    {
     "cell_type": "code",
     "collapsed": false,
     "input": [
      "from pandas.tools.plotting import andrews_curves\n",
      "data = pd.read_csv('data/iris.dat')\n",
      "#print data\n",
      "andrews_curves(data, 'Name')"
     ],
     "language": "python",
     "metadata": {
      "slideshow": {
       "slide_type": "fragment"
      }
     },
     "outputs": [
      {
       "metadata": {},
       "output_type": "pyout",
       "prompt_number": 54,
       "text": [
        "<matplotlib.axes.AxesSubplot at 0x116b3c150>"
       ]
      },
      {
       "metadata": {},
       "output_type": "display_data",
       "png": "[encoded data removed]",
       "text": [
        "<matplotlib.figure.Figure at 0x1169fa1d0>"
       ]
      }
     ],
     "prompt_number": 54
    },
    {
     "cell_type": "markdown",
     "metadata": {
      "slideshow": {
       "slide_type": "subslide"
      }
     },
     "source": [
      "#### Parallel Coordinates\n",
      "\n",
      "Parallel coordinates is a plotting technique for plotting multivariate data. It allows one to see clusters in data and to estimate other statistics visually. Using parallel coordinates points are represented as connected line segments. Each vertical line represents one attribute. One set of connected line segments represents one data point. Points that tend to cluster will appear closer together."
     ]
    },
    {
     "cell_type": "code",
     "collapsed": false,
     "input": [
      "from pandas.tools.plotting import parallel_coordinates\n",
      "parallel_coordinates(data, 'Name')"
     ],
     "language": "python",
     "metadata": {
      "slideshow": {
       "slide_type": "fragment"
      }
     },
     "outputs": [
      {
       "metadata": {},
       "output_type": "pyout",
       "prompt_number": 55,
       "text": [
        "<matplotlib.axes.AxesSubplot at 0x116cb2c90>"
       ]
      },
      {
       "metadata": {},
       "output_type": "display_data",
       "png": "[encoded data removed]",
       "text": [
        "<matplotlib.figure.Figure at 0x116b37550>"
       ]
      }
     ],
     "prompt_number": 55
    },
    {
     "cell_type": "markdown",
     "metadata": {
      "slideshow": {
       "slide_type": "subslide"
      }
     },
     "source": [
      "#### Rad Viz\n",
      "\n",
      "RadViz is a way of visualizing multi-variate data. It is based on a simple spring tension minimization algorithm. Basically you set up a bunch of points in a plane. In our case they are equally spaced on a unit circle. Each point represents a single attribute. You then pretend that each sample in the data set is attached to each of these points by a spring, the stiffness of which is proportional to the numerical value of that attribute (they are normalized to unit interval). The point in the plane, where our sample settles to (where the forces acting on our sample are at an equilibrium) is where a dot representing our sample will be drawn. Depending on which class that sample belongs it will be colored differently."
     ]
    },
    {
     "cell_type": "code",
     "collapsed": false,
     "input": [
      "from pandas.tools.plotting import radviz\n",
      "radviz(data, 'Name')"
     ],
     "language": "python",
     "metadata": {
      "slideshow": {
       "slide_type": "fragment"
      }
     },
     "outputs": [
      {
       "ename": "ValueError",
       "evalue": "max() arg is an empty sequence",
       "output_type": "pyerr",
       "traceback": [
        "\u001b[0;31m---------------------------------------------------------------------------\u001b[0m\n\u001b[0;31mValueError\u001b[0m                                Traceback (most recent call last)",
        "\u001b[0;32m<ipython-input-56-897a10851ae3>\u001b[0m in \u001b[0;36m<module>\u001b[0;34m()\u001b[0m\n\u001b[1;32m      1\u001b[0m \u001b[0;32mfrom\u001b[0m \u001b[0mpandas\u001b[0m\u001b[0;34m.\u001b[0m\u001b[0mtools\u001b[0m\u001b[0;34m.\u001b[0m\u001b[0mplotting\u001b[0m \u001b[0;32mimport\u001b[0m \u001b[0mradviz\u001b[0m\u001b[0;34m\u001b[0m\u001b[0m\n\u001b[0;32m----> 2\u001b[0;31m \u001b[0mradviz\u001b[0m\u001b[0;34m(\u001b[0m\u001b[0mdata\u001b[0m\u001b[0;34m,\u001b[0m \u001b[0;34m'Name'\u001b[0m\u001b[0;34m)\u001b[0m\u001b[0;34m\u001b[0m\u001b[0m\n\u001b[0m",
        "\u001b[0;32m/opt/local/Library/Frameworks/Python.framework/Versions/2.7/lib/python2.7/site-packages/pandas/tools/plotting.pyc\u001b[0m in \u001b[0;36mradviz\u001b[0;34m(frame, class_column, ax, colormap, **kwds)\u001b[0m\n\u001b[1;32m    414\u001b[0m         ax.scatter(to_plot[class_][0], to_plot[class_][1], color=colors[i],\n\u001b[1;32m    415\u001b[0m                    label=com.pprint_thing(class_), **kwds)\n\u001b[0;32m--> 416\u001b[0;31m     \u001b[0max\u001b[0m\u001b[0;34m.\u001b[0m\u001b[0mlegend\u001b[0m\u001b[0;34m(\u001b[0m\u001b[0;34m)\u001b[0m\u001b[0;34m\u001b[0m\u001b[0m\n\u001b[0m\u001b[1;32m    417\u001b[0m \u001b[0;34m\u001b[0m\u001b[0m\n\u001b[1;32m    418\u001b[0m     \u001b[0max\u001b[0m\u001b[0;34m.\u001b[0m\u001b[0madd_patch\u001b[0m\u001b[0;34m(\u001b[0m\u001b[0mpatches\u001b[0m\u001b[0;34m.\u001b[0m\u001b[0mCircle\u001b[0m\u001b[0;34m(\u001b[0m\u001b[0;34m(\u001b[0m\u001b[0;36m0.0\u001b[0m\u001b[0;34m,\u001b[0m \u001b[0;36m0.0\u001b[0m\u001b[0;34m)\u001b[0m\u001b[0;34m,\u001b[0m \u001b[0mradius\u001b[0m\u001b[0;34m=\u001b[0m\u001b[0;36m1.0\u001b[0m\u001b[0;34m,\u001b[0m \u001b[0mfacecolor\u001b[0m\u001b[0;34m=\u001b[0m\u001b[0;34m'none'\u001b[0m\u001b[0;34m)\u001b[0m\u001b[0;34m)\u001b[0m\u001b[0;34m\u001b[0m\u001b[0m\n",
        "\u001b[0;32m/opt/local/Library/Frameworks/Python.framework/Versions/2.7/lib/python2.7/site-packages/matplotlib/axes.pyc\u001b[0m in \u001b[0;36mlegend\u001b[0;34m(self, *args, **kwargs)\u001b[0m\n\u001b[1;32m   4776\u001b[0m         \u001b[0;31m# handles = cbook.flatten(handles)\u001b[0m\u001b[0;34m\u001b[0m\u001b[0;34m\u001b[0m\u001b[0m\n\u001b[1;32m   4777\u001b[0m \u001b[0;34m\u001b[0m\u001b[0m\n\u001b[0;32m-> 4778\u001b[0;31m         \u001b[0mself\u001b[0m\u001b[0;34m.\u001b[0m\u001b[0mlegend_\u001b[0m \u001b[0;34m=\u001b[0m \u001b[0mmlegend\u001b[0m\u001b[0;34m.\u001b[0m\u001b[0mLegend\u001b[0m\u001b[0;34m(\u001b[0m\u001b[0mself\u001b[0m\u001b[0;34m,\u001b[0m \u001b[0mhandles\u001b[0m\u001b[0;34m,\u001b[0m \u001b[0mlabels\u001b[0m\u001b[0;34m,\u001b[0m \u001b[0;34m**\u001b[0m\u001b[0mkwargs\u001b[0m\u001b[0;34m)\u001b[0m\u001b[0;34m\u001b[0m\u001b[0m\n\u001b[0m\u001b[1;32m   4779\u001b[0m         \u001b[0;32mreturn\u001b[0m \u001b[0mself\u001b[0m\u001b[0;34m.\u001b[0m\u001b[0mlegend_\u001b[0m\u001b[0;34m\u001b[0m\u001b[0m\n\u001b[1;32m   4780\u001b[0m \u001b[0;34m\u001b[0m\u001b[0m\n",
        "\u001b[0;32m/opt/local/Library/Frameworks/Python.framework/Versions/2.7/lib/python2.7/site-packages/matplotlib/legend.pyc\u001b[0m in \u001b[0;36m__init__\u001b[0;34m(self, parent, handles, labels, loc, numpoints, markerscale, scatterpoints, scatteryoffsets, prop, fontsize, borderpad, labelspacing, handlelength, handleheight, handletextpad, borderaxespad, columnspacing, ncol, mode, fancybox, shadow, title, framealpha, bbox_to_anchor, bbox_transform, frameon, handler_map)\u001b[0m\n\u001b[1;32m    364\u001b[0m \u001b[0;34m\u001b[0m\u001b[0m\n\u001b[1;32m    365\u001b[0m         \u001b[0;31m# init with null renderer\u001b[0m\u001b[0;34m\u001b[0m\u001b[0;34m\u001b[0m\u001b[0m\n\u001b[0;32m--> 366\u001b[0;31m         \u001b[0mself\u001b[0m\u001b[0;34m.\u001b[0m\u001b[0m_init_legend_box\u001b[0m\u001b[0;34m(\u001b[0m\u001b[0mhandles\u001b[0m\u001b[0;34m,\u001b[0m \u001b[0mlabels\u001b[0m\u001b[0;34m)\u001b[0m\u001b[0;34m\u001b[0m\u001b[0m\n\u001b[0m\u001b[1;32m    367\u001b[0m \u001b[0;34m\u001b[0m\u001b[0m\n\u001b[1;32m    368\u001b[0m         \u001b[0;32mif\u001b[0m \u001b[0mframealpha\u001b[0m \u001b[0;32mis\u001b[0m \u001b[0;32mnot\u001b[0m \u001b[0mNone\u001b[0m\u001b[0;34m:\u001b[0m\u001b[0;34m\u001b[0m\u001b[0m\n",
        "\u001b[0;32m/opt/local/Library/Frameworks/Python.framework/Versions/2.7/lib/python2.7/site-packages/matplotlib/legend.pyc\u001b[0m in \u001b[0;36m_init_legend_box\u001b[0;34m(self, handles, labels)\u001b[0m\n\u001b[1;32m    628\u001b[0m                              \u001b[0;31m#xdescent, ydescent, width, height,\u001b[0m\u001b[0;34m\u001b[0m\u001b[0;34m\u001b[0m\u001b[0m\n\u001b[1;32m    629\u001b[0m                              \u001b[0mfontsize\u001b[0m\u001b[0;34m,\u001b[0m\u001b[0;34m\u001b[0m\u001b[0m\n\u001b[0;32m--> 630\u001b[0;31m                              handlebox)\n\u001b[0m\u001b[1;32m    631\u001b[0m \u001b[0;34m\u001b[0m\u001b[0m\n\u001b[1;32m    632\u001b[0m             \u001b[0mhandle_list\u001b[0m\u001b[0;34m.\u001b[0m\u001b[0mappend\u001b[0m\u001b[0;34m(\u001b[0m\u001b[0mhandle\u001b[0m\u001b[0;34m)\u001b[0m\u001b[0;34m\u001b[0m\u001b[0m\n",
        "\u001b[0;32m/opt/local/Library/Frameworks/Python.framework/Versions/2.7/lib/python2.7/site-packages/matplotlib/legend_handler.pyc\u001b[0m in \u001b[0;36m__call__\u001b[0;34m(self, legend, orig_handle, fontsize, handlebox)\u001b[0m\n\u001b[1;32m    101\u001b[0m         a_list = self.create_artists(legend, orig_handle,\n\u001b[1;32m    102\u001b[0m                                      \u001b[0mxdescent\u001b[0m\u001b[0;34m,\u001b[0m \u001b[0mydescent\u001b[0m\u001b[0;34m,\u001b[0m \u001b[0mwidth\u001b[0m\u001b[0;34m,\u001b[0m \u001b[0mheight\u001b[0m\u001b[0;34m,\u001b[0m \u001b[0mfontsize\u001b[0m\u001b[0;34m,\u001b[0m\u001b[0;34m\u001b[0m\u001b[0m\n\u001b[0;32m--> 103\u001b[0;31m                                      handlebox.get_transform())\n\u001b[0m\u001b[1;32m    104\u001b[0m \u001b[0;34m\u001b[0m\u001b[0m\n\u001b[1;32m    105\u001b[0m         \u001b[0;31m# create_artists will return a list of artists.\u001b[0m\u001b[0;34m\u001b[0m\u001b[0;34m\u001b[0m\u001b[0m\n",
        "\u001b[0;32m/opt/local/Library/Frameworks/Python.framework/Versions/2.7/lib/python2.7/site-packages/matplotlib/legend_handler.pyc\u001b[0m in \u001b[0;36mcreate_artists\u001b[0;34m(self, legend, orig_handle, xdescent, ydescent, width, height, fontsize, trans)\u001b[0m\n\u001b[1;32m    323\u001b[0m \u001b[0;34m\u001b[0m\u001b[0m\n\u001b[1;32m    324\u001b[0m         sizes = self.get_sizes(legend, orig_handle, xdescent, ydescent,\n\u001b[0;32m--> 325\u001b[0;31m                                width, height, fontsize)\n\u001b[0m\u001b[1;32m    326\u001b[0m \u001b[0;34m\u001b[0m\u001b[0m\n\u001b[1;32m    327\u001b[0m         p = self.create_collection(orig_handle, sizes,\n",
        "\u001b[0;32m/opt/local/Library/Frameworks/Python.framework/Versions/2.7/lib/python2.7/site-packages/matplotlib/legend_handler.pyc\u001b[0m in \u001b[0;36mget_sizes\u001b[0;34m(self, legend, orig_handle, xdescent, ydescent, width, height, fontsize)\u001b[0m\n\u001b[1;32m    280\u001b[0m                  xdescent, ydescent, width, height, fontsize):\n\u001b[1;32m    281\u001b[0m         \u001b[0;32mif\u001b[0m \u001b[0mself\u001b[0m\u001b[0;34m.\u001b[0m\u001b[0m_sizes\u001b[0m \u001b[0;32mis\u001b[0m \u001b[0mNone\u001b[0m\u001b[0;34m:\u001b[0m\u001b[0;34m\u001b[0m\u001b[0m\n\u001b[0;32m--> 282\u001b[0;31m             \u001b[0msize_max\u001b[0m \u001b[0;34m=\u001b[0m \u001b[0mmax\u001b[0m\u001b[0;34m(\u001b[0m\u001b[0morig_handle\u001b[0m\u001b[0;34m.\u001b[0m\u001b[0mget_sizes\u001b[0m\u001b[0;34m(\u001b[0m\u001b[0;34m)\u001b[0m\u001b[0;34m)\u001b[0m \u001b[0;34m*\u001b[0m \u001b[0mlegend\u001b[0m\u001b[0;34m.\u001b[0m\u001b[0mmarkerscale\u001b[0m \u001b[0;34m**\u001b[0m \u001b[0;36m2\u001b[0m\u001b[0;34m\u001b[0m\u001b[0m\n\u001b[0m\u001b[1;32m    283\u001b[0m             \u001b[0msize_min\u001b[0m \u001b[0;34m=\u001b[0m \u001b[0mmin\u001b[0m\u001b[0;34m(\u001b[0m\u001b[0morig_handle\u001b[0m\u001b[0;34m.\u001b[0m\u001b[0mget_sizes\u001b[0m\u001b[0;34m(\u001b[0m\u001b[0;34m)\u001b[0m\u001b[0;34m)\u001b[0m \u001b[0;34m*\u001b[0m \u001b[0mlegend\u001b[0m\u001b[0;34m.\u001b[0m\u001b[0mmarkerscale\u001b[0m \u001b[0;34m**\u001b[0m \u001b[0;36m2\u001b[0m\u001b[0;34m\u001b[0m\u001b[0m\n\u001b[1;32m    284\u001b[0m \u001b[0;34m\u001b[0m\u001b[0m\n",
        "\u001b[0;31mValueError\u001b[0m: max() arg is an empty sequence"
       ]
      },
      {
       "metadata": {},
       "output_type": "display_data",
       "png": "[encoded data removed]",
       "text": [
        "<matplotlib.figure.Figure at 0x1169cb0d0>"
       ]
      }
     ],
     "prompt_number": 56
    },
    {
     "cell_type": "markdown",
     "metadata": {
      "slideshow": {
       "slide_type": "slide"
      }
     },
     "source": [
      "### Exercise 6.1.c: Visual Analysis of Complaints in NYC\n",
      "\n",
      "Time to try it out by yourself. Go to to the exercise and try to solve it."
     ]
    },
    {
     "cell_type": "markdown",
     "metadata": {
      "slideshow": {
       "slide_type": "slide"
      }
     },
     "source": [
      "# References\n",
      "\n",
      "* [Pandas Documentation](http://pandas.pydata.org/pandas-docs/stable/)\n",
      "* [Tutorials and Cookbooks] (http://pandas.pydata.org/pandas-docs/stable/tutorials.html)"
     ]
    }
   ],
   "metadata": {}
  }
 ]
}