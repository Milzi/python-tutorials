{
 "cells": [
  {
   "cell_type": "markdown",
   "metadata": {},
   "source": [
    "## I. Install git \n",
    "### 1. For Linux users\n",
    "\n",
    "Use this command to download git in case you don't have it on your system\n",
    "<p>&nbsp;&nbsp;&nbsp;&nbsp;&nbsp;<span style=\"background-color:#d2d2d2\"> &#36; apt-get install git</span></p>\n",
    "\n"
   ]
  },
  {
   "cell_type": "markdown",
   "metadata": {},
   "source": [
    "### 2. For Windows users\n",
    "\n",
    "Download git program from this [website](http://msysgit.github.io).\n",
    "\n",
    "Install the downloaded program.\n"
   ]
  },
  {
   "cell_type": "markdown",
   "metadata": {},
   "source": [
    "### 3. For OS X\n",
    "\n",
    "Download the graphic installer from this [link](http://sourceforge.net/projects/git-osx-installer/)\n"
   ]
  },
  {
   "cell_type": "markdown",
   "metadata": {},
   "source": [
    "## II. Clone git repository\n",
    "### 1. For Windows users\n",
    "\n",
    "Create a Git bash with a right click on the mouse\n",
    "\n",
    "Run the following command in the git terminal to clone the LODA repository:\n",
    "<p>&nbsp;&nbsp;&nbsp;&nbsp;&nbsp;<span style=\"background-color:#d2d2d2\"> &#36; git clone https://github.com/zieglerk/LODA-lecture-notes-on-data-analysis</span></p>\n",
    "\n",
    "### 2. For Linux and OS X users\n",
    "\n",
    "Run the following command in the git terminal in order to clone the LODA repository:\n",
    "<p>&nbsp;&nbsp;&nbsp;&nbsp;&nbsp;<span style=\"background-color:#d2d2d2\"> &#36; git clone https://github.com/zieglerk/LODA-lecture-notes-on-data-analysis</span></p>\n",
    "\n",
    "Run the jupyter notebook via this command:\n",
    "<p>&nbsp;&nbsp;&nbsp;&nbsp;&nbsp;<span style=\"background-color:#d2d2d2\"> &#36; jupyter notebook</span></p>\n",
    "\n",
    "\n",
    "Navigate to LODA-lecture-notes-on-data-analysis folder via the jupyter notebook and then you will have access to all the notebooks.\n",
    "\n"
   ]
  }
 ],
 "metadata": {
  "anaconda-cloud": {},
  "kernelspec": {
   "display_name": "Python [conda root]",
   "language": "python",
   "name": "conda-root-py"
  },
  "language_info": {
   "codemirror_mode": {
    "name": "ipython",
    "version": 3
   },
   "file_extension": ".py",
   "mimetype": "text/x-python",
   "name": "python",
   "nbconvert_exporter": "python",
   "pygments_lexer": "ipython3",
   "version": "3.5.2"
  }
 },
 "nbformat": 4,
 "nbformat_minor": 2
}
