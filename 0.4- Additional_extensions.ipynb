{
 "cells": [
  {
   "cell_type": "markdown",
   "metadata": {},
   "source": [
    "# Jupyter notebook's extensions\n",
    "\n",
    "In this notebook we are going to install some extensions.\n",
    "\n",
    "In your terminal run the following command:\n",
    "\n",
    "<p>&nbsp;&nbsp;&nbsp;&nbsp;&nbsp;<span style=\"background-color:#d2d2d2\"> &#36; conda install mpld3 </span></p>\n",
    "<p>&nbsp;&nbsp;&nbsp;&nbsp;&nbsp;<span style=\"background-color:#d2d2d2\"> &#36; pip install keras </span></p>"
   ]
  },
  {
   "cell_type": "markdown",
   "metadata": {},
   "source": [
    "## Table of content extension \n",
    "\n",
    "Run the following commands in your terminal in order to install toc2 extension:\n",
    "\n",
    "<p>&nbsp;&nbsp;&nbsp;&nbsp;&nbsp;<span style=\"background-color:#d2d2d2\"> &#36; conda install -c conda-forge jupyter_contrib_nbextensions</span></p>\n",
    "<p>&nbsp;&nbsp;&nbsp;&nbsp;&nbsp;<span style=\"background-color:#d2d2d2\"> &#36; jupyter contrib nbextension install --system </span></p>\n",
    "<p>&nbsp;&nbsp;&nbsp;&nbsp;&nbsp;<span style=\"background-color:#d2d2d2\"> &#36; jupyter nbextension enable toc2/main </span></p>\n"
   ]
  },
  {
   "cell_type": "markdown",
   "metadata": {},
   "source": [
    "## Hide code extension\n",
    "\n",
    "Run the following commands in your terminal in order to install hide_code extension:\n",
    "\n",
    "<p>&nbsp;&nbsp;&nbsp;&nbsp;&nbsp;<span style=\"background-color:#d2d2d2\"> &#36; pip install hide_code</span></p>\n",
    "<p>&nbsp;&nbsp;&nbsp;&nbsp;&nbsp;<span style=\"background-color:#d2d2d2\"> &#36; jupyter nbextension install --py hide_code </span></p>\n",
    "<p>&nbsp;&nbsp;&nbsp;&nbsp;&nbsp;<span style=\"background-color:#d2d2d2\"> &#36; jupyter nbextension enable --py hide_code </span></p>\n",
    "<p>&nbsp;&nbsp;&nbsp;&nbsp;&nbsp;<span style=\"background-color:#d2d2d2\"> &#36; jupyter serverextension enable --py hide_code </span></p>\n"
   ]
  }
 ],
 "metadata": {
  "anaconda-cloud": {},
  "kernelspec": {
   "display_name": "Python 3",
   "language": "python",
   "name": "python3"
  },
  "language_info": {
   "codemirror_mode": {
    "name": "ipython",
    "version": 3
   },
   "file_extension": ".py",
   "mimetype": "text/x-python",
   "name": "python",
   "nbconvert_exporter": "python",
   "pygments_lexer": "ipython3",
   "version": "3.6.0"
  },
  "toc": {
   "colors": {
    "hover_highlight": "#DAA520",
    "running_highlight": "#FF0000",
    "selected_highlight": "#FFD700"
   },
   "moveMenuLeft": true,
   "nav_menu": {
    "height": "68px",
    "width": "252px"
   },
   "navigate_menu": true,
   "number_sections": true,
   "sideBar": true,
   "threshold": 4,
   "toc_cell": false,
   "toc_section_display": "block",
   "toc_window_display": false
  }
 },
 "nbformat": 4,
 "nbformat_minor": 2
}
